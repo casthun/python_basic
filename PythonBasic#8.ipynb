{
 "cells": [
  {
   "cell_type": "markdown",
   "id": "aaf21683",
   "metadata": {},
   "source": [
    "## 날짜와 시간\n",
    "- datetime 모듈은 datetime, date, time, timedelta 등의 클래스를 포함함."
   ]
  },
  {
   "cell_type": "markdown",
   "id": "da099704",
   "metadata": {},
   "source": [
    "### datetime.date\n",
    "- date 클래스의 객체는 년월일 정보를 담고 있는 객체임.\n",
    "- 특정한 날짜의 객체를 만들려면 년,월,일을 전달해주면 되고, 오늘 날짜를 얻으려면 today()를 사용"
   ]
  },
  {
   "cell_type": "code",
   "execution_count": 28,
   "id": "8fcc5e20",
   "metadata": {},
   "outputs": [
    {
     "data": {
      "text/plain": [
       "datetime.date(2019, 1, 31)"
      ]
     },
     "execution_count": 28,
     "metadata": {},
     "output_type": "execute_result"
    }
   ],
   "source": [
    "from datetime import date\n",
    "\n",
    "date(2019, 1, 31)"
   ]
  },
  {
   "cell_type": "code",
   "execution_count": 29,
   "id": "97e00de5",
   "metadata": {},
   "outputs": [
    {
     "data": {
      "text/plain": [
       "datetime.date(2023, 2, 20)"
      ]
     },
     "execution_count": 29,
     "metadata": {},
     "output_type": "execute_result"
    }
   ],
   "source": [
    "date.today()"
   ]
  },
  {
   "cell_type": "code",
   "execution_count": 30,
   "id": "9ccbe87e",
   "metadata": {},
   "outputs": [],
   "source": [
    "today = date.today()"
   ]
  },
  {
   "cell_type": "code",
   "execution_count": 31,
   "id": "e416b509",
   "metadata": {},
   "outputs": [
    {
     "data": {
      "text/plain": [
       "datetime.date(2023, 2, 20)"
      ]
     },
     "execution_count": 31,
     "metadata": {},
     "output_type": "execute_result"
    }
   ],
   "source": [
    "today"
   ]
  },
  {
   "cell_type": "code",
   "execution_count": 32,
   "id": "1ca3fa9e",
   "metadata": {},
   "outputs": [
    {
     "data": {
      "text/plain": [
       "2023"
      ]
     },
     "execution_count": 32,
     "metadata": {},
     "output_type": "execute_result"
    }
   ],
   "source": [
    "today.year"
   ]
  },
  {
   "cell_type": "code",
   "execution_count": 33,
   "id": "78102341",
   "metadata": {},
   "outputs": [
    {
     "data": {
      "text/plain": [
       "2"
      ]
     },
     "execution_count": 33,
     "metadata": {},
     "output_type": "execute_result"
    }
   ],
   "source": [
    "today.month"
   ]
  },
  {
   "cell_type": "code",
   "execution_count": 34,
   "id": "8a141326",
   "metadata": {},
   "outputs": [
    {
     "data": {
      "text/plain": [
       "20"
      ]
     },
     "execution_count": 34,
     "metadata": {},
     "output_type": "execute_result"
    }
   ],
   "source": [
    "today.day"
   ]
  },
  {
   "cell_type": "code",
   "execution_count": 35,
   "id": "26077617",
   "metadata": {},
   "outputs": [
    {
     "data": {
      "text/plain": [
       "2"
      ]
     },
     "execution_count": 35,
     "metadata": {},
     "output_type": "execute_result"
    }
   ],
   "source": [
    "date1 = date(2020,1,1)\n",
    "date1.weekday()\n",
    "# 월요일: 0, 화요일: 1, 수요일: 2, 목요일: 3, 금요일: 4, 토요일: 5, 일요일: 6"
   ]
  },
  {
   "cell_type": "markdown",
   "id": "ada061a9",
   "metadata": {},
   "source": [
    "### datetime.datetime\n",
    "- 날짜와 시간 정보를 모두 담고 있는 클래스임."
   ]
  },
  {
   "cell_type": "code",
   "execution_count": 37,
   "id": "45276889",
   "metadata": {},
   "outputs": [
    {
     "data": {
      "text/plain": [
       "datetime.datetime(2023, 2, 20, 16, 9, 13, 524271)"
      ]
     },
     "execution_count": 37,
     "metadata": {},
     "output_type": "execute_result"
    }
   ],
   "source": [
    "from datetime import datetime\n",
    "now = datetime.now()\n",
    "now"
   ]
  },
  {
   "cell_type": "code",
   "execution_count": 38,
   "id": "35e7e0d6",
   "metadata": {},
   "outputs": [
    {
     "name": "stdout",
     "output_type": "stream",
     "text": [
      "2023-02-20 16:09:13.524271\n"
     ]
    }
   ],
   "source": [
    "print(now)"
   ]
  },
  {
   "cell_type": "code",
   "execution_count": 42,
   "id": "faee17c5",
   "metadata": {},
   "outputs": [
    {
     "name": "stdout",
     "output_type": "stream",
     "text": [
      "8451 days, 16:09:13.524271\n",
      "나는 2000년 1월 1일에 태어나 8451일을 살고 있다.\n"
     ]
    }
   ],
   "source": [
    "birth = datetime(2000,1,1)\n",
    "td = now - birth\n",
    "print(td)\n",
    "print(\"나는 {}년 {}월 {}일에 태어나 {}일을 살고 있다.\".format(birth.year, birth.month, birth.day, td.days))"
   ]
  },
  {
   "cell_type": "markdown",
   "id": "5785b8e9",
   "metadata": {},
   "source": [
    "### datetime.timedelta"
   ]
  },
  {
   "cell_type": "code",
   "execution_count": 50,
   "id": "bd33655f",
   "metadata": {},
   "outputs": [],
   "source": [
    "from datetime import datetime, timedelta\n",
    "d1 = datetime.now()\n",
    "d2 = datetime(2020, 1,1,12,10,25,0)"
   ]
  },
  {
   "cell_type": "code",
   "execution_count": 51,
   "id": "33c3b7dd",
   "metadata": {},
   "outputs": [
    {
     "data": {
      "text/plain": [
       "datetime.timedelta(days=1146, seconds=14769, microseconds=314026)"
      ]
     },
     "execution_count": 51,
     "metadata": {},
     "output_type": "execute_result"
    }
   ],
   "source": [
    "d1 - d2"
   ]
  },
  {
   "cell_type": "code",
   "execution_count": 52,
   "id": "529b7acd",
   "metadata": {},
   "outputs": [
    {
     "data": {
      "text/plain": [
       "datetime.timedelta(days=-1147, seconds=71630, microseconds=685974)"
      ]
     },
     "execution_count": 52,
     "metadata": {},
     "output_type": "execute_result"
    }
   ],
   "source": [
    "d2 - d1"
   ]
  },
  {
   "cell_type": "code",
   "execution_count": 53,
   "id": "563e0f9a",
   "metadata": {},
   "outputs": [
    {
     "data": {
      "text/plain": [
       "datetime.datetime(2023, 2, 25, 16, 16, 34, 314026)"
      ]
     },
     "execution_count": 53,
     "metadata": {},
     "output_type": "execute_result"
    }
   ],
   "source": [
    "d3 = d1 + timedelta(days=5)\n",
    "d3"
   ]
  },
  {
   "cell_type": "code",
   "execution_count": 54,
   "id": "622f1155",
   "metadata": {},
   "outputs": [
    {
     "data": {
      "text/plain": [
       "datetime.datetime(2023, 2, 15, 16, 16, 34, 314026)"
      ]
     },
     "execution_count": 54,
     "metadata": {},
     "output_type": "execute_result"
    }
   ],
   "source": [
    "d4 = d1 - timedelta(days=5)\n",
    "d4"
   ]
  }
 ],
 "metadata": {
  "kernelspec": {
   "display_name": "Python 3 (ipykernel)",
   "language": "python",
   "name": "python3"
  },
  "language_info": {
   "codemirror_mode": {
    "name": "ipython",
    "version": 3
   },
   "file_extension": ".py",
   "mimetype": "text/x-python",
   "name": "python",
   "nbconvert_exporter": "python",
   "pygments_lexer": "ipython3",
   "version": "3.9.13"
  }
 },
 "nbformat": 4,
 "nbformat_minor": 5
}
