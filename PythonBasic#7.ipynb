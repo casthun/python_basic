{
 "cells": [
  {
   "cell_type": "markdown",
   "id": "aab081cc",
   "metadata": {},
   "source": [
    "## GUI 프로그래밍"
   ]
  },
  {
   "cell_type": "markdown",
   "id": "f619b1bf",
   "metadata": {},
   "source": [
    "- 앞 장에서 살펴보았던 프로그램들은 텍스트 기반 사용자 인터페이스(TUI, Text User Interface)임.\n",
    "- 그래픽 유저 인터페이스(GUI, Graphic User Interface)는 사용자가 데이터를 입력할 수 있는 박스와 같은 비주얼 객체와 어떤 기능 실행을 초기화하는 버튼으로 구성된 윈도우를 사용자에게 제공함.\n",
    "- 이와 같은 가시적 객체(widget)는 마우스 클릭과 같은 이벤트에 반응함.\n",
    "- GUI 프로그램은 \"이벤트 기반\"이라고 함."
   ]
  },
  {
   "cell_type": "markdown",
   "id": "f9d8f7a0",
   "metadata": {},
   "source": [
    "- 각 프로그램은 다음 두 개의 명령으로 시작함.\n",
    "    - from tkinter import *\n",
    "    - window = Tk()\n",
    "- 다음 명령으로 프로그램이 끝남.\n",
    "    - window.mainloop()\n",
    "- 첫번째 명령문은 tkinter 모듈을 임포트하고, 두번째 명령문은 Tk 클래스의 인스턴스를 생성하며, 이를 window라고 함.\n",
    "- mainloop 함수는 윈도우 상단에 위치한 닫기 버튼을 클릭하여 윈도우를 닫을 때까지 이벤트를 계속하여 찾는 무한루프와 같은 역할을 함.\n",
    "- 각 윈도우는 타이틀 바 텍스트를 위치시키는 title 속성을 갖음.\n",
    "    - window.title(\"Mortgage\")"
   ]
  },
  {
   "cell_type": "markdown",
   "id": "3d6de3b7",
   "metadata": {},
   "source": [
    "## 버튼 위젯"
   ]
  },
  {
   "cell_type": "code",
   "execution_count": 2,
   "id": "539c07f8",
   "metadata": {},
   "outputs": [],
   "source": [
    "from tkinter import *\n",
    "\n",
    "window = Tk()\n",
    "window.title(\"Button1\")\n",
    "# 버튼 위젯의 객체를 생성함., window라는 위젯 컨데이너를 첫번째 인자로 입력\n",
    "# text는 버튼에 표시되는 캡션을 설정\n",
    "# bg는 버튼의 색상을 설정\n",
    "# width=n --> 버튼의 폭을 n개의 문자로 설정\n",
    "btnCalculate = Button(window, text=\"Calculate2\", bg=\"red\", width=10)\n",
    "# 윈도우 상에서 위젯을 표시함., padx=위젯 좌우에 공백 제어, pady=위젯 상하에 공백 제어\n",
    "btnCalculate.grid(padx=50, pady=15)\n",
    "window.mainloop()"
   ]
  },
  {
   "cell_type": "code",
   "execution_count": 3,
   "id": "109d2fc1",
   "metadata": {},
   "outputs": [],
   "source": [
    "from tkinter import *\n",
    "\n",
    "# 버튼을 클릭하였을 때 실행되는 기능함수 추가\n",
    "def changeColor():\n",
    "    if btnCalculate[\"fg\"] == \"blue\":\n",
    "        btnCalculate[\"fg\"] = \"red\"\n",
    "    else:\n",
    "        btnCalculate[\"fg\"] = \"blue\"\n",
    "        \n",
    "window = Tk()\n",
    "window.title(\"Button\")\n",
    "btnCalculate = Button(window, text = \"Calculate\",\n",
    "                     fg=\"blue\", command=changeColor)\n",
    "btnCalculate.grid(padx=100, pady=15)\n",
    "window.mainloop()\n",
    "\n",
    "# 위 예제 프로그램은 changeColor 함수를 삽입하고 추가 인자(command=changeColor)를 생성자에 추가하여 프로그램을 확장함.\n",
    "# 인자 command=changeColor는 좌측 클릭 이벤트 발생시 changeColor 함수를 호출함.\n",
    "#    - 이 함수는 이벤트 또는 이벤트 핸들러(event handler)와 연관된 콜백 함수(callback function)라고 함. 그리고 해당 인자는 함수를 버튼과 연결함.\n",
    "# btnCalculate[\"fg\"]의 값은 캡션의 색상임. 일반적으로 폼의 표현값 widgetName[\"attribute\"]은 속성 설정값을 사용함.\n",
    "#    - 예를 들어 btnCalculate[\"text\"]의 값은 문자열 \"Calculate\"임."
   ]
  },
  {
   "cell_type": "markdown",
   "id": "18dc992c",
   "metadata": {},
   "source": [
    "## 레이블 위젯"
   ]
  },
  {
   "cell_type": "code",
   "execution_count": 4,
   "id": "ad80cc30",
   "metadata": {},
   "outputs": [],
   "source": [
    "from tkinter import *\n",
    "\n",
    "window = Tk()\n",
    "window.title(\"Label\")\n",
    "lblPrincipal = Label(window, text=\"Interest rate:\", bg=\"light blue\")\n",
    "lblPrincipal.grid(padx=100, pady=50)\n",
    "window.mainloop()\n",
    "\n",
    "# 기본설정값으로 레이블 위젯은 윈도우 자체와 동일한 배경색을 갖음.\n",
    "# 실제로 레이블은 캡션 내용을 표시할 수 있을 만큼 충분한 폭을 갖고 있음.\n",
    "# 만약 인자 bg=\"light blue\"를 생성자에 입력하면 레이블의 실제 폭이 나타나게 됨.\n",
    "# 레이블은 폭 속성을 갖고 있지만, 우리가 작성하게 될 프로그램 상에서는 필요하지 않음."
   ]
  },
  {
   "cell_type": "code",
   "execution_count": 5,
   "id": "e1958757",
   "metadata": {},
   "outputs": [],
   "source": [
    "from tkinter import *\n",
    "\n",
    "window = Tk()\n",
    "window.title(\"Label\")\n",
    "lblPrincipal = Label(window, text=\"Monthly Payment:\", bg=\"black\", fg='yellow')\n",
    "lblPrincipal.grid(padx=100, pady=15)\n",
    "window.mainloop()"
   ]
  },
  {
   "cell_type": "markdown",
   "id": "e7bae356",
   "metadata": {},
   "source": [
    "## 입력 위젯"
   ]
  },
  {
   "cell_type": "code",
   "execution_count": 6,
   "id": "ce48f455",
   "metadata": {},
   "outputs": [
    {
     "name": "stderr",
     "output_type": "stream",
     "text": [
      "2023-03-11 16:25:14.502 python[21443:2427958] TSM AdjustCapsLockLEDForKeyTransitionHandling - _ISSetPhysicalKeyboardCapsLockLED Inhibit\n"
     ]
    }
   ],
   "source": [
    "from tkinter import *\n",
    "window = Tk()\n",
    "window.title(\"Entry Widget\")\n",
    "entName = Entry(window, width=10)\n",
    "entName.grid(padx=100, pady=15)\n",
    "window.mainloop()\n",
    "\n",
    "# 입력 위젝은 버튼 위젯과 달리 어떤 이벤트가 발생할 때 호출되는 callback 함수와 묶어주는 command 인자를 갖고 있지 않음.\n",
    "# 하지만 입력 위젯과 함께 bind 메서드를 사용하여 해당 기능을 만들어 낼 수는 있음."
   ]
  },
  {
   "cell_type": "code",
   "execution_count": 2,
   "id": "e693bfbc",
   "metadata": {},
   "outputs": [],
   "source": [
    "from tkinter import *\n",
    "\n",
    "def changeColor(event):\n",
    "    if entName[\"bg\"] == \"light blue\":\n",
    "        entName[\"bg\"] = \"red\"\n",
    "    else:\n",
    "        entName[\"bg\"] = \"light blue\"\n",
    "        \n",
    "window = Tk()\n",
    "window.title(\"Entry widget\")\n",
    "entName = Entry(window, bg=\"light blue\")\n",
    "entName.grid(padx=100, pady=15)\n",
    "entName.bind(\"<Button-1>\", changeColor) # 입력 위젯에서 마우스 왼쪽 버튼을 클릭할 때 명칭을 부여한 함수를 호출\n",
    "window.mainloop()"
   ]
  },
  {
   "cell_type": "code",
   "execution_count": 3,
   "id": "a7ab76a6",
   "metadata": {},
   "outputs": [],
   "source": [
    "window = Tk()\n",
    "window.title(\"Entry Widget\")\n",
    "# 입력 위젯에서 데이터를 받기 위해 다음과 같이 문자열 변수를 생성\n",
    "conOFentName = StringVar()\n",
    "# 입력 생성자에 textvariable = conOFentName을 삽입\n",
    "entName = Entry(window, textvariable = conOFentName)\n",
    "entName.grid(padx=100, pady = 15)\n",
    "conOFentName.set(\"kisti\")\n",
    "window.mainloop()"
   ]
  },
  {
   "cell_type": "code",
   "execution_count": 4,
   "id": "56d3aa53",
   "metadata": {},
   "outputs": [
    {
     "name": "stderr",
     "output_type": "stream",
     "text": [
      "2023-03-11 16:32:44.519 python[23174:2443249] TSM AdjustCapsLockLEDForKeyTransitionHandling - _ISSetPhysicalKeyboardCapsLockLED Inhibit\n"
     ]
    }
   ],
   "source": [
    "from tkinter import *\n",
    "\n",
    "def convertToUpperCase(event):\n",
    "    # variableName.get() --> 입력 위젯 내의 데이터로 구성된 문자열이 됨.\n",
    "    # variableName.set(aValue) --> 문자열이나 숫자값을 입력 위젯에 위치시킴.\n",
    "    conOFentName.set(conOFentName.get().upper())\n",
    "    \n",
    "window = Tk()\n",
    "window.title(\"Entry Widget\")\n",
    "# 입력 위젯에서 데이터를 받기 위해 다음과 같이 문자열 변수를 생성\n",
    "conOFentName = StringVar()\n",
    "# 입력 생성자에 textvariable = conOFentName을 삽입\n",
    "entName = Entry(window, textvariable = conOFentName)\n",
    "entName.grid(padx=100, pady = 15)\n",
    "conOFentName.set(\"kisti\")\n",
    "entName.bind(\"<Button-1>\", convertToUpperCase)\n",
    "window.mainloop()"
   ]
  },
  {
   "cell_type": "markdown",
   "id": "9ded9550",
   "metadata": {},
   "source": [
    "## 읽기전용 입력 위젯\n",
    "- 읽기 전용 위젯을 출력값을 표시하는 데에만 사용되는 특별한 입력 위젯임.\n",
    "- 읽기 전용 입력 위젯은 인자 state = \"readonly\"를 일반 입력 위젯 생성자에 추가하여 설정함."
   ]
  },
  {
   "cell_type": "code",
   "execution_count": 1,
   "id": "848bd1bd",
   "metadata": {},
   "outputs": [],
   "source": [
    "from tkinter import *\n",
    "\n",
    "window = Tk()\n",
    "window.title(\"ReadOnly Entry Widget\")\n",
    "entOutput = Entry(window, width=20, state=\"readonly\")\n",
    "entOutput.grid(padx=100, pady=15)\n",
    "window.mainloop()"
   ]
  },
  {
   "cell_type": "code",
   "execution_count": 2,
   "id": "4b0b512b",
   "metadata": {},
   "outputs": [],
   "source": [
    "from tkinter import *\n",
    "window = Tk()\n",
    "window.title('ReadOnly Entry Widget')\n",
    "conOFentOutput = StringVar()\n",
    "entOutput = Entry(window, state=\"readonly\", textvariable=conOFentOutput)\n",
    "entOutput.grid(padx=100, pady=15)\n",
    "conOFentOutput.set(\"Hello World!\")\n",
    "window.mainloop()"
   ]
  },
  {
   "cell_type": "markdown",
   "id": "92df1366",
   "metadata": {},
   "source": [
    "## 리스트박스 위젯\n",
    "- 리스트 박스 위젯은 주로 직사각형 박스에 위에서 아래로 아이템 목록을 표시하고 특정 아이템을 선택하기 위해 사용함.\n",
    "- 하지만 프로그램에서 생성되는 데이터를 표시하는 경우에도 사용할 수 있음."
   ]
  },
  {
   "cell_type": "code",
   "execution_count": 1,
   "id": "a7e9e360",
   "metadata": {},
   "outputs": [],
   "source": [
    "from tkinter import *\n",
    "window = Tk()\n",
    "window.title(\"Listbox\")\n",
    "# height 속성을 이용하여 리스트 박스에 나타날 수 있는 행의 수를 설정\n",
    "# width 속성을 이용하여 각 행에 나타나는 문자의 수를 설정\n",
    "# height와 width의 기본 설정값은 10과 20임.\n",
    "lstName = Listbox(window, width=20, height=15)\n",
    "lstName.grid(padx=100, pady=15)\n",
    "window.mainloop()"
   ]
  },
  {
   "cell_type": "code",
   "execution_count": 1,
   "id": "bbc99fa3",
   "metadata": {},
   "outputs": [],
   "source": [
    "from tkinter import *\n",
    "\n",
    "window = Tk()\n",
    "window.title(\"Colors\")\n",
    "L = [\"red\", \"yellow\", \"light blue\", \"orange\", 'blue']\n",
    "conOFlstColors = StringVar()\n",
    "# 리스트 L의 내용을 리스트 박스에 삽입하기 위해 listvariable 인자를 사용\n",
    "lstColors = Listbox(window, width=10, height=5,\n",
    "                   listvariable = conOFlstColors)\n",
    "lstColors.grid(padx=100, pady=15)\n",
    "# 리스트 L의 내용을 리스트 박스에 삽입\n",
    "conOFlstColors.set(tuple(L))\n",
    "window.mainloop()"
   ]
  },
  {
   "cell_type": "code",
   "execution_count": 2,
   "id": "87df0294",
   "metadata": {},
   "outputs": [],
   "source": [
    "from tkinter import *\n",
    "\n",
    "def changeBackgroundColor(event):\n",
    "    lstColors[\"bg\"] = lstColors.get(lstColors.curselection())\n",
    "    \n",
    "window = Tk()\n",
    "window.title(\"Colors\")\n",
    "L = [\"red\", \"yellow\", \"light blue\", \"orange\", \"blue\"]\n",
    "conOFlstColors = StringVar()\n",
    "lstColors = Listbox(window, width=10, height=5,\n",
    "                   listvariable=conOFlstColors)\n",
    "lstColors.grid(padx=100, pady=15)\n",
    "conOFlstColors.set(tuple(L))\n",
    "# 리스트 박스 내 아이템을 클릭하면 해당 리스트 내용과 동일한 배경색이 나타남.\n",
    "lstColors.bind(\"<<ListboxSelect>>\", changeBackgroundColor)\n",
    "window.mainloop()"
   ]
  },
  {
   "cell_type": "code",
   "execution_count": 1,
   "id": "8be33694",
   "metadata": {},
   "outputs": [],
   "source": [
    "from tkinter import *\n",
    "\n",
    "def sortItems(event):\n",
    "    L.sort()\n",
    "    conOFlstColors.set(tuple(L))\n",
    "window = Tk()\n",
    "window.title(\"Colors\")\n",
    "L = [\"red\", \"yellow\", \"light blue\", \"orange\"]\n",
    "conOFlstColors = StringVar()\n",
    "lstColors = Listbox(window, width=10, height=5, listvariable=conOFlstColors)\n",
    "lstColors.grid(padx=100, pady=15)\n",
    "conOFlstColors.set(tuple(L))\n",
    "# 마우스 왼쪽 버튼을 클릭하면 리스트 박스 내 아이템이 정렬됨.\n",
    "lstColors.bind(\"<Button-1>\", sortItems)\n",
    "window.mainloop()"
   ]
  },
  {
   "cell_type": "markdown",
   "id": "97bb5db8",
   "metadata": {},
   "source": [
    "## 그리드 기하 관리자\n",
    "- grid는 셀(cell)이라고 하는 직사각형으로, 세부 분할을 하는 수평과 수직 라인을 갖는 가상의 직사각형임.\n",
    "- 첫번째 행에 위치한 셀은 row0으로 참조하고, 두번째 행에 위치한 셀은 row1으로 참조하며 나머지도 동일하게 적용함.\n",
    "- 첫번째 열에 위치한 셀은 column0으로 참조하고, 두번째 열에 위치한 셀은 column1로 참조하며 나머지도 동일하게 적용함.\n",
    "- 각 셀은 행과 열의 숫자로 식별할 수 있음.\n",
    "- 그래픽 인터페이스는 위젯을 그리드에 위치시켜 만듬. 위젯은 개별 셀에 삽입될 수 있으며 연속 행과 열로 늘릴 수 있음.\n",
    "- 각 행과 열은 최대 위젯에 맞도록 확장할 수 있음.\n",
    "- padx와 pady는 셀 내에 위젯 주위에 공백을 얼마나 많이 설정할 것인지를 결정하는데 사용됨.\n",
    "- 기본 설정에 의해 위젯은 셀 중간에 위치함.\n",
    "- sticky 속성은 셀 내에서 위치를 변경하고 전체 셀을 채우도록 해당 위젯을 확대하기 위해 사용할 수 있음."
   ]
  },
  {
   "cell_type": "code",
   "execution_count": 1,
   "id": "53233a62",
   "metadata": {},
   "outputs": [
    {
     "name": "stdout",
     "output_type": "stream",
     "text": [
      "Enter the first number: 2345\n",
      "Enter the second number: 3456\n",
      "Enter the third number: 456\n",
      "The largest number is 3456.\n"
     ]
    }
   ],
   "source": [
    "def main():\n",
    "    L = []\n",
    "    num1 = eval(input(\"Enter the first number: \"))\n",
    "    L.append(num1)\n",
    "    num2 = eval(input(\"Enter the second number: \"))\n",
    "    L.append(num2)\n",
    "    num3 = eval(input(\"Enter the third number: \"))\n",
    "    L.append(num3)\n",
    "    print(\"The largest number is\", str(max(L)) + '.')\n",
    "    \n",
    "main()"
   ]
  },
  {
   "cell_type": "code",
   "execution_count": 1,
   "id": "de00cf5c",
   "metadata": {},
   "outputs": [],
   "source": [
    "from tkinter import *\n",
    "\n",
    "def findLargest():\n",
    "    L = []\n",
    "    L.append(eval(conOFentNum1.get()))\n",
    "    L.append(eval(conOFentNum2.get()))\n",
    "    L.append(eval(conOFentNum3.get()))\n",
    "    conOFentLargest.set(max(L))\n",
    "    \n",
    "\n",
    "window = Tk()\n",
    "window.title(\"Largest Number\")\n",
    "Label(window, text=\"First number: \").grid(row=0, column=0, pady=5, sticky =E)\n",
    "conOFentNum1 = StringVar()\n",
    "ententNum1 = Entry(window, width = 8, textvariable=conOFentNum1)\n",
    "ententNum1.grid(row=0, column=1, sticky=W)\n",
    "Label(window, text=\"Second number: \").grid(row=1, column=0, pady = 5, sticky =E)\n",
    "conOFentNum2 = StringVar()\n",
    "ententNum2 = Entry(window, width = 8, textvariable=conOFentNum2)\n",
    "ententNum2.grid(row=1, column=1, sticky=W)\n",
    "Label(window, text=\"Third number: \").grid(row=2, column=0, pady = 5, sticky =E)\n",
    "conOFentNum3 = StringVar()\n",
    "ententNum3 = Entry(window, width = 8, textvariable=conOFentNum3)\n",
    "ententNum3.grid(row=2, column=1, sticky=W)\n",
    "btnFind = Button(window, text=\"Find the Largest Number\", command=findLargest)\n",
    "btnFind.grid(row=3, column=0, columnspan=2, padx=75)\n",
    "Label(window, text=\"Largest number: \").grid(row=4, column=0, sticky=E)\n",
    "conOFentLargest = StringVar()\n",
    "entLargest = Entry(window, state=\"readonly\", width=8,\n",
    "                  textvariable=conOFentLargest)\n",
    "entLargest.grid(row=4, column=1, pady=5, sticky=W)\n",
    "window.mainloop()"
   ]
  },
  {
   "cell_type": "code",
   "execution_count": 1,
   "id": "2f4eda2d",
   "metadata": {},
   "outputs": [],
   "source": [
    "# 예제\n",
    "from tkinter import *\n",
    "\n",
    "def calculate():\n",
    "    p = eval(conOFentNum1.get())\n",
    "    r = eval(conOFentNum2.get())\n",
    "    n = eval(conOFentNum3.get())\n",
    "    mp = (p*((1+r/100)**n))/(n*12)\n",
    "    conOFNum4.set(\"${0:,.2f}\".format(mp))\n",
    "    \n",
    "\n",
    "window = Tk()\n",
    "window.title(\"Mortgage Loan Program\")\n",
    "Label(window, text=\"Principal: \").grid(row=0, column=0, pady=5, sticky =E)\n",
    "conOFentNum1 = StringVar()\n",
    "ententNum1 = Entry(window, width = 8, textvariable=conOFentNum1)\n",
    "ententNum1.grid(row=0, column=1, sticky=W)\n",
    "Label(window, text=\"Interest rate(as percent): \").grid(row=1, column=0, pady = 5, sticky =E)\n",
    "conOFentNum2 = StringVar()\n",
    "ententNum2 = Entry(window, width = 8, textvariable=conOFentNum2)\n",
    "ententNum2.grid(row=1, column=1, sticky=W)\n",
    "Label(window, text=\"Number of years: \").grid(row=2, column=0, pady = 5, sticky =E)\n",
    "conOFentNum3 = StringVar()\n",
    "ententNum3 = Entry(window, width = 8, textvariable=conOFentNum3)\n",
    "ententNum3.grid(row=2, column=1, sticky=W)\n",
    "btnFind = Button(window, text=\"Calculate Monthly Payment\", command=calculate)\n",
    "btnFind.grid(row=3, column=0, columnspan=2, padx=75)\n",
    "Label(window, text=\"Monthly payment: \").grid(row=4, column=0, sticky=E)\n",
    "conOFNum4 = StringVar()\n",
    "entLargest = Entry(window, state=\"readonly\", width=8,\n",
    "                  textvariable=conOFNum4)\n",
    "entLargest.grid(row=4, column=1, pady=5, sticky=W)\n",
    "window.mainloop()"
   ]
  },
  {
   "cell_type": "code",
   "execution_count": null,
   "id": "3f0c827c",
   "metadata": {},
   "outputs": [],
   "source": []
  }
 ],
 "metadata": {
  "kernelspec": {
   "display_name": "Python 3 (ipykernel)",
   "language": "python",
   "name": "python3"
  },
  "language_info": {
   "codemirror_mode": {
    "name": "ipython",
    "version": 3
   },
   "file_extension": ".py",
   "mimetype": "text/x-python",
   "name": "python",
   "nbconvert_exporter": "python",
   "pygments_lexer": "ipython3",
   "version": "3.9.13"
  }
 },
 "nbformat": 4,
 "nbformat_minor": 5
}
