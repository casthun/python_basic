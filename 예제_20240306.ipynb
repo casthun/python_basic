{
 "cells": [
  {
   "cell_type": "markdown",
   "id": "c14e3147",
   "metadata": {},
   "source": [
    "## 12 페이지 예제"
   ]
  },
  {
   "cell_type": "code",
   "execution_count": 1,
   "id": "e98d1659",
   "metadata": {},
   "outputs": [
    {
     "data": {
      "text/plain": [
       "'3 X 2 = 6'"
      ]
     },
     "execution_count": 1,
     "metadata": {},
     "output_type": "execute_result"
    }
   ],
   "source": [
    "a = 3\n",
    "\n",
    "str(a) + \" X 2 = 6\""
   ]
  },
  {
   "cell_type": "code",
   "execution_count": 2,
   "id": "bb5fe7b9",
   "metadata": {},
   "outputs": [
    {
     "name": "stdout",
     "output_type": "stream",
     "text": [
      "3 X 1 = 3\n",
      "3 X 2 = 6\n"
     ]
    }
   ],
   "source": [
    "print(\"3 X 1 = 3\\n3 X 2 = 6\")"
   ]
  },
  {
   "cell_type": "code",
   "execution_count": 3,
   "id": "e43c858c",
   "metadata": {},
   "outputs": [
    {
     "name": "stdout",
     "output_type": "stream",
     "text": [
      "3 X 1 = 3\n",
      "3 X 2 = 6\n"
     ]
    }
   ],
   "source": [
    "print(\"\"\"3 X 1 = 3\n",
    "3 X 2 = 6\"\"\")"
   ]
  },
  {
   "cell_type": "code",
   "execution_count": 4,
   "id": "d55224db",
   "metadata": {},
   "outputs": [
    {
     "data": {
      "text/plain": [
       "'총 10번의 시도 끝에 7번 패배하셨습니다.'"
      ]
     },
     "execution_count": 4,
     "metadata": {},
     "output_type": "execute_result"
    }
   ],
   "source": [
    "trials = 10\n",
    "win = 3\n",
    "\n",
    "\"총 {}번의 시도 끝에 {}번 패배하셨습니다.\".format(trials, trials - win)"
   ]
  },
  {
   "cell_type": "code",
   "execution_count": null,
   "id": "00b8c60a",
   "metadata": {},
   "outputs": [],
   "source": []
  },
  {
   "cell_type": "markdown",
   "id": "f4e33a59",
   "metadata": {},
   "source": [
    "## 16 페이지 예제"
   ]
  },
  {
   "cell_type": "code",
   "execution_count": 1,
   "id": "8755f5a4",
   "metadata": {},
   "outputs": [
    {
     "name": "stdout",
     "output_type": "stream",
     "text": [
      "제 폰 번호는 010-2643-0139 입니다.\n",
      "제 폰 번호 마지막 네자리는 0139 입니다.\n"
     ]
    }
   ],
   "source": [
    "phoneNumber = \"010-2643-0139\"\n",
    "print(\"제 폰 번호는\", phoneNumber, \"입니다.\")\n",
    "print(\"제 폰 번호 마지막 네자리는\", phoneNumber[9:], \"입니다.\")"
   ]
  },
  {
   "cell_type": "code",
   "execution_count": 2,
   "id": "85401872",
   "metadata": {},
   "outputs": [
    {
     "name": "stdout",
     "output_type": "stream",
     "text": [
      "제 폰 번호 중간 네자리는 2643 입니다.\n"
     ]
    }
   ],
   "source": [
    "print(\"제 폰 번호 중간 네자리는\", phoneNumber[4:8], \"입니다.\")"
   ]
  },
  {
   "cell_type": "code",
   "execution_count": 3,
   "id": "f810a8b0",
   "metadata": {},
   "outputs": [
    {
     "data": {
      "text/plain": [
       "['010', '2643', '0139']"
      ]
     },
     "execution_count": 3,
     "metadata": {},
     "output_type": "execute_result"
    }
   ],
   "source": [
    "lst = phoneNumber.split('-')\n",
    "lst"
   ]
  },
  {
   "cell_type": "code",
   "execution_count": 4,
   "id": "ae523207",
   "metadata": {},
   "outputs": [
    {
     "name": "stdout",
     "output_type": "stream",
     "text": [
      "제 폰 번호 마지막 네자리는 0139 입니다.\n",
      "제 폰 번호 중간 네자리는 2643 입니다.\n"
     ]
    }
   ],
   "source": [
    "print(\"제 폰 번호 마지막 네자리는\", lst[2], \"입니다.\")\n",
    "print(\"제 폰 번호 중간 네자리는\", lst[1], \"입니다.\")"
   ]
  },
  {
   "cell_type": "code",
   "execution_count": null,
   "id": "0deb5a5f",
   "metadata": {},
   "outputs": [],
   "source": []
  },
  {
   "cell_type": "markdown",
   "id": "bb748f89",
   "metadata": {},
   "source": [
    "## 20 페이지 예제"
   ]
  },
  {
   "cell_type": "code",
   "execution_count": 5,
   "id": "291584a9",
   "metadata": {},
   "outputs": [
    {
     "data": {
      "text/plain": [
       "'우리나라는 1945년에 일본으로부터 독립하였으나 1950년 6.25전쟁을 겪었다.'"
      ]
     },
     "execution_count": 5,
     "metadata": {},
     "output_type": "execute_result"
    }
   ],
   "source": [
    "# 예제1\n",
    "\n",
    "a = 1945\n",
    "b = 1950\n",
    "c = 6.25\n",
    "\n",
    "\"우리나라는 {}년에 일본으로부터 독립하였으나 {}년 {}전쟁을 겪었다.\".format(a,b,c)"
   ]
  },
  {
   "cell_type": "code",
   "execution_count": 10,
   "id": "6a9c1aca",
   "metadata": {},
   "outputs": [
    {
     "data": {
      "text/plain": [
       "'제 대출금액은 5,000만원인데, 대출금리는 4.8%입니다.'"
      ]
     },
     "execution_count": 10,
     "metadata": {},
     "output_type": "execute_result"
    }
   ],
   "source": [
    "# 예제2\n",
    "\n",
    "a = 5000\n",
    "b = 0.0475\n",
    "\n",
    "\"제 대출금액은 {0:,d}만원인데, 대출금리는 {1:.1%}입니다.\".format(a, b)"
   ]
  },
  {
   "cell_type": "code",
   "execution_count": null,
   "id": "253aad40",
   "metadata": {},
   "outputs": [],
   "source": []
  },
  {
   "cell_type": "code",
   "execution_count": 12,
   "id": "1ea25003",
   "metadata": {},
   "outputs": [
    {
     "name": "stdout",
     "output_type": "stream",
     "text": [
      "숫자를 입력하시오. :7\n"
     ]
    },
    {
     "data": {
      "text/plain": [
       "7"
      ]
     },
     "execution_count": 12,
     "metadata": {},
     "output_type": "execute_result"
    }
   ],
   "source": [
    "a = eval(input(\"숫자를 입력하시오. :\"))\n",
    "a"
   ]
  },
  {
   "cell_type": "code",
   "execution_count": null,
   "id": "95ac266b",
   "metadata": {},
   "outputs": [],
   "source": []
  },
  {
   "cell_type": "code",
   "execution_count": null,
   "id": "8bc23e0c",
   "metadata": {},
   "outputs": [],
   "source": []
  },
  {
   "cell_type": "markdown",
   "id": "142a5999",
   "metadata": {},
   "source": [
    "## 24페이지 예제"
   ]
  },
  {
   "cell_type": "code",
   "execution_count": null,
   "id": "f31bb91e",
   "metadata": {},
   "outputs": [],
   "source": [
    "nums = [3,5,7,9,11]\n",
    "print(\"Largest Number: \", max(nums))\n",
    "print(\"Length: \", len(nums))\n",
    "print(\"Total: \", sum(nums))\n",
    "print(\"First Number: \", nums[0])\n",
    "print(\"Last Number: \", nums[-1])"
   ]
  },
  {
   "cell_type": "code",
   "execution_count": null,
   "id": "7bf85247",
   "metadata": {},
   "outputs": [],
   "source": [
    "L = [\"sentence\", \"contains\", \"five\", \"words.\"]\n",
    "\n",
    "L.insert(0, \"This\")\n",
    "print(\" \".join(L))\n",
    "del L[3]\n",
    "L.insert(3, 'six')\n",
    "L.insert(4, 'different')\n",
    "print(\" \".join(L))"
   ]
  },
  {
   "cell_type": "code",
   "execution_count": 13,
   "id": "e9d75ea7",
   "metadata": {},
   "outputs": [],
   "source": [
    "L = [\"sentence\", \"contains\", \"five\", \"words.\"]"
   ]
  },
  {
   "cell_type": "code",
   "execution_count": 14,
   "id": "d7530e30",
   "metadata": {},
   "outputs": [
    {
     "data": {
      "text/plain": [
       "['This', 'sentence', 'contains', 'five', 'words.']"
      ]
     },
     "execution_count": 14,
     "metadata": {},
     "output_type": "execute_result"
    }
   ],
   "source": [
    "L.insert(0, \"This\")\n",
    "L"
   ]
  },
  {
   "cell_type": "code",
   "execution_count": 15,
   "id": "5204aa7e",
   "metadata": {},
   "outputs": [
    {
     "name": "stdout",
     "output_type": "stream",
     "text": [
      "This sentence contains five words.\n"
     ]
    }
   ],
   "source": [
    "print(\" \".join(L))"
   ]
  },
  {
   "cell_type": "code",
   "execution_count": 16,
   "id": "8ce9d7e7",
   "metadata": {},
   "outputs": [
    {
     "data": {
      "text/plain": [
       "['This', 'sentence', 'contains', 'words.']"
      ]
     },
     "execution_count": 16,
     "metadata": {},
     "output_type": "execute_result"
    }
   ],
   "source": [
    "del L[3]\n",
    "L"
   ]
  },
  {
   "cell_type": "code",
   "execution_count": 17,
   "id": "d8ee0263",
   "metadata": {},
   "outputs": [
    {
     "data": {
      "text/plain": [
       "['This', 'sentence', 'contains', 'six', 'words.']"
      ]
     },
     "execution_count": 17,
     "metadata": {},
     "output_type": "execute_result"
    }
   ],
   "source": [
    "L.insert(3, 'six')\n",
    "L"
   ]
  },
  {
   "cell_type": "code",
   "execution_count": 18,
   "id": "bc7012d0",
   "metadata": {},
   "outputs": [
    {
     "data": {
      "text/plain": [
       "['This', 'sentence', 'contains', 'six', 'different', 'words.']"
      ]
     },
     "execution_count": 18,
     "metadata": {},
     "output_type": "execute_result"
    }
   ],
   "source": [
    "L.insert(4, \"different\")\n",
    "L"
   ]
  },
  {
   "cell_type": "code",
   "execution_count": 19,
   "id": "9a5eb1d2",
   "metadata": {},
   "outputs": [
    {
     "data": {
      "text/plain": [
       "'This sentence contains six different words.'"
      ]
     },
     "execution_count": 19,
     "metadata": {},
     "output_type": "execute_result"
    }
   ],
   "source": [
    "\" \".join(L)"
   ]
  },
  {
   "cell_type": "code",
   "execution_count": null,
   "id": "b5a76475",
   "metadata": {},
   "outputs": [],
   "source": [
    "a = input(\"영문 이름을 입력하시오: \")\n",
    "print(\"저의 이름은 {}입니다.\".format(a.split()[0]))"
   ]
  },
  {
   "cell_type": "code",
   "execution_count": 20,
   "id": "258b18a6",
   "metadata": {},
   "outputs": [
    {
     "name": "stdout",
     "output_type": "stream",
     "text": [
      "Enter a sentence: Reach for the stars\n",
      "First word:  Reach\n",
      "Last word:  stars\n"
     ]
    }
   ],
   "source": [
    "a = input(\"Enter a sentence: \")\n",
    "print(\"First word: \", a.split()[0])\n",
    "print(\"Last word: \", a.split()[-1])"
   ]
  },
  {
   "cell_type": "code",
   "execution_count": 22,
   "id": "64aa5d7a",
   "metadata": {},
   "outputs": [
    {
     "data": {
      "text/plain": [
       "'Reach'"
      ]
     },
     "execution_count": 22,
     "metadata": {},
     "output_type": "execute_result"
    }
   ],
   "source": [
    "\"Reach for the stars\".split()[0]"
   ]
  },
  {
   "cell_type": "code",
   "execution_count": 24,
   "id": "f1130697",
   "metadata": {},
   "outputs": [
    {
     "data": {
      "text/plain": [
       "'stars'"
      ]
     },
     "execution_count": 24,
     "metadata": {},
     "output_type": "execute_result"
    }
   ],
   "source": [
    "\"Reach for the stars\".split()[-1]"
   ]
  },
  {
   "cell_type": "code",
   "execution_count": null,
   "id": "39c4496e",
   "metadata": {},
   "outputs": [],
   "source": [
    "a = input(\"Enter a 2-part name: \")\n",
    "print(\"Revised form: \", '{}, {}'.format(a.split()[1], a.split()[0]))"
   ]
  },
  {
   "cell_type": "code",
   "execution_count": null,
   "id": "0b681b5e",
   "metadata": {},
   "outputs": [],
   "source": []
  },
  {
   "cell_type": "code",
   "execution_count": null,
   "id": "f15e4c51",
   "metadata": {},
   "outputs": [],
   "source": []
  },
  {
   "cell_type": "code",
   "execution_count": null,
   "id": "3289d8d7",
   "metadata": {},
   "outputs": [],
   "source": []
  },
  {
   "cell_type": "markdown",
   "id": "0c0f013a",
   "metadata": {},
   "source": [
    "## 27 페이지 예제"
   ]
  },
  {
   "cell_type": "code",
   "execution_count": 5,
   "id": "732b8341",
   "metadata": {},
   "outputs": [
    {
     "data": {
      "text/plain": [
       "('서울', '대전', '대구', '부산', '광주')"
      ]
     },
     "execution_count": 5,
     "metadata": {},
     "output_type": "execute_result"
    }
   ],
   "source": [
    "region = \"서울-대전-대구-부산-광주\"\n",
    "L = region.split(\"-\")\n",
    "T = tuple(L)\n",
    "T"
   ]
  },
  {
   "cell_type": "code",
   "execution_count": null,
   "id": "47ea0288",
   "metadata": {},
   "outputs": [],
   "source": []
  },
  {
   "cell_type": "code",
   "execution_count": 28,
   "id": "a6d05ff5",
   "metadata": {},
   "outputs": [
    {
     "name": "stdout",
     "output_type": "stream",
     "text": [
      "{3, 6, 9, 12, 15, 18, 21, 24, 27, 30}\n",
      "{4, 8, 12, 16, 20, 24, 28}\n"
     ]
    }
   ],
   "source": [
    "three = {i for i in range(3, 31, 3)}\n",
    "four = {i for i in range(4, 31, 4)}\n",
    "print(three)\n",
    "print(four)"
   ]
  },
  {
   "cell_type": "code",
   "execution_count": 29,
   "id": "4ca7e60c",
   "metadata": {},
   "outputs": [
    {
     "data": {
      "text/plain": [
       "{3, 4, 6, 8, 9, 12, 15, 16, 18, 20, 21, 24, 27, 28, 30}"
      ]
     },
     "execution_count": 29,
     "metadata": {},
     "output_type": "execute_result"
    }
   ],
   "source": [
    "three | four"
   ]
  },
  {
   "cell_type": "code",
   "execution_count": 30,
   "id": "b65fd17c",
   "metadata": {},
   "outputs": [
    {
     "data": {
      "text/plain": [
       "{3, 6, 9, 15, 18, 21, 27, 30}"
      ]
     },
     "execution_count": 30,
     "metadata": {},
     "output_type": "execute_result"
    }
   ],
   "source": [
    "three - four"
   ]
  },
  {
   "cell_type": "code",
   "execution_count": 31,
   "id": "d668c07d",
   "metadata": {},
   "outputs": [
    {
     "data": {
      "text/plain": [
       "{12, 24}"
      ]
     },
     "execution_count": 31,
     "metadata": {},
     "output_type": "execute_result"
    }
   ],
   "source": [
    "three & four"
   ]
  },
  {
   "cell_type": "code",
   "execution_count": null,
   "id": "f6eaf8dc",
   "metadata": {},
   "outputs": [],
   "source": []
  },
  {
   "cell_type": "markdown",
   "id": "abd2b2ff",
   "metadata": {},
   "source": [
    "## 39 페이지 예제"
   ]
  },
  {
   "cell_type": "code",
   "execution_count": 6,
   "id": "0fbce136",
   "metadata": {},
   "outputs": [
    {
     "name": "stdout",
     "output_type": "stream",
     "text": [
      "3 x 1 = 3\n",
      "3 x 2 = 6\n",
      "3 x 3 = 9\n",
      "3 x 4 = 12\n",
      "3 x 5 = 15\n",
      "3 x 6 = 18\n",
      "3 x 7 = 21\n",
      "3 x 8 = 24\n",
      "3 x 9 = 27\n"
     ]
    }
   ],
   "source": [
    "for i in range(1, 10):\n",
    "    print(3, 'x', i, '=', 3*i)"
   ]
  },
  {
   "cell_type": "code",
   "execution_count": 33,
   "id": "a804ff1f",
   "metadata": {},
   "outputs": [
    {
     "name": "stdout",
     "output_type": "stream",
     "text": [
      "*\n",
      "**\n",
      "***\n",
      "****\n",
      "*****\n"
     ]
    }
   ],
   "source": [
    "a = '*'\n",
    "\n",
    "for i in range(5):\n",
    "    print(a)\n",
    "    a = a+\"*\"\n"
   ]
  },
  {
   "cell_type": "code",
   "execution_count": 32,
   "id": "a907d652",
   "metadata": {},
   "outputs": [
    {
     "name": "stdout",
     "output_type": "stream",
     "text": [
      "*\n",
      "**\n",
      "***\n",
      "****\n",
      "*****\n"
     ]
    }
   ],
   "source": [
    "a = '*'\n",
    "\n",
    "for i in range(1,6):\n",
    "    print('*'*i)"
   ]
  },
  {
   "cell_type": "code",
   "execution_count": 8,
   "id": "240087eb",
   "metadata": {},
   "outputs": [
    {
     "name": "stdout",
     "output_type": "stream",
     "text": [
      "5\n",
      "4\n",
      "3\n",
      "2\n",
      "1\n"
     ]
    }
   ],
   "source": [
    "for i in [5,4,3,2,1]:\n",
    "    print(i)"
   ]
  },
  {
   "cell_type": "code",
   "execution_count": 34,
   "id": "a7f8293a",
   "metadata": {},
   "outputs": [
    {
     "name": "stdout",
     "output_type": "stream",
     "text": [
      "5\n",
      "4\n",
      "3\n",
      "2\n",
      "1\n"
     ]
    }
   ],
   "source": [
    "for i in range(5,0,-1):\n",
    "    print(i)"
   ]
  },
  {
   "cell_type": "code",
   "execution_count": 36,
   "id": "00b67dfd",
   "metadata": {},
   "outputs": [
    {
     "data": {
      "text/plain": [
       "[1, 2, 3, 4, 5]"
      ]
     },
     "execution_count": 36,
     "metadata": {},
     "output_type": "execute_result"
    }
   ],
   "source": [
    "lst_temp"
   ]
  },
  {
   "cell_type": "code",
   "execution_count": 35,
   "id": "4086c4d7",
   "metadata": {},
   "outputs": [
    {
     "name": "stdout",
     "output_type": "stream",
     "text": [
      "How many numbers do you want to enter? 5\n",
      "Enter a number: 1\n",
      "Enter a number: 2\n",
      "Enter a number: 3\n",
      "Enter a number: 4\n",
      "Enter a number: 5\n",
      "Mean:  3.0\n"
     ]
    }
   ],
   "source": [
    "a = eval(input(\"How many numbers do you want to enter? \"))\n",
    "lst_temp = []\n",
    "\n",
    "for i in range(a):\n",
    "    a_temp = eval(input(\"Enter a number: \"))\n",
    "    lst_temp.append(a_temp)\n",
    "    \n",
    "mean = sum(lst_temp)/len(lst_temp)\n",
    "    \n",
    "print(\"Mean: \", mean)"
   ]
  }
 ],
 "metadata": {
  "kernelspec": {
   "display_name": "Python 3 (ipykernel)",
   "language": "python",
   "name": "python3"
  },
  "language_info": {
   "codemirror_mode": {
    "name": "ipython",
    "version": 3
   },
   "file_extension": ".py",
   "mimetype": "text/x-python",
   "name": "python",
   "nbconvert_exporter": "python",
   "pygments_lexer": "ipython3",
   "version": "3.9.13"
  }
 },
 "nbformat": 4,
 "nbformat_minor": 5
}
