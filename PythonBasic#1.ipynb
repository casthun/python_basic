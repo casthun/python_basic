{
 "cells": [
  {
   "cell_type": "markdown",
   "id": "196d05fd",
   "metadata": {
    "id": "196d05fd"
   },
   "source": [
    "## 사칙연산"
   ]
  },
  {
   "cell_type": "code",
   "execution_count": null,
   "id": "276af1fd",
   "metadata": {
    "id": "276af1fd",
    "outputId": "071e14f0-608d-4626-c114-2873c20cfc9e"
   },
   "outputs": [
    {
     "data": {
      "text/plain": [
       "3"
      ]
     },
     "execution_count": 1,
     "metadata": {},
     "output_type": "execute_result"
    }
   ],
   "source": [
    "# 덧셈\n",
    "\n",
    "1+2"
   ]
  },
  {
   "cell_type": "code",
   "execution_count": null,
   "id": "dc213c57",
   "metadata": {
    "id": "dc213c57",
    "outputId": "d9e02f58-057e-4259-9a05-d1b449823275"
   },
   "outputs": [
    {
     "data": {
      "text/plain": [
       "1"
      ]
     },
     "execution_count": 2,
     "metadata": {},
     "output_type": "execute_result"
    }
   ],
   "source": [
    "# 뺄셈\n",
    "\n",
    "3-2"
   ]
  },
  {
   "cell_type": "code",
   "execution_count": null,
   "id": "bd7b3408",
   "metadata": {
    "id": "bd7b3408",
    "outputId": "ff183b3d-ff9a-4674-efcc-053e56cf7c5c"
   },
   "outputs": [
    {
     "data": {
      "text/plain": [
       "6"
      ]
     },
     "execution_count": 3,
     "metadata": {},
     "output_type": "execute_result"
    }
   ],
   "source": [
    "# 곱셈\n",
    "\n",
    "2*3"
   ]
  },
  {
   "cell_type": "code",
   "execution_count": null,
   "id": "5804c0be",
   "metadata": {
    "id": "5804c0be",
    "outputId": "6e069078-819e-457f-d83f-6e7c8a258896"
   },
   "outputs": [
    {
     "data": {
      "text/plain": [
       "2.5"
      ]
     },
     "execution_count": 4,
     "metadata": {},
     "output_type": "execute_result"
    }
   ],
   "source": [
    "# 나누기\n",
    "\n",
    "5/2"
   ]
  },
  {
   "cell_type": "code",
   "execution_count": null,
   "id": "f0621663",
   "metadata": {
    "id": "f0621663",
    "outputId": "75dd73d7-0337-4b3b-8c78-3fb764b0f560"
   },
   "outputs": [
    {
     "data": {
      "text/plain": [
       "2"
      ]
     },
     "execution_count": 5,
     "metadata": {},
     "output_type": "execute_result"
    }
   ],
   "source": [
    "# 몫\n",
    "\n",
    "5//2"
   ]
  },
  {
   "cell_type": "code",
   "execution_count": null,
   "id": "021e8898",
   "metadata": {
    "id": "021e8898",
    "outputId": "a0efc532-574f-4673-a5d4-ff90ad968544"
   },
   "outputs": [
    {
     "data": {
      "text/plain": [
       "1"
      ]
     },
     "execution_count": 6,
     "metadata": {},
     "output_type": "execute_result"
    }
   ],
   "source": [
    "# 나머지\n",
    "\n",
    "5%2"
   ]
  },
  {
   "cell_type": "code",
   "execution_count": null,
   "id": "94de4df7",
   "metadata": {
    "id": "94de4df7",
    "outputId": "087e4df0-44a8-46a5-e25b-64df4396025f"
   },
   "outputs": [
    {
     "data": {
      "text/plain": [
       "8"
      ]
     },
     "execution_count": 7,
     "metadata": {},
     "output_type": "execute_result"
    }
   ],
   "source": [
    "# 거듭제곱\n",
    "\n",
    "2**3"
   ]
  },
  {
   "cell_type": "markdown",
   "id": "8b725bff",
   "metadata": {
    "id": "8b725bff"
   },
   "source": [
    "## 변수"
   ]
  },
  {
   "cell_type": "code",
   "execution_count": null,
   "id": "025509c8",
   "metadata": {
    "colab": {
     "base_uri": "https://localhost:8080/"
    },
    "executionInfo": {
     "elapsed": 5,
     "status": "ok",
     "timestamp": 1678095728715,
     "user": {
      "displayName": "Hun Park",
      "userId": "02903063424710487386"
     },
     "user_tz": -540
    },
    "id": "025509c8",
    "outputId": "ec43b1eb-c4d5-42e7-eb53-2f02a97d7517"
   },
   "outputs": [
    {
     "data": {
      "text/plain": [
       "3"
      ]
     },
     "execution_count": 1,
     "metadata": {},
     "output_type": "execute_result"
    }
   ],
   "source": [
    "# 변수명 = 데이터 --> 데이터를 변수에 할당\n",
    "\n",
    "a = 3\n",
    "a"
   ]
  },
  {
   "cell_type": "code",
   "execution_count": null,
   "id": "a097077f",
   "metadata": {
    "colab": {
     "base_uri": "https://localhost:8080/"
    },
    "executionInfo": {
     "elapsed": 1059,
     "status": "ok",
     "timestamp": 1678095740791,
     "user": {
      "displayName": "Hun Park",
      "userId": "02903063424710487386"
     },
     "user_tz": -540
    },
    "id": "a097077f",
    "outputId": "06a6767c-47c2-49af-abdd-e07b454ae35f"
   },
   "outputs": [
    {
     "data": {
      "text/plain": [
       "4"
      ]
     },
     "execution_count": 2,
     "metadata": {},
     "output_type": "execute_result"
    }
   ],
   "source": [
    "# 변수명에 새로운 데이터를 할당\n",
    "\n",
    "a = 4\n",
    "a"
   ]
  },
  {
   "cell_type": "code",
   "execution_count": null,
   "id": "2bfdde45",
   "metadata": {
    "colab": {
     "base_uri": "https://localhost:8080/"
    },
    "executionInfo": {
     "elapsed": 8,
     "status": "ok",
     "timestamp": 1678095746392,
     "user": {
      "displayName": "Hun Park",
      "userId": "02903063424710487386"
     },
     "user_tz": -540
    },
    "id": "2bfdde45",
    "outputId": "c052fa9f-ee1e-4a11-c880-767ac79d2372"
   },
   "outputs": [
    {
     "data": {
      "text/plain": [
       "4"
      ]
     },
     "execution_count": 3,
     "metadata": {},
     "output_type": "execute_result"
    }
   ],
   "source": [
    "# 동일한 변수명에 연달아 데이터를 할당하는 경우\n",
    "# 마지막에 할당된 값이 저장됨\n",
    "\n",
    "a = 3\n",
    "a = 4\n",
    "a"
   ]
  },
  {
   "cell_type": "code",
   "execution_count": null,
   "id": "28aeb53b",
   "metadata": {
    "id": "28aeb53b",
    "outputId": "6d82ca72-75bf-4cd1-a669-26957cc49511"
   },
   "outputs": [
    {
     "data": {
      "text/plain": [
       "7"
      ]
     },
     "execution_count": 11,
     "metadata": {},
     "output_type": "execute_result"
    }
   ],
   "source": [
    "# 두 변수에 값을 할당한 후 변수 간 연산이 가능\n",
    "\n",
    "a = 3\n",
    "b = 4\n",
    "\n",
    "a+b"
   ]
  },
  {
   "cell_type": "code",
   "execution_count": null,
   "id": "c86e0e70",
   "metadata": {
    "id": "c86e0e70",
    "outputId": "5a4413c9-bcc6-4812-d52c-abec8752cd31"
   },
   "outputs": [
    {
     "data": {
      "text/plain": [
       "-1"
      ]
     },
     "execution_count": 12,
     "metadata": {},
     "output_type": "execute_result"
    }
   ],
   "source": [
    "# 뺄셈\n",
    "\n",
    "a-b"
   ]
  },
  {
   "cell_type": "code",
   "execution_count": null,
   "id": "dcbd78a6",
   "metadata": {
    "id": "dcbd78a6",
    "outputId": "1657512c-9257-4f73-8b53-7034a06d2097"
   },
   "outputs": [
    {
     "data": {
      "text/plain": [
       "12"
      ]
     },
     "execution_count": 13,
     "metadata": {},
     "output_type": "execute_result"
    }
   ],
   "source": [
    "# 곱셈\n",
    "\n",
    "a*b"
   ]
  },
  {
   "cell_type": "code",
   "execution_count": null,
   "id": "01ca3da4",
   "metadata": {
    "id": "01ca3da4",
    "outputId": "af0fb2df-d3be-4fe4-b536-af202bdede59"
   },
   "outputs": [
    {
     "data": {
      "text/plain": [
       "81"
      ]
     },
     "execution_count": 14,
     "metadata": {},
     "output_type": "execute_result"
    }
   ],
   "source": [
    "# 거듭제곱\n",
    "\n",
    "a**b"
   ]
  },
  {
   "cell_type": "code",
   "execution_count": null,
   "id": "c6889596",
   "metadata": {
    "id": "c6889596",
    "outputId": "f3fc9646-25ff-460f-dd9e-54a27dcdf11e"
   },
   "outputs": [
    {
     "data": {
      "text/plain": [
       "0.75"
      ]
     },
     "execution_count": 15,
     "metadata": {},
     "output_type": "execute_result"
    }
   ],
   "source": [
    "# 나눗셈\n",
    "\n",
    "a/b"
   ]
  },
  {
   "cell_type": "code",
   "execution_count": null,
   "id": "d1424dee",
   "metadata": {
    "id": "d1424dee",
    "outputId": "b1aefb3e-bbd6-4ff1-d45c-f0e1466b1408"
   },
   "outputs": [
    {
     "data": {
      "text/plain": [
       "0"
      ]
     },
     "execution_count": 16,
     "metadata": {},
     "output_type": "execute_result"
    }
   ],
   "source": [
    "# 몫 구하기\n",
    "\n",
    "a//b"
   ]
  },
  {
   "cell_type": "code",
   "execution_count": null,
   "id": "c0301584",
   "metadata": {
    "id": "c0301584",
    "outputId": "c8ac602c-b695-4e22-d33f-a30d8fca7e32"
   },
   "outputs": [
    {
     "data": {
      "text/plain": [
       "3"
      ]
     },
     "execution_count": 17,
     "metadata": {},
     "output_type": "execute_result"
    }
   ],
   "source": [
    "# 나머지 구하기\n",
    "\n",
    "a%b"
   ]
  },
  {
   "cell_type": "code",
   "execution_count": null,
   "id": "0c6a6a63",
   "metadata": {
    "id": "0c6a6a63",
    "outputId": "37d0491f-0cd2-4860-b11a-fe3a70796997"
   },
   "outputs": [
    {
     "ename": "SyntaxError",
     "evalue": "invalid syntax (486662231.py, line 1)",
     "output_type": "error",
     "traceback": [
      "\u001b[0;36m  File \u001b[0;32m\"/var/folders/p1/rdr79fn12mq0f_psp0gk93w00000gn/T/ipykernel_4559/486662231.py\"\u001b[0;36m, line \u001b[0;32m1\u001b[0m\n\u001b[0;31m    ab cd = 3\u001b[0m\n\u001b[0m       ^\u001b[0m\n\u001b[0;31mSyntaxError\u001b[0m\u001b[0;31m:\u001b[0m invalid syntax\n"
     ]
    }
   ],
   "source": [
    "# 변수명에 공백이 있는 경우 에러 반환\n",
    "\n",
    "ab cd = 3"
   ]
  },
  {
   "cell_type": "code",
   "execution_count": null,
   "id": "b90ead8f",
   "metadata": {
    "id": "b90ead8f",
    "outputId": "c4687edb-051d-4043-b191-1dfe5dbf470d"
   },
   "outputs": [
    {
     "ename": "SyntaxError",
     "evalue": "invalid syntax (4083826715.py, line 1)",
     "output_type": "error",
     "traceback": [
      "\u001b[0;36m  File \u001b[0;32m\"/var/folders/p1/rdr79fn12mq0f_psp0gk93w00000gn/T/ipykernel_4559/4083826715.py\"\u001b[0;36m, line \u001b[0;32m1\u001b[0m\n\u001b[0;31m    2ab = 3\u001b[0m\n\u001b[0m     ^\u001b[0m\n\u001b[0;31mSyntaxError\u001b[0m\u001b[0;31m:\u001b[0m invalid syntax\n"
     ]
    }
   ],
   "source": [
    "# 변수명이 숫자로 시작하는 경우 에러 반환\n",
    "\n",
    "2ab = 3"
   ]
  },
  {
   "cell_type": "code",
   "execution_count": null,
   "id": "5c2e264f",
   "metadata": {
    "id": "5c2e264f",
    "outputId": "ba100c73-fb8a-487d-b9ba-082824637c4b"
   },
   "outputs": [
    {
     "ename": "SyntaxError",
     "evalue": "invalid syntax (2960678850.py, line 3)",
     "output_type": "error",
     "traceback": [
      "\u001b[0;36m  File \u001b[0;32m\"/var/folders/p1/rdr79fn12mq0f_psp0gk93w00000gn/T/ipykernel_4559/2960678850.py\"\u001b[0;36m, line \u001b[0;32m3\u001b[0m\n\u001b[0;31m    class = 3\u001b[0m\n\u001b[0m          ^\u001b[0m\n\u001b[0;31mSyntaxError\u001b[0m\u001b[0;31m:\u001b[0m invalid syntax\n"
     ]
    }
   ],
   "source": [
    "# 미리 정의된 변수명은 사용불가\n",
    "\n",
    "class = 3\n",
    "class"
   ]
  },
  {
   "cell_type": "code",
   "execution_count": 1,
   "id": "mI4nyd_BECTZ",
   "metadata": {
    "colab": {
     "base_uri": "https://localhost:8080/",
     "height": 130
    },
    "executionInfo": {
     "elapsed": 13,
     "status": "error",
     "timestamp": 1678108552892,
     "user": {
      "displayName": "Hun Park",
      "userId": "02903063424710487386"
     },
     "user_tz": -540
    },
    "id": "mI4nyd_BECTZ",
    "outputId": "acbd6bd4-8226-44d9-dc52-a5d33dffcc0f"
   },
   "outputs": [
    {
     "ename": "SyntaxError",
     "evalue": "ignored",
     "output_type": "error",
     "traceback": [
      "\u001b[0;36m  File \u001b[0;32m\"<ipython-input-1-bc89436cd6b2>\"\u001b[0;36m, line \u001b[0;32m1\u001b[0m\n\u001b[0;31m    for = 3\u001b[0m\n\u001b[0m        ^\u001b[0m\n\u001b[0;31mSyntaxError\u001b[0m\u001b[0;31m:\u001b[0m invalid syntax\n"
     ]
    }
   ],
   "source": [
    "# 미리 정의된 변수명은 사용불가\n",
    "\n",
    "for = 3\n",
    "for"
   ]
  },
  {
   "cell_type": "code",
   "execution_count": null,
   "id": "b0c9cf4d",
   "metadata": {
    "id": "b0c9cf4d",
    "outputId": "db30d820-671f-4b75-8e11-b6bdfc1f4e4f"
   },
   "outputs": [
    {
     "data": {
      "text/plain": [
       "8712"
      ]
     },
     "execution_count": 21,
     "metadata": {},
     "output_type": "execute_result"
    }
   ],
   "source": [
    "# 변수 a와 변수 b에 각각 88, 99를 대입해서 a와 b의 곱을 계산\n",
    "\n",
    "a = 88\n",
    "b = 99\n",
    "a*b"
   ]
  },
  {
   "cell_type": "markdown",
   "id": "e38c5101",
   "metadata": {
    "id": "e38c5101"
   },
   "source": [
    "## 숫자\n",
    "- int: 정수\n",
    "- float: 실수\n",
    "- complex: 복소수"
   ]
  },
  {
   "cell_type": "code",
   "execution_count": null,
   "id": "b6753ddb",
   "metadata": {
    "id": "b6753ddb",
    "outputId": "8f8b33fb-197b-43dd-cc39-e79d6194bc45"
   },
   "outputs": [
    {
     "data": {
      "text/plain": [
       "int"
      ]
     },
     "execution_count": 22,
     "metadata": {},
     "output_type": "execute_result"
    }
   ],
   "source": [
    "# 정수 타입\n",
    "\n",
    "a = 1\n",
    "type(a)"
   ]
  },
  {
   "cell_type": "code",
   "execution_count": null,
   "id": "7d61ec60",
   "metadata": {
    "id": "7d61ec60",
    "outputId": "43a834ad-603b-448c-daae-20b5ac3087ff"
   },
   "outputs": [
    {
     "data": {
      "text/plain": [
       "float"
      ]
     },
     "execution_count": 23,
     "metadata": {},
     "output_type": "execute_result"
    }
   ],
   "source": [
    "# 실수(소수) 타입\n",
    "\n",
    "b = 2.0\n",
    "type(b)"
   ]
  },
  {
   "cell_type": "code",
   "execution_count": null,
   "id": "71908b37",
   "metadata": {
    "id": "71908b37",
    "outputId": "84aca5d8-fcd1-42bc-e882-dc689577b355"
   },
   "outputs": [
    {
     "data": {
      "text/plain": [
       "complex"
      ]
     },
     "execution_count": 26,
     "metadata": {},
     "output_type": "execute_result"
    }
   ],
   "source": [
    "# 복소수 타입\n",
    "\n",
    "c = 1 + 3j\n",
    "type(c)"
   ]
  },
  {
   "cell_type": "code",
   "execution_count": null,
   "id": "f5a3d9ee",
   "metadata": {
    "id": "f5a3d9ee",
    "outputId": "93ceeee9-9d9e-4d84-b1ee-dd62d23a89cf"
   },
   "outputs": [
    {
     "data": {
      "text/plain": [
       "1.0"
      ]
     },
     "execution_count": 28,
     "metadata": {},
     "output_type": "execute_result"
    }
   ],
   "source": [
    "# 복소수 c의 실수값\n",
    "\n",
    "c.real"
   ]
  },
  {
   "cell_type": "code",
   "execution_count": null,
   "id": "861ba7db",
   "metadata": {
    "id": "861ba7db",
    "outputId": "5b59c0b0-575a-4ec9-ae8e-40332f6fa61d"
   },
   "outputs": [
    {
     "data": {
      "text/plain": [
       "3.0"
      ]
     },
     "execution_count": 30,
     "metadata": {},
     "output_type": "execute_result"
    }
   ],
   "source": [
    "# 복소수 c의 허수값\n",
    "\n",
    "c.imag"
   ]
  },
  {
   "cell_type": "code",
   "execution_count": null,
   "id": "6c893ccd",
   "metadata": {
    "id": "6c893ccd",
    "outputId": "eae339e6-8fe4-4a2f-99e9-539867fea108"
   },
   "outputs": [
    {
     "data": {
      "text/plain": [
       "(3+4j)"
      ]
     },
     "execution_count": 64,
     "metadata": {},
     "output_type": "execute_result"
    }
   ],
   "source": [
    "a = 3\n",
    "b = 4\n",
    "z = complex(3, 4) # complex(실수부, 허수부)\n",
    "z"
   ]
  },
  {
   "cell_type": "code",
   "execution_count": null,
   "id": "68886c6e",
   "metadata": {
    "id": "68886c6e",
    "outputId": "9af01a15-8b88-4906-a0ef-62049312cf63"
   },
   "outputs": [
    {
     "data": {
      "text/plain": [
       "(3-4j)"
      ]
     },
     "execution_count": 65,
     "metadata": {},
     "output_type": "execute_result"
    }
   ],
   "source": [
    "# 켤레복소수\n",
    "\n",
    "w = z.conjugate()\n",
    "w"
   ]
  },
  {
   "cell_type": "markdown",
   "id": "29008be4",
   "metadata": {
    "id": "29008be4"
   },
   "source": [
    "## 문자열(string)"
   ]
  },
  {
   "cell_type": "code",
   "execution_count": 4,
   "id": "77954ddd",
   "metadata": {
    "colab": {
     "base_uri": "https://localhost:8080/",
     "height": 35
    },
    "executionInfo": {
     "elapsed": 283,
     "status": "ok",
     "timestamp": 1678108968544,
     "user": {
      "displayName": "Hun Park",
      "userId": "02903063424710487386"
     },
     "user_tz": -540
    },
    "id": "77954ddd",
    "outputId": "4921a18e-a2ce-4a7d-f4ff-4fe10e0b7ad9"
   },
   "outputs": [
    {
     "data": {
      "application/vnd.google.colaboratory.intrinsic+json": {
       "type": "string"
      },
      "text/plain": [
       "'대한민국'"
      ]
     },
     "execution_count": 4,
     "metadata": {},
     "output_type": "execute_result"
    }
   ],
   "source": [
    "# 문자열은 작은따옴표, 큰따옴표(쌍따옴표), 세쌍의 큰따옴표(혹은 작은따옴표)로로 이루어져 있음.\n",
    "# 작은따옴표로 시작하는 문자열은 작은따옴표로 끝나야 함.\n",
    "# 작은따옴표와 큰따옴표로 이루어진 문자열은 없음.\n",
    "# 아래는 큰따옴표로 이루어진 문자열임.\n",
    "\n",
    "a = \"대한민국\"\n",
    "a"
   ]
  },
  {
   "cell_type": "code",
   "execution_count": null,
   "id": "bfb4b1c4",
   "metadata": {
    "id": "bfb4b1c4",
    "outputId": "191c25d1-4238-42e5-a748-332cf43aa859"
   },
   "outputs": [
    {
     "data": {
      "text/plain": [
       "'대한민국'"
      ]
     },
     "execution_count": 37,
     "metadata": {},
     "output_type": "execute_result"
    }
   ],
   "source": [
    "# 아래는 작은따옴표로 이루어진 문자열임.\n",
    "\n",
    "b = '대한민국'\n",
    "b"
   ]
  },
  {
   "cell_type": "code",
   "execution_count": 2,
   "id": "1cfbba1d",
   "metadata": {
    "colab": {
     "base_uri": "https://localhost:8080/",
     "height": 35
    },
    "executionInfo": {
     "elapsed": 937,
     "status": "ok",
     "timestamp": 1678108955313,
     "user": {
      "displayName": "Hun Park",
      "userId": "02903063424710487386"
     },
     "user_tz": -540
    },
    "id": "1cfbba1d",
    "outputId": "d66fd023-04d5-4fc9-e256-60110cd26036"
   },
   "outputs": [
    {
     "data": {
      "application/vnd.google.colaboratory.intrinsic+json": {
       "type": "string"
      },
      "text/plain": [
       "'대한민국'"
      ]
     },
     "execution_count": 2,
     "metadata": {},
     "output_type": "execute_result"
    }
   ],
   "source": [
    "# 세쌍의 큰따옴표로 이루어진 문자열\n",
    "\n",
    "c = \"\"\"대한민국\"\"\"\n",
    "c"
   ]
  },
  {
   "cell_type": "code",
   "execution_count": 8,
   "id": "WUIQx-ySIC7g",
   "metadata": {
    "colab": {
     "base_uri": "https://localhost:8080/",
     "height": 35
    },
    "executionInfo": {
     "elapsed": 303,
     "status": "ok",
     "timestamp": 1678109612414,
     "user": {
      "displayName": "Hun Park",
      "userId": "02903063424710487386"
     },
     "user_tz": -540
    },
    "id": "WUIQx-ySIC7g",
    "outputId": "fe2b06b9-e203-4ab4-b43a-969b37dfeb51"
   },
   "outputs": [
    {
     "data": {
      "application/vnd.google.colaboratory.intrinsic+json": {
       "type": "string"
      },
      "text/plain": [
       "'대한민국'"
      ]
     },
     "execution_count": 8,
     "metadata": {},
     "output_type": "execute_result"
    }
   ],
   "source": [
    "# 세쌍의 작은따옴표로 이루어진 문자열\n",
    "\n",
    "d = '''대한민국'''\n",
    "d"
   ]
  },
  {
   "cell_type": "code",
   "execution_count": 10,
   "id": "qFWDDcUIILO_",
   "metadata": {
    "colab": {
     "base_uri": "https://localhost:8080/"
    },
    "executionInfo": {
     "elapsed": 10,
     "status": "ok",
     "timestamp": 1678109652373,
     "user": {
      "displayName": "Hun Park",
      "userId": "02903063424710487386"
     },
     "user_tz": -540
    },
    "id": "qFWDDcUIILO_",
    "outputId": "ee82c58a-2701-4e2f-e744-cfaeb611e6c8"
   },
   "outputs": [
    {
     "name": "stdout",
     "output_type": "stream",
     "text": [
      "대한\n",
      "민국\n"
     ]
    }
   ],
   "source": [
    "e = \"대한\\n민국\"\n",
    "print(e)"
   ]
  },
  {
   "cell_type": "code",
   "execution_count": 12,
   "id": "fXd8Zh4PIL9h",
   "metadata": {
    "colab": {
     "base_uri": "https://localhost:8080/"
    },
    "executionInfo": {
     "elapsed": 3,
     "status": "ok",
     "timestamp": 1678109690101,
     "user": {
      "displayName": "Hun Park",
      "userId": "02903063424710487386"
     },
     "user_tz": -540
    },
    "id": "fXd8Zh4PIL9h",
    "outputId": "3477393b-9e73-41d1-ad8d-5022832386d2"
   },
   "outputs": [
    {
     "name": "stdout",
     "output_type": "stream",
     "text": [
      "대한\n",
      "민국\n"
     ]
    }
   ],
   "source": [
    "# 세쌍의 따옴표로 이루어진 문자열은 여러줄 형태의 문자열 작성이 가능\n",
    "\n",
    "f = '''대한\n",
    "민국'''\n",
    "print(f)"
   ]
  },
  {
   "cell_type": "code",
   "execution_count": 14,
   "id": "DZI7f7qpIrMq",
   "metadata": {
    "colab": {
     "base_uri": "https://localhost:8080/",
     "height": 35
    },
    "executionInfo": {
     "elapsed": 10,
     "status": "ok",
     "timestamp": 1678109786765,
     "user": {
      "displayName": "Hun Park",
      "userId": "02903063424710487386"
     },
     "user_tz": -540
    },
    "id": "DZI7f7qpIrMq",
    "outputId": "f3d6cd62-4c12-44ad-bda2-a732d7b19bb0"
   },
   "outputs": [
    {
     "data": {
      "application/vnd.google.colaboratory.intrinsic+json": {
       "type": "string"
      },
      "text/plain": [
       "'그는 외쳤다. \"대한민국만세\"'"
      ]
     },
     "execution_count": 14,
     "metadata": {},
     "output_type": "execute_result"
    }
   ],
   "source": [
    "# 문자열에 큰 따옴표가 포함되는 경우 작은따옴표를 이용하여 문자열 구성\n",
    "\n",
    "g = '그는 외쳤다. \"대한민국만세\"'\n",
    "g"
   ]
  },
  {
   "cell_type": "code",
   "execution_count": 16,
   "id": "CEpZqbkCI2iW",
   "metadata": {
    "colab": {
     "base_uri": "https://localhost:8080/",
     "height": 35
    },
    "executionInfo": {
     "elapsed": 5,
     "status": "ok",
     "timestamp": 1678109850414,
     "user": {
      "displayName": "Hun Park",
      "userId": "02903063424710487386"
     },
     "user_tz": -540
    },
    "id": "CEpZqbkCI2iW",
    "outputId": "e4092e9d-47f2-4065-bcbc-0c013d706f47"
   },
   "outputs": [
    {
     "data": {
      "application/vnd.google.colaboratory.intrinsic+json": {
       "type": "string"
      },
      "text/plain": [
       "\"그는 다음과 같이 썼다. '대한민국만세'\""
      ]
     },
     "execution_count": 16,
     "metadata": {},
     "output_type": "execute_result"
    }
   ],
   "source": [
    "# 문자열에 작은따옴표가 포함되는 경우 큰따옴표를 이용하여 문자열 구성\n",
    "\n",
    "h = \"그는 다음과 같이 썼다. '대한민국만세'\"\n",
    "h"
   ]
  },
  {
   "cell_type": "code",
   "execution_count": 5,
   "id": "a991b706",
   "metadata": {
    "colab": {
     "base_uri": "https://localhost:8080/"
    },
    "executionInfo": {
     "elapsed": 8,
     "status": "ok",
     "timestamp": 1678108971014,
     "user": {
      "displayName": "Hun Park",
      "userId": "02903063424710487386"
     },
     "user_tz": -540
    },
    "id": "a991b706",
    "outputId": "fe4c8a39-88f3-4ba8-cdb1-a762862fe831"
   },
   "outputs": [
    {
     "data": {
      "text/plain": [
       "str"
      ]
     },
     "execution_count": 5,
     "metadata": {},
     "output_type": "execute_result"
    }
   ],
   "source": [
    "# 문자열 데이터 타입 확인\n",
    "\n",
    "type(a)"
   ]
  },
  {
   "cell_type": "code",
   "execution_count": null,
   "id": "6bd6d614",
   "metadata": {
    "id": "6bd6d614",
    "outputId": "3439a928-8822-43b9-f048-c9a12cae6693"
   },
   "outputs": [
    {
     "data": {
      "text/plain": [
       "'대한민국'"
      ]
     },
     "execution_count": 41,
     "metadata": {},
     "output_type": "execute_result"
    }
   ],
   "source": [
    "# +연산자로 문자열 연결\n",
    "\n",
    "\"대한\"+\"민국\""
   ]
  },
  {
   "cell_type": "code",
   "execution_count": null,
   "id": "7bc6a4d8",
   "metadata": {
    "id": "7bc6a4d8",
    "outputId": "2d655219-eeae-4fcf-eb94-4896aed1cdba"
   },
   "outputs": [
    {
     "data": {
      "text/plain": [
       "'대한대한대한대한대한'"
      ]
     },
     "execution_count": 42,
     "metadata": {},
     "output_type": "execute_result"
    }
   ],
   "source": [
    "# *연산자로 문자열 반복\n",
    "\n",
    "\"대한\"*5"
   ]
  },
  {
   "cell_type": "code",
   "execution_count": null,
   "id": "8ae23d77",
   "metadata": {
    "id": "8ae23d77",
    "outputId": "30e2ad2b-0adc-44be-a349-19e8c494a3e6"
   },
   "outputs": [
    {
     "data": {
      "text/plain": [
       "'대한 + 민국 = 대한민국'"
      ]
     },
     "execution_count": 44,
     "metadata": {},
     "output_type": "execute_result"
    }
   ],
   "source": [
    "\"대한 + 민국 = 대한민국\""
   ]
  },
  {
   "cell_type": "code",
   "execution_count": null,
   "id": "5833f878",
   "metadata": {
    "id": "5833f878",
    "outputId": "2dbba1ba-c0be-4268-924b-105c15a4f8d0"
   },
   "outputs": [
    {
     "data": {
      "text/plain": [
       "'대한 + 민국 = 대한민국'"
      ]
     },
     "execution_count": 51,
     "metadata": {},
     "output_type": "execute_result"
    }
   ],
   "source": [
    "# format 메소드로 새로운 문자열 구성\n",
    "\n",
    "a = '대한'\n",
    "b = '민국'\n",
    "\n",
    "'{} + {} = {}'.format(a, b, a+b)"
   ]
  },
  {
   "cell_type": "code",
   "execution_count": null,
   "id": "867f22da",
   "metadata": {
    "id": "867f22da",
    "outputId": "dc3ca544-eac1-4f6c-e860-432e3abb3dc7"
   },
   "outputs": [
    {
     "data": {
      "text/plain": [
       "'대한 + 민국 = 대한민국'"
      ]
     },
     "execution_count": 46,
     "metadata": {},
     "output_type": "execute_result"
    }
   ],
   "source": [
    "# +연산자로 직접 새로운 문자열 구성\n",
    "\n",
    "a = '대한'\n",
    "b = '민국'\n",
    "\n",
    "a+' + '+b+' = '+a+b"
   ]
  },
  {
   "cell_type": "code",
   "execution_count": null,
   "id": "72dadcd4",
   "metadata": {
    "id": "72dadcd4",
    "outputId": "ec8a6903-ba5b-4e7a-8ff0-ca6b58739e43"
   },
   "outputs": [
    {
     "data": {
      "text/plain": [
       "'대한 + 민국 = 대한민국'"
      ]
     },
     "execution_count": 48,
     "metadata": {},
     "output_type": "execute_result"
    }
   ],
   "source": [
    "# % formatting으로 새로운 문자열 구성\n",
    "# %s, %d, %f 등 이용\n",
    "\n",
    "a = '대한'\n",
    "b = '민국'\n",
    "\n",
    "'%s + %s = %s' % (a,b,a+b)"
   ]
  },
  {
   "cell_type": "code",
   "execution_count": null,
   "id": "c5c48220",
   "metadata": {
    "id": "c5c48220",
    "outputId": "053617db-d47c-4549-891e-4ef292551a75"
   },
   "outputs": [
    {
     "data": {
      "text/plain": [
       "'대한 + 민국 = 대한민국'"
      ]
     },
     "execution_count": 49,
     "metadata": {},
     "output_type": "execute_result"
    }
   ],
   "source": [
    "# f-string으로 새로운 문자열 구성\n",
    "\n",
    "a = '대한'\n",
    "b = '민국'\n",
    "\n",
    "f'{a} + {b} = {a+b}'"
   ]
  },
  {
   "cell_type": "code",
   "execution_count": null,
   "id": "11d9540f",
   "metadata": {
    "id": "11d9540f",
    "outputId": "db6ab1fb-9f94-41fa-8a39-b7c587d530fb"
   },
   "outputs": [
    {
     "name": "stdout",
     "output_type": "stream",
     "text": [
      "대\n",
      "한\n",
      "민\n",
      "국\n",
      "대 한 민 국\n",
      "대한민국\n",
      "대!한!민!국\n",
      "대:한:민:국\n"
     ]
    }
   ],
   "source": [
    "# 문자열 인덱싱\n",
    "\n",
    "a = '대한민국'\n",
    "print(a[0])\n",
    "print(a[1])\n",
    "print(a[2])\n",
    "print(a[3])\n",
    "\n",
    "print(a[0], a[1], a[2], a[3])\n",
    "print(a[0], a[1], a[2], a[3], sep=\"\")\n",
    "print(a[0], a[1], a[2], a[3], sep='!')\n",
    "print(a[0], a[1], a[2], a[3], sep=':')"
   ]
  },
  {
   "cell_type": "code",
   "execution_count": 3,
   "id": "21578115",
   "metadata": {
    "id": "21578115",
    "outputId": "4d99b2b6-2b2c-4fc2-f1a2-bda2a8b0c7cf"
   },
   "outputs": [
    {
     "data": {
      "text/plain": [
       "'1'"
      ]
     },
     "execution_count": 3,
     "metadata": {},
     "output_type": "execute_result"
    }
   ],
   "source": [
    "a[-1] # 문자열에서 맨 마지막 글자를 반환"
   ]
  },
  {
   "cell_type": "code",
   "execution_count": null,
   "id": "fb5cf1b2",
   "metadata": {
    "id": "fb5cf1b2",
    "outputId": "768f0bd7-c671-46e9-af31-f138165e5501"
   },
   "outputs": [
    {
     "data": {
      "text/plain": [
       "'민'"
      ]
     },
     "execution_count": 61,
     "metadata": {},
     "output_type": "execute_result"
    }
   ],
   "source": [
    "a[-2] # 문자열에서 맨 마지막 글자의 앞글자를 반환"
   ]
  },
  {
   "cell_type": "code",
   "execution_count": null,
   "id": "c805eee8",
   "metadata": {
    "id": "c805eee8",
    "outputId": "2af3c566-1a22-477f-c714-5309a32b728e"
   },
   "outputs": [
    {
     "data": {
      "text/plain": [
       "'대한'"
      ]
     },
     "execution_count": 33,
     "metadata": {},
     "output_type": "execute_result"
    }
   ],
   "source": [
    "# 슬라이싱\n",
    "\n",
    "a = \"대한민국만세\"\n",
    "\n",
    "a[0:2]"
   ]
  },
  {
   "cell_type": "code",
   "execution_count": null,
   "id": "69e1dded",
   "metadata": {
    "id": "69e1dded",
    "outputId": "d8526f91-5cb9-4af6-dc79-07fe20009b5e"
   },
   "outputs": [
    {
     "data": {
      "text/plain": [
       "'민국만'"
      ]
     },
     "execution_count": 2,
     "metadata": {},
     "output_type": "execute_result"
    }
   ],
   "source": [
    "a[2:5]"
   ]
  },
  {
   "cell_type": "code",
   "execution_count": null,
   "id": "0fb2fb8b",
   "metadata": {
    "id": "0fb2fb8b",
    "outputId": "93c33bc7-61eb-4ca4-dec9-56ad16b5deb6"
   },
   "outputs": [
    {
     "data": {
      "text/plain": [
       "'대한민국만세'"
      ]
     },
     "execution_count": 3,
     "metadata": {},
     "output_type": "execute_result"
    }
   ],
   "source": [
    "# 문자열 전체를 반환\n",
    "\n",
    "a[:]"
   ]
  },
  {
   "cell_type": "code",
   "execution_count": null,
   "id": "f4161d54",
   "metadata": {
    "id": "f4161d54",
    "outputId": "a9ec439c-c51b-48c1-f9be-0b43506acfce"
   },
   "outputs": [
    {
     "data": {
      "text/plain": [
       "'대한'"
      ]
     },
     "execution_count": 4,
     "metadata": {},
     "output_type": "execute_result"
    }
   ],
   "source": [
    "# a[0:2]와 동일\n",
    "\n",
    "a[:2]"
   ]
  },
  {
   "cell_type": "code",
   "execution_count": null,
   "id": "b008e5b5",
   "metadata": {
    "id": "b008e5b5",
    "outputId": "d903f536-ca72-44ce-b06b-6de59c7c0272"
   },
   "outputs": [
    {
     "data": {
      "text/plain": [
       "'국만세'"
      ]
     },
     "execution_count": 35,
     "metadata": {},
     "output_type": "execute_result"
    }
   ],
   "source": [
    "# 3번 인덱스부터 끝까지의 문자열을 반환\n",
    "\n",
    "a[3:]"
   ]
  },
  {
   "cell_type": "markdown",
   "id": "91085d61",
   "metadata": {},
   "source": [
    "#### 문자열 주요 메소드"
   ]
  },
  {
   "cell_type": "code",
   "execution_count": 1,
   "id": "de3d9deb",
   "metadata": {
    "id": "de3d9deb",
    "outputId": "0579458a-a22d-4a4b-b62a-7eb3adfd3bdb"
   },
   "outputs": [
    {
     "data": {
      "text/plain": [
       "6"
      ]
     },
     "execution_count": 1,
     "metadata": {},
     "output_type": "execute_result"
    }
   ],
   "source": [
    "# 문자열 길이를 숫자로 반환\n",
    "\n",
    "a = \"대한민국만세\"\n",
    "\n",
    "len(a)"
   ]
  },
  {
   "cell_type": "code",
   "execution_count": null,
   "id": "4c521281",
   "metadata": {
    "id": "4c521281",
    "outputId": "0568a50a-a53b-41bb-883b-fea5987d7b2e"
   },
   "outputs": [
    {
     "data": {
      "text/plain": [
       "1"
      ]
     },
     "execution_count": 9,
     "metadata": {},
     "output_type": "execute_result"
    }
   ],
   "source": [
    "# \"한\"이 들어간 문자의 개수를 반환\n",
    "\n",
    "a.count(\"한\")"
   ]
  },
  {
   "cell_type": "code",
   "execution_count": null,
   "id": "eda1cd95",
   "metadata": {
    "id": "eda1cd95",
    "outputId": "28d897af-696b-4823-a458-47b09e4d8b41"
   },
   "outputs": [
    {
     "data": {
      "text/plain": [
       "2"
      ]
     },
     "execution_count": 10,
     "metadata": {},
     "output_type": "execute_result"
    }
   ],
   "source": [
    "# \"민\"이 위치한 인덱스 값을 반환\n",
    "\n",
    "a.find('민')"
   ]
  },
  {
   "cell_type": "code",
   "execution_count": null,
   "id": "a7dec3b4",
   "metadata": {
    "id": "a7dec3b4",
    "outputId": "2a5f0b20-c42a-4273-a2a8-fd1a356deba5"
   },
   "outputs": [
    {
     "data": {
      "text/plain": [
       "7"
      ]
     },
     "execution_count": 13,
     "metadata": {},
     "output_type": "execute_result"
    }
   ],
   "source": [
    "# \"만\"이 뒤에서 처음으로 나타나는 인덱스 값을 반환 \n",
    "\n",
    "b = \"대한대한민국만만세\"\n",
    "\n",
    "b.rfind('만')"
   ]
  },
  {
   "cell_type": "code",
   "execution_count": null,
   "id": "288d6f1e",
   "metadata": {
    "id": "288d6f1e",
    "outputId": "52bb4b10-2545-4dda-98de-a47d1d61f38f"
   },
   "outputs": [
    {
     "data": {
      "text/plain": [
       "['대한대한민국', '만만세']"
      ]
     },
     "execution_count": 17,
     "metadata": {},
     "output_type": "execute_result"
    }
   ],
   "source": [
    "# 공백이 있는 경우 공백을 기준으로 문자열을 분리\n",
    "\n",
    "b = \"대한대한민국 만만세\"\n",
    "\n",
    "b.split()"
   ]
  },
  {
   "cell_type": "code",
   "execution_count": null,
   "id": "a6130dca",
   "metadata": {
    "id": "a6130dca",
    "outputId": "094f4725-0bd0-4eb8-a662-520f92753379"
   },
   "outputs": [
    {
     "data": {
      "text/plain": [
       "['대', '대', '민국 만만세']"
      ]
     },
     "execution_count": 18,
     "metadata": {},
     "output_type": "execute_result"
    }
   ],
   "source": [
    "# 특정 문자열을 기준으로 문자열을 분리\n",
    "\n",
    "b.split(\"한\")"
   ]
  },
  {
   "cell_type": "code",
   "execution_count": null,
   "id": "90405d53",
   "metadata": {
    "id": "90405d53",
    "outputId": "e53cdc79-f591-4272-af31-dc5fe384f50c"
   },
   "outputs": [
    {
     "data": {
      "text/plain": [
       "['a', 'b', 'c', 'd', 'e', 'f', 'g']"
      ]
     },
     "execution_count": 39,
     "metadata": {},
     "output_type": "execute_result"
    }
   ],
   "source": [
    "# ,를 기준으로 문자열을 분리\n",
    "\n",
    "\"a, b, c, d, e, f, g\".split(\", \")"
   ]
  },
  {
   "cell_type": "code",
   "execution_count": null,
   "id": "673fb408",
   "metadata": {
    "id": "673fb408",
    "outputId": "de657869-3ce2-412a-8faa-70644d027946"
   },
   "outputs": [
    {
     "name": "stdout",
     "output_type": "stream",
     "text": [
      "PYTHON\n",
      "python\n"
     ]
    }
   ],
   "source": [
    "c = \"Python\"\n",
    "\n",
    "print(c.upper()) # 문자열을 모두 대문자로 변환\n",
    "print(c.lower()) # 문자열을 모두 소문자로 변환"
   ]
  },
  {
   "cell_type": "code",
   "execution_count": null,
   "id": "1b36b28f",
   "metadata": {
    "id": "1b36b28f",
    "outputId": "21978362-b45e-40c7-d813-fb27a0371c55"
   },
   "outputs": [
    {
     "data": {
      "text/plain": [
       "'Code'"
      ]
     },
     "execution_count": 21,
     "metadata": {},
     "output_type": "execute_result"
    }
   ],
   "source": [
    "\"coDE\".capitalize() # 문자열 첫글자만 대문자로 나머지는 소문자로 변환"
   ]
  },
  {
   "cell_type": "code",
   "execution_count": null,
   "id": "c5e22bd9",
   "metadata": {
    "id": "c5e22bd9",
    "outputId": "a4bab6ee-f96a-4f6c-ed48-3e06c2d93fc4"
   },
   "outputs": [
    {
     "data": {
      "text/plain": [
       "'Ben Hur'"
      ]
     },
     "execution_count": 22,
     "metadata": {},
     "output_type": "execute_result"
    }
   ],
   "source": [
    "\"beN hur\".title() # 공백으로 분리된 문자열의 첫글자를 대문자로 나머지는 소문자로 변환"
   ]
  },
  {
   "cell_type": "code",
   "execution_count": null,
   "id": "b59c7049",
   "metadata": {
    "id": "b59c7049",
    "outputId": "d7a3d7b4-16b8-4ccd-f49d-1b70a5002940"
   },
   "outputs": [
    {
     "data": {
      "text/plain": [
       "'ab'"
      ]
     },
     "execution_count": 29,
     "metadata": {},
     "output_type": "execute_result"
    }
   ],
   "source": [
    "\"ab \".rstrip() # 문자열 중 오른쪽 white space(\" \", \\n, \\t) 제거 "
   ]
  },
  {
   "cell_type": "code",
   "execution_count": 6,
   "id": "AzMyKJiuGO8K",
   "metadata": {
    "colab": {
     "base_uri": "https://localhost:8080/",
     "height": 35
    },
    "executionInfo": {
     "elapsed": 341,
     "status": "ok",
     "timestamp": 1678109122943,
     "user": {
      "displayName": "Hun Park",
      "userId": "02903063424710487386"
     },
     "user_tz": -540
    },
    "id": "AzMyKJiuGO8K",
    "outputId": "ad8ae545-82d2-4ed6-fbbf-c6f0d7da566a"
   },
   "outputs": [
    {
     "data": {
      "application/vnd.google.colaboratory.intrinsic+json": {
       "type": "string"
      },
      "text/plain": [
       "'ab'"
      ]
     },
     "execution_count": 6,
     "metadata": {},
     "output_type": "execute_result"
    }
   ],
   "source": [
    "\"ab\\t\".rstrip() # 문자열 중 오른쪽 white space(\" \", \\n, \\t) 제거"
   ]
  },
  {
   "cell_type": "code",
   "execution_count": 7,
   "id": "UOSp71maGTJ_",
   "metadata": {
    "colab": {
     "base_uri": "https://localhost:8080/",
     "height": 35
    },
    "executionInfo": {
     "elapsed": 9,
     "status": "ok",
     "timestamp": 1678109139164,
     "user": {
      "displayName": "Hun Park",
      "userId": "02903063424710487386"
     },
     "user_tz": -540
    },
    "id": "UOSp71maGTJ_",
    "outputId": "c9cc275f-8982-40a3-b3a8-06fc4229e798"
   },
   "outputs": [
    {
     "data": {
      "application/vnd.google.colaboratory.intrinsic+json": {
       "type": "string"
      },
      "text/plain": [
       "'ab'"
      ]
     },
     "execution_count": 7,
     "metadata": {},
     "output_type": "execute_result"
    }
   ],
   "source": [
    "\"ab\\n\".rstrip() # 문자열 중 오른쪽 white space(\" \", \\n, \\t) 제거"
   ]
  },
  {
   "cell_type": "code",
   "execution_count": null,
   "id": "bda2dbc7",
   "metadata": {
    "id": "bda2dbc7",
    "outputId": "730dc038-8d52-463e-cab3-0fea19d52400"
   },
   "outputs": [
    {
     "data": {
      "text/plain": [
       "'ab'"
      ]
     },
     "execution_count": 30,
     "metadata": {},
     "output_type": "execute_result"
    }
   ],
   "source": [
    "\"ab \".strip() # 문자열 중 양쪽 white space(\" \", \\n, \\t) 제거"
   ]
  },
  {
   "cell_type": "code",
   "execution_count": null,
   "id": "7839cbed",
   "metadata": {
    "id": "7839cbed",
    "outputId": "c42af64f-1701-4547-aaf4-5ff832fe9e21"
   },
   "outputs": [
    {
     "data": {
      "text/plain": [
       "'ab'"
      ]
     },
     "execution_count": 31,
     "metadata": {},
     "output_type": "execute_result"
    }
   ],
   "source": [
    "\"  ab \".strip() # 문자열 중 양쪽 white space(\" \", \\n, \\t) 제거"
   ]
  },
  {
   "cell_type": "code",
   "execution_count": null,
   "id": "3269506b",
   "metadata": {
    "id": "3269506b",
    "outputId": "faa53581-de68-4cba-81f4-8e3da94a9755"
   },
   "outputs": [
    {
     "data": {
      "text/plain": [
       "'ab '"
      ]
     },
     "execution_count": 32,
     "metadata": {},
     "output_type": "execute_result"
    }
   ],
   "source": [
    "\"  ab \".lstrip() # 문자열 중 왼쪽 white space(\" \", \\n, \\t) 제거"
   ]
  },
  {
   "cell_type": "code",
   "execution_count": null,
   "id": "3e98b734",
   "metadata": {
    "id": "3e98b734",
    "outputId": "c9f89b24-9c54-4f93-e416-4d2f8a3bead2"
   },
   "outputs": [
    {
     "data": {
      "text/plain": [
       "'대한민국화이팅'"
      ]
     },
     "execution_count": 36,
     "metadata": {},
     "output_type": "execute_result"
    }
   ],
   "source": [
    "a = \"대한민국만세\"\n",
    "\n",
    "a.replace(\"만세\", \"화이팅\") # replace(\"변경 전 일부 문자열\", \"변경 후 문자열\")"
   ]
  },
  {
   "cell_type": "code",
   "execution_count": 6,
   "id": "f0f44c73",
   "metadata": {
    "id": "f0f44c73",
    "outputId": "d7e79469-c0e7-4e54-fdff-f4bbdb48f468"
   },
   "outputs": [
    {
     "name": "stdout",
     "output_type": "stream",
     "text": [
      "True\n",
      "False\n",
      "False\n",
      "False\n",
      "\n",
      "False\n",
      "True\n",
      "True\n",
      "False\n",
      "\n",
      "True\n",
      "True\n",
      "True\n",
      "True\n"
     ]
    }
   ],
   "source": [
    "a = '1'\n",
    "b = 'abcd'\n",
    "c = \"대한민국만세\"\n",
    "d = \"대한민국60주년\"\n",
    "\n",
    "print(a.isdigit()) # 문자열이 숫자로만 이루어진 경우 True\n",
    "print(b.isdigit())\n",
    "print(c.isdigit())\n",
    "print(d.isdigit())\n",
    "print()\n",
    "print(a.isalpha()) # 문자열이 글자(한글, 영어)로만 이루어진 경우 True\n",
    "print(b.isalpha())\n",
    "print(c.isalpha())\n",
    "print(d.isalpha())\n",
    "print()\n",
    "print(a.isalnum()) # 문자열이 글자 혹은 숫자로 이루어진 경우 True\n",
    "print(b.isalnum())\n",
    "print(c.isalnum())\n",
    "print(d.isalnum()) "
   ]
  },
  {
   "cell_type": "markdown",
   "id": "fd3d3ec0",
   "metadata": {
    "id": "fd3d3ec0"
   },
   "source": [
    "## print 함수 및 sep 인자\n",
    "- 값이 문자열이나 숫자인 print(value0, value1, value2, ..., valueN) 형태의 명령은 공백으로 구분된 연속된 값으로 된 값을 화면상에 표시함.\n",
    "- sep 인자를 이용하여 우리가 원하는 구분자를 변경할 수 있음."
   ]
  },
  {
   "cell_type": "code",
   "execution_count": null,
   "id": "f2ee27e1",
   "metadata": {
    "id": "f2ee27e1",
    "outputId": "c53536ef-5f4d-4153-df0f-5a6ec6c9e350"
   },
   "outputs": [
    {
     "name": "stdout",
     "output_type": "stream",
     "text": [
      "Hello World Python\n"
     ]
    }
   ],
   "source": [
    "print(\"Hello\", \"World\", \"Python\")"
   ]
  },
  {
   "cell_type": "code",
   "execution_count": null,
   "id": "56b04f6c",
   "metadata": {
    "id": "56b04f6c",
    "outputId": "46b19c7b-8f78-4cb5-a7bc-be6b6042d8e0"
   },
   "outputs": [
    {
     "name": "stdout",
     "output_type": "stream",
     "text": [
      "Hello World Python\n"
     ]
    }
   ],
   "source": [
    "print(\"Hello\", \"World\", \"Python\", sep = ' ')"
   ]
  },
  {
   "cell_type": "code",
   "execution_count": null,
   "id": "850c1fb7",
   "metadata": {
    "id": "850c1fb7",
    "outputId": "76ec2946-e337-4c26-a4db-f32982caefbe"
   },
   "outputs": [
    {
     "name": "stdout",
     "output_type": "stream",
     "text": [
      "HelloWorldPython\n"
     ]
    }
   ],
   "source": [
    "print(\"Hello\", \"World\", \"Python\", sep = '')"
   ]
  },
  {
   "cell_type": "code",
   "execution_count": null,
   "id": "a135970b",
   "metadata": {
    "id": "a135970b",
    "outputId": "ec346bf7-b1c3-4b0f-c40d-d7cc7b354fd2"
   },
   "outputs": [
    {
     "name": "stdout",
     "output_type": "stream",
     "text": [
      "Hello*World*Python\n"
     ]
    }
   ],
   "source": [
    "print(\"Hello\", \"World\", \"Python\", sep = '*')"
   ]
  },
  {
   "cell_type": "code",
   "execution_count": null,
   "id": "b879b2f1",
   "metadata": {
    "id": "b879b2f1",
    "outputId": "22a4b280-d9a6-43f5-b31a-b5b580f18860"
   },
   "outputs": [
    {
     "name": "stdout",
     "output_type": "stream",
     "text": [
      "Hello - World - Python\n"
     ]
    }
   ],
   "source": [
    "print(\"Hello\", \"World\", \"Python\", sep=' - ')"
   ]
  },
  {
   "cell_type": "code",
   "execution_count": null,
   "id": "4fdd6226",
   "metadata": {
    "id": "4fdd6226",
    "outputId": "6a32472c-f5f5-48d6-93ff-c4002899dc67"
   },
   "outputs": [
    {
     "name": "stdout",
     "output_type": "stream",
     "text": [
      "012345678901234567890123456789\n",
      "Rank Player                 HR\n",
      "  1  Barry Bonds           762\n",
      "  2  Hank Aaron            755\n",
      "  3  Babe Ruth             714\n"
     ]
    }
   ],
   "source": [
    "print(\"012345678901234567890123456789\")\n",
    "print(\"Rank\".ljust(5), \"Player\".ljust(20), \"HR\".rjust(5), sep= \"\")\n",
    "print('1'.center(5), \"Barry Bonds\".ljust(20), \"762\".rjust(5), sep=\"\")\n",
    "print('2'.center(5), \"Hank Aaron\".ljust(20), \"755\".rjust(5), sep=\"\")\n",
    "print('3'.center(5), \"Babe Ruth\".ljust(20), \"714\".rjust(5), sep=\"\")"
   ]
  },
  {
   "cell_type": "code",
   "execution_count": null,
   "id": "3253a0bf",
   "metadata": {
    "id": "3253a0bf",
    "outputId": "dc32c996-5e65-4bb5-b3e0-166de3ecaac7"
   },
   "outputs": [
    {
     "name": "stdout",
     "output_type": "stream",
     "text": [
      "0123456789\n",
      "    1     \n"
     ]
    }
   ],
   "source": [
    "print(\"0123456789\")\n",
    "print(\"1\".center(10))"
   ]
  },
  {
   "cell_type": "code",
   "execution_count": null,
   "id": "a27731e7",
   "metadata": {
    "id": "a27731e7",
    "outputId": "e7fcbfc8-01db-46b6-b7c9-0d23cf569998"
   },
   "outputs": [
    {
     "name": "stdout",
     "output_type": "stream",
     "text": [
      "0123456789\n",
      "1         \n"
     ]
    }
   ],
   "source": [
    "print(\"0123456789\")\n",
    "print(\"1\".ljust(10))"
   ]
  },
  {
   "cell_type": "code",
   "execution_count": null,
   "id": "25b7acc7",
   "metadata": {
    "id": "25b7acc7",
    "outputId": "8cfe5c4e-b7a6-49d3-e349-c7f70c77e6ea"
   },
   "outputs": [
    {
     "name": "stdout",
     "output_type": "stream",
     "text": [
      "0123456789\n",
      "         1\n"
     ]
    }
   ],
   "source": [
    "print(\"0123456789\")\n",
    "print(\"1\".rjust(10))"
   ]
  },
  {
   "cell_type": "markdown",
   "id": "d7311a8d",
   "metadata": {
    "id": "d7311a8d"
   },
   "source": [
    "## end 인자\n",
    "- print(value0, value1, value2, ..., valueN, end=endString) 형태의 명령은 value0부터 valueN까지 화면상에 출력한 후 endString를 신규 행 연산없이 동일한 행에 표시함."
   ]
  },
  {
   "cell_type": "code",
   "execution_count": 8,
   "id": "f5b38f88",
   "metadata": {
    "id": "f5b38f88",
    "outputId": "1474eaff-34a9-476d-9159-5cec14f739fa"
   },
   "outputs": [
    {
     "name": "stdout",
     "output_type": "stream",
     "text": [
      "Hello\n",
      "World!!!\n"
     ]
    }
   ],
   "source": [
    "print(\"Hello\")\n",
    "print(\"World!!!\")"
   ]
  },
  {
   "cell_type": "code",
   "execution_count": 9,
   "id": "b6eb2c61",
   "metadata": {},
   "outputs": [
    {
     "name": "stdout",
     "output_type": "stream",
     "text": [
      "Hello\n",
      "World!!!\n"
     ]
    }
   ],
   "source": [
    "print(\"Hello\", end='\\n')\n",
    "print(\"World!!!\")"
   ]
  },
  {
   "cell_type": "code",
   "execution_count": null,
   "id": "ef88c310",
   "metadata": {
    "id": "ef88c310",
    "outputId": "e3b7cdab-7bbb-4556-b831-d1611ed13736"
   },
   "outputs": [
    {
     "name": "stdout",
     "output_type": "stream",
     "text": [
      "Hello World!!\n"
     ]
    }
   ],
   "source": [
    "print(\"Hello\", end= ' ')\n",
    "print(\"World!!\")"
   ]
  },
  {
   "cell_type": "code",
   "execution_count": null,
   "id": "c5151691",
   "metadata": {
    "id": "c5151691",
    "outputId": "8f35d64c-eb59-4574-f6fb-be3d647b0298"
   },
   "outputs": [
    {
     "name": "stdout",
     "output_type": "stream",
     "text": [
      "HelloWorld!!\n"
     ]
    }
   ],
   "source": [
    "print(\"Hello\", end = '')\n",
    "print(\"World!!\")"
   ]
  },
  {
   "cell_type": "code",
   "execution_count": 10,
   "id": "c5e3bfcf",
   "metadata": {},
   "outputs": [
    {
     "name": "stdout",
     "output_type": "stream",
     "text": [
      "Hello\tWorld!!\n"
     ]
    }
   ],
   "source": [
    "print(\"Hello\", end = '\\t')\n",
    "print(\"World!!\")"
   ]
  },
  {
   "cell_type": "markdown",
   "id": "ccc5cbba",
   "metadata": {
    "id": "ccc5cbba"
   },
   "source": [
    "## 이스케이프 시퀀스\n",
    "- 커서를 지시하거나 몇 개의 특수문자를 출력하도록 하는 문자열 내에 위치하는 짧은 시퀀스임.\n",
    "- \\t: 수평 탭\n",
    "- \\n: 신규 라인 연산 유도"
   ]
  },
  {
   "cell_type": "code",
   "execution_count": null,
   "id": "2f1f9665",
   "metadata": {
    "id": "2f1f9665",
    "outputId": "b3be35e0-4153-4efc-d931-069519b91935"
   },
   "outputs": [
    {
     "name": "stdout",
     "output_type": "stream",
     "text": [
      "0123456789\n",
      "abcdefg\n"
     ]
    }
   ],
   "source": [
    "print(\"0123456789\")\n",
    "print(\"abcdefg\")"
   ]
  },
  {
   "cell_type": "code",
   "execution_count": null,
   "id": "44a13d51",
   "metadata": {
    "id": "44a13d51",
    "outputId": "b319de9e-b79b-45cb-ac19-4f67f582ac4a"
   },
   "outputs": [
    {
     "name": "stdout",
     "output_type": "stream",
     "text": [
      "0123456789\n",
      "\n",
      "abcdefg\n"
     ]
    }
   ],
   "source": [
    "print(\"0123456789\")\n",
    "print(\"\\nabcdefg\")"
   ]
  },
  {
   "cell_type": "code",
   "execution_count": null,
   "id": "54b9b00f",
   "metadata": {
    "id": "54b9b00f",
    "outputId": "a26d88ee-f6d9-4c33-9ef4-0b5a5203d254"
   },
   "outputs": [
    {
     "name": "stdout",
     "output_type": "stream",
     "text": [
      "0123456789\n",
      "abc\n"
     ]
    }
   ],
   "source": [
    "print(\"0123456789\")\n",
    "print(\"abc\")"
   ]
  },
  {
   "cell_type": "code",
   "execution_count": 12,
   "id": "cb60f807",
   "metadata": {
    "id": "cb60f807",
    "outputId": "34c65319-279c-488d-8d75-0a3567e18786"
   },
   "outputs": [
    {
     "name": "stdout",
     "output_type": "stream",
     "text": [
      "01234567890123456\n",
      "a\tb\tc\n"
     ]
    }
   ],
   "source": [
    "print(\"01234567890123456\")\n",
    "print(\"a\\tb\\tc\")"
   ]
  },
  {
   "cell_type": "code",
   "execution_count": null,
   "id": "0185d3e5",
   "metadata": {
    "id": "0185d3e5",
    "outputId": "d6c19f9a-30a3-4eae-a9c0-3ee6c0335ed6"
   },
   "outputs": [
    {
     "name": "stdout",
     "output_type": "stream",
     "text": [
      "012345678901234567890123456789\n",
      "a\tb\tc\n",
      "a  b  c\n",
      "a   b   c\n",
      "a    b    c\n",
      "a     b     c\n"
     ]
    }
   ],
   "source": [
    "print(\"012345678901234567890123456789\")\n",
    "print(\"a\\tb\\tc\")\n",
    "print(\"a\\tb\\tc\".expandtabs(3))\n",
    "print(\"a\\tb\\tc\".expandtabs(4))\n",
    "print(\"a\\tb\\tc\".expandtabs(5))\n",
    "print(\"a\\tb\\tc\".expandtabs(6))"
   ]
  },
  {
   "cell_type": "markdown",
   "id": "9d54bdd2",
   "metadata": {
    "id": "9d54bdd2"
   },
   "source": [
    "## format 메소드로 출력물 정리하기\n",
    "- str1이 문자열이고, w가 폭이라면 다음은 동일한 결과를 반환함.\n",
    "    - print(\"{0:<ws}\".format(str1) --> print(str1.ljust(w))\n",
    "    - print(\"{0:^ws}\".format(str1) --> print(str1.center(w))\n",
    "    - print(\"{0:>ws}\".format(str1) --> print(str1.rjust(w))\n",
    "- num이 숫자이고, w가 폭이라면 다음은 동일한 결과를 반환함.\n",
    "    - print(\"{0:<wn}\".format(num)) --> print(str(num).ljust(w))\n",
    "    - print(\"{0:^wn}\".format(num)) --> print(str(num).center(w))\n",
    "    - print(\"{0:>wn}\".format(num)) --> print(str(num).rjust(w))\n",
    "- 숫자 출력 형식을 설정할 때, 숫자 형식에 해당하는 괄호 안에 문자 n을 사용하는 것보다 정수에는 문자 d를 사용하고, 소수점 문자에는 문자 f를 사용함.\n",
    "- 퍼센트로 표시되도록 하기 위해 부호 %를 사용함.\n",
    "- 폭 다음에 콤마를 삽입하여 천 단위 구분자를 설정할 수 있음."
   ]
  },
  {
   "cell_type": "code",
   "execution_count": null,
   "id": "0f88d855",
   "metadata": {
    "id": "0f88d855",
    "outputId": "e787bbbc-fe5c-4aa0-ac2c-48021d589a4d"
   },
   "outputs": [
    {
     "name": "stdout",
     "output_type": "stream",
     "text": [
      "0123456789012345678901234567\n",
      "Rank Player               HR\n",
      "  1  Barry Bonds         762\n",
      "  2  Hank Aaron          755\n",
      "  3  Babe Ruth           714\n"
     ]
    }
   ],
   "source": [
    "print(\"0123456789012345678901234567\")\n",
    "print(\"{0:<5s}{1:<20s}{2:>3s}\".format(\"Rank\", \"Player\", \"HR\"))\n",
    "print(\"{0:^5n}{1:<20s}{2:>3n}\".format(1, \"Barry Bonds\", 762))\n",
    "print(\"{0:^5n}{1:<20s}{2:>3n}\".format(2, \"Hank Aaron\", 755))\n",
    "print(\"{0:^5n}{1:<20s}{2:>3n}\".format(3, \"Babe Ruth\", 714))"
   ]
  },
  {
   "cell_type": "code",
   "execution_count": null,
   "id": "47d72839",
   "metadata": {
    "id": "47d72839",
    "outputId": "0e3eec17-5097-48c3-bbd2-6d0c7a885c71"
   },
   "outputs": [
    {
     "name": "stdout",
     "output_type": "stream",
     "text": [
      "0123456789012345678901234567\n",
      "Rank Player               HR\n",
      "  1  Barry Bonds         762\n",
      "  2  Hank Aaron          755\n",
      "  3  Babe Ruth           714\n"
     ]
    }
   ],
   "source": [
    "print(\"0123456789012345678901234567\")\n",
    "print(\"Rank\".ljust(5), \"Player\".ljust(20), \"HR\".rjust(3), sep= \"\")\n",
    "print('1'.center(5), \"Barry Bonds\".ljust(20), \"762\".rjust(3), sep=\"\")\n",
    "print('2'.center(5), \"Hank Aaron\".ljust(20), \"755\".rjust(3), sep=\"\")\n",
    "print('3'.center(5), \"Babe Ruth\".ljust(20), \"714\".rjust(3), sep=\"\")"
   ]
  },
  {
   "cell_type": "code",
   "execution_count": null,
   "id": "533a0533",
   "metadata": {
    "id": "533a0533",
    "outputId": "e0d20a01-9a68-4e68-bdbc-9990a54823e8"
   },
   "outputs": [
    {
     "name": "stdout",
     "output_type": "stream",
     "text": [
      "12345678  \n"
     ]
    }
   ],
   "source": [
    "print(\"{0:<10d}\".format(12345678)) # 숫자는 정수"
   ]
  },
  {
   "cell_type": "code",
   "execution_count": null,
   "id": "8b023df1",
   "metadata": {
    "id": "8b023df1",
    "outputId": "af08ec08-4273-4f85-b8f2-ef6082deeac2"
   },
   "outputs": [
    {
     "name": "stdout",
     "output_type": "stream",
     "text": [
      "12,345,678\n"
     ]
    }
   ],
   "source": [
    "print(\"{0:<10,d}\".format(12345678)) # 천 단위 구분자 추가됨"
   ]
  },
  {
   "cell_type": "code",
   "execution_count": 15,
   "id": "eb5b3a95",
   "metadata": {
    "id": "eb5b3a95",
    "outputId": "722066f5-81b5-4627-8d67-f9edf9ae73f1"
   },
   "outputs": [
    {
     "name": "stdout",
     "output_type": "stream",
     "text": [
      "1234.57   \n"
     ]
    }
   ],
   "source": [
    "print(\"{0:<10.2f}\".format(1234.5678)) # 소수 셋째자리에서 반올림"
   ]
  },
  {
   "cell_type": "code",
   "execution_count": null,
   "id": "29448bdd",
   "metadata": {
    "id": "29448bdd",
    "outputId": "1fa0db89-abe1-4528-d1f0-70bce1d88e19"
   },
   "outputs": [
    {
     "name": "stdout",
     "output_type": "stream",
     "text": [
      "1,234.57  \n"
     ]
    }
   ],
   "source": [
    "print(\"{0:<10,.2f}\".format(1234.5678)) # 소수 셋째자리에서 반올림 후 천 단위 구분자 추가"
   ]
  },
  {
   "cell_type": "code",
   "execution_count": null,
   "id": "0c27ad03",
   "metadata": {
    "id": "0c27ad03",
    "outputId": "2cc169d0-c619-4376-9f44-9bbfe5ee52f9"
   },
   "outputs": [
    {
     "name": "stdout",
     "output_type": "stream",
     "text": [
      "$1,234.568 \n"
     ]
    }
   ],
   "source": [
    "print(\"${0:<10,.3f}\".format(1234.5678)) # 소수 넷째자리에서 반올림 후 천 단위 구분자 추가"
   ]
  },
  {
   "cell_type": "code",
   "execution_count": 20,
   "id": "346de6b6",
   "metadata": {
    "id": "346de6b6",
    "outputId": "5bc0b135-d59e-4ea7-fa20-55bcef8797a2"
   },
   "outputs": [
    {
     "name": "stdout",
     "output_type": "stream",
     "text": [
      "1234.57%  \n"
     ]
    }
   ],
   "source": [
    "print(\"{0:<10.2%}\".format(12.345678)) # %로 변환 후 소수 셋째자리에서 반올림"
   ]
  },
  {
   "cell_type": "code",
   "execution_count": null,
   "id": "a5520877",
   "metadata": {
    "id": "a5520877",
    "outputId": "845c6384-0b85-446c-a4dd-e3bffc666c2d"
   },
   "outputs": [
    {
     "name": "stdout",
     "output_type": "stream",
     "text": [
      "1,234.568%\n"
     ]
    }
   ],
   "source": [
    "print(\"{0:10,.3%}\".format(12.3456789)) # %, 반올림, 천 단위 구분자 추가"
   ]
  },
  {
   "cell_type": "code",
   "execution_count": null,
   "id": "61970374",
   "metadata": {
    "id": "61970374",
    "outputId": "7ab95b38-0c4c-41d7-f940-0ed2c8bb5d2c"
   },
   "outputs": [
    {
     "name": "stdout",
     "output_type": "stream",
     "text": [
      "The area of Texas is 268,820 square miles.\n",
      "The population of Texas is 8.56% of the U.S. population.\n"
     ]
    }
   ],
   "source": [
    "print(\"The area of {0:s} is {1:,d} square miles.\".format(\"Texas\", 268820))\n",
    "str1 = \"The population of {0:s} is {1:.2%} of the U.S. population.\"\n",
    "print(str1.format(\"Texas\", 26448000 / 309000000))"
   ]
  },
  {
   "cell_type": "code",
   "execution_count": null,
   "id": "5c39eb19",
   "metadata": {
    "id": "5c39eb19",
    "outputId": "2c5a3658-2b67-41b7-da30-b90a5ff1bed3"
   },
   "outputs": [
    {
     "data": {
      "text/plain": [
       "'3+4=7'"
      ]
     },
     "execution_count": 32,
     "metadata": {},
     "output_type": "execute_result"
    }
   ],
   "source": [
    "'{}+{}={}'.format(3, 4, 3+4) # {} 안에 숫자를 따로 기입하지 않은 경우 순서대로 데이터를 입력"
   ]
  },
  {
   "cell_type": "code",
   "execution_count": null,
   "id": "2cd7d1e8",
   "metadata": {
    "id": "2cd7d1e8",
    "outputId": "24adf5d9-ca14-490c-d868-bc32106ffa72"
   },
   "outputs": [
    {
     "name": "stdout",
     "output_type": "stream",
     "text": [
      "10*4=40\n"
     ]
    }
   ],
   "source": [
    "a, b = 10, 4\n",
    "print('{}*{}={}'.format(a,b,a*b))"
   ]
  },
  {
   "cell_type": "code",
   "execution_count": null,
   "id": "b3a7260f",
   "metadata": {
    "id": "b3a7260f",
    "outputId": "0e7e86e6-f339-46e6-c4a6-c546979b1491"
   },
   "outputs": [
    {
     "name": "stdout",
     "output_type": "stream",
     "text": [
      "10 / 4 = 2.5\n"
     ]
    }
   ],
   "source": [
    "print('{0} / {1} = {2}'.format(a, b, a/b))"
   ]
  },
  {
   "cell_type": "code",
   "execution_count": null,
   "id": "8cd48945",
   "metadata": {
    "id": "8cd48945",
    "outputId": "03b7cadd-150a-4d63-ffd6-3fc28c86c23a"
   },
   "outputs": [
    {
     "name": "stdout",
     "output_type": "stream",
     "text": [
      "4 / 10 = 0.4\n"
     ]
    }
   ],
   "source": [
    "print('{1} / {0} = {2}'.format(a, b, b/a)) # 입력하는 데이터 순서를 변경하는 것 가능"
   ]
  },
  {
   "cell_type": "code",
   "execution_count": 16,
   "id": "2763f9ec",
   "metadata": {
    "id": "2763f9ec",
    "outputId": "d3c339ef-2eda-4251-857a-aa0c6b72fdc2"
   },
   "outputs": [
    {
     "name": "stdout",
     "output_type": "stream",
     "text": [
      "10 / 3 = 3.3333333\n",
      " 10   /     3 = 3.333     \n"
     ]
    }
   ],
   "source": [
    "a, b = 10, 3\n",
    "print('{0:d} / {1:d} = {2:.7f}'.format(a, b, a / b))\n",
    "print('{0:^5d} / {1:>5d} = {2:<10.3f}'.format(a, b, a / b))"
   ]
  },
  {
   "cell_type": "code",
   "execution_count": null,
   "id": "44911044",
   "metadata": {},
   "outputs": [],
   "source": []
  },
  {
   "cell_type": "code",
   "execution_count": null,
   "id": "d41b5b6c",
   "metadata": {},
   "outputs": [],
   "source": []
  }
 ],
 "metadata": {
  "colab": {
   "provenance": []
  },
  "kernelspec": {
   "display_name": "Python 3 (ipykernel)",
   "language": "python",
   "name": "python3"
  },
  "language_info": {
   "codemirror_mode": {
    "name": "ipython",
    "version": 3
   },
   "file_extension": ".py",
   "mimetype": "text/x-python",
   "name": "python",
   "nbconvert_exporter": "python",
   "pygments_lexer": "ipython3",
   "version": "3.9.13"
  }
 },
 "nbformat": 4,
 "nbformat_minor": 5
}
