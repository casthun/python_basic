{
 "cells": [
  {
   "cell_type": "markdown",
   "id": "b6230266",
   "metadata": {},
   "source": [
    "## Relational Operators"
   ]
  },
  {
   "cell_type": "code",
   "execution_count": 38,
   "id": "29aa734b",
   "metadata": {},
   "outputs": [
    {
     "data": {
      "text/plain": [
       "False"
      ]
     },
     "execution_count": 38,
     "metadata": {},
     "output_type": "execute_result"
    }
   ],
   "source": [
    "1 == 2"
   ]
  },
  {
   "cell_type": "code",
   "execution_count": 39,
   "id": "5a0e6eed",
   "metadata": {},
   "outputs": [
    {
     "data": {
      "text/plain": [
       "False"
      ]
     },
     "execution_count": 39,
     "metadata": {},
     "output_type": "execute_result"
    }
   ],
   "source": [
    "\"a\" == \"b\""
   ]
  },
  {
   "cell_type": "code",
   "execution_count": 41,
   "id": "4c38392b",
   "metadata": {},
   "outputs": [
    {
     "data": {
      "text/plain": [
       "True"
      ]
     },
     "execution_count": 41,
     "metadata": {},
     "output_type": "execute_result"
    }
   ],
   "source": [
    "1 == 1"
   ]
  },
  {
   "cell_type": "code",
   "execution_count": 42,
   "id": "1cd21153",
   "metadata": {},
   "outputs": [
    {
     "data": {
      "text/plain": [
       "True"
      ]
     },
     "execution_count": 42,
     "metadata": {},
     "output_type": "execute_result"
    }
   ],
   "source": [
    "a = 1\n",
    "a == 1"
   ]
  },
  {
   "cell_type": "code",
   "execution_count": 43,
   "id": "acad5ab0",
   "metadata": {},
   "outputs": [
    {
     "data": {
      "text/plain": [
       "True"
      ]
     },
     "execution_count": 43,
     "metadata": {},
     "output_type": "execute_result"
    }
   ],
   "source": [
    "a != 2"
   ]
  },
  {
   "cell_type": "code",
   "execution_count": 1,
   "id": "5aaf1507",
   "metadata": {},
   "outputs": [
    {
     "data": {
      "text/plain": [
       "True"
      ]
     },
     "execution_count": 1,
     "metadata": {},
     "output_type": "execute_result"
    }
   ],
   "source": [
    "2 < 5"
   ]
  },
  {
   "cell_type": "code",
   "execution_count": 2,
   "id": "54ee1544",
   "metadata": {},
   "outputs": [
    {
     "data": {
      "text/plain": [
       "False"
      ]
     },
     "execution_count": 2,
     "metadata": {},
     "output_type": "execute_result"
    }
   ],
   "source": [
    "-5 > -2"
   ]
  },
  {
   "cell_type": "code",
   "execution_count": 3,
   "id": "b77d3ee5",
   "metadata": {},
   "outputs": [
    {
     "data": {
      "text/plain": [
       "True"
      ]
     },
     "execution_count": 3,
     "metadata": {},
     "output_type": "execute_result"
    }
   ],
   "source": [
    "0 < 3.5"
   ]
  },
  {
   "cell_type": "code",
   "execution_count": 4,
   "id": "f7e91786",
   "metadata": {},
   "outputs": [
    {
     "data": {
      "text/plain": [
       "True"
      ]
     },
     "execution_count": 4,
     "metadata": {},
     "output_type": "execute_result"
    }
   ],
   "source": [
    "\"cat\" < \"dog\""
   ]
  },
  {
   "cell_type": "code",
   "execution_count": 5,
   "id": "6c2bd68d",
   "metadata": {},
   "outputs": [
    {
     "data": {
      "text/plain": [
       "True"
      ]
     },
     "execution_count": 5,
     "metadata": {},
     "output_type": "execute_result"
    }
   ],
   "source": [
    "\"cart\" < \"cat\""
   ]
  },
  {
   "cell_type": "code",
   "execution_count": 6,
   "id": "36e5d93b",
   "metadata": {},
   "outputs": [
    {
     "data": {
      "text/plain": [
       "True"
      ]
     },
     "execution_count": 6,
     "metadata": {},
     "output_type": "execute_result"
    }
   ],
   "source": [
    "# 숫자는 알파벳보다 순서가 앞서 있음.\n",
    "\n",
    "\"9W\" < \"bat\""
   ]
  },
  {
   "cell_type": "code",
   "execution_count": 7,
   "id": "65d1569d",
   "metadata": {},
   "outputs": [
    {
     "data": {
      "text/plain": [
       "True"
      ]
     },
     "execution_count": 7,
     "metadata": {},
     "output_type": "execute_result"
    }
   ],
   "source": [
    "\"sales_99\" < \"sales_retail\""
   ]
  },
  {
   "cell_type": "code",
   "execution_count": 8,
   "id": "44e89f62",
   "metadata": {},
   "outputs": [
    {
     "ename": "TypeError",
     "evalue": "'<' not supported between instances of 'int' and 'str'",
     "output_type": "error",
     "traceback": [
      "\u001b[0;31m---------------------------------------------------------------------------\u001b[0m",
      "\u001b[0;31mTypeError\u001b[0m                                 Traceback (most recent call last)",
      "\u001b[0;32m/var/folders/p1/rdr79fn12mq0f_psp0gk93w00000gn/T/ipykernel_24731/4007837241.py\u001b[0m in \u001b[0;36m<module>\u001b[0;34m\u001b[0m\n\u001b[0;32m----> 1\u001b[0;31m \u001b[0;36m1\u001b[0m \u001b[0;34m<\u001b[0m \u001b[0;34m\"cat\"\u001b[0m\u001b[0;34m\u001b[0m\u001b[0;34m\u001b[0m\u001b[0m\n\u001b[0m",
      "\u001b[0;31mTypeError\u001b[0m: '<' not supported between instances of 'int' and 'str'"
     ]
    }
   ],
   "source": [
    "1 < \"cat\""
   ]
  },
  {
   "cell_type": "code",
   "execution_count": 11,
   "id": "ab073588",
   "metadata": {},
   "outputs": [
    {
     "data": {
      "text/plain": [
       "True"
      ]
     },
     "execution_count": 11,
     "metadata": {},
     "output_type": "execute_result"
    }
   ],
   "source": [
    "# 대문자는 소문자보다 순서가 앞서 있음.\n",
    "\n",
    "\"Dog\" < \"dog\""
   ]
  },
  {
   "cell_type": "code",
   "execution_count": 13,
   "id": "06e6c991",
   "metadata": {},
   "outputs": [
    {
     "data": {
      "text/plain": [
       "False"
      ]
     },
     "execution_count": 13,
     "metadata": {},
     "output_type": "execute_result"
    }
   ],
   "source": [
    "\"dog\" < \"dOg\""
   ]
  },
  {
   "cell_type": "code",
   "execution_count": 14,
   "id": "90087e02",
   "metadata": {},
   "outputs": [
    {
     "data": {
      "text/plain": [
       "True"
      ]
     },
     "execution_count": 14,
     "metadata": {},
     "output_type": "execute_result"
    }
   ],
   "source": [
    "[3,5] < [3,7]"
   ]
  },
  {
   "cell_type": "code",
   "execution_count": 15,
   "id": "00b7d842",
   "metadata": {},
   "outputs": [
    {
     "data": {
      "text/plain": [
       "True"
      ]
     },
     "execution_count": 15,
     "metadata": {},
     "output_type": "execute_result"
    }
   ],
   "source": [
    "[3,5] < [3,5,6]"
   ]
  },
  {
   "cell_type": "code",
   "execution_count": 16,
   "id": "e4354eb0",
   "metadata": {},
   "outputs": [
    {
     "data": {
      "text/plain": [
       "True"
      ]
     },
     "execution_count": 16,
     "metadata": {},
     "output_type": "execute_result"
    }
   ],
   "source": [
    "[3,5,7] < [3,7,2]"
   ]
  },
  {
   "cell_type": "code",
   "execution_count": 17,
   "id": "43457336",
   "metadata": {},
   "outputs": [
    {
     "data": {
      "text/plain": [
       "True"
      ]
     },
     "execution_count": 17,
     "metadata": {},
     "output_type": "execute_result"
    }
   ],
   "source": [
    "[7, \"three\", 5] < [7, \"two\", 2]"
   ]
  },
  {
   "cell_type": "code",
   "execution_count": 18,
   "id": "9bfeda0d",
   "metadata": {},
   "outputs": [
    {
     "data": {
      "text/plain": [
       "True"
      ]
     },
     "execution_count": 18,
     "metadata": {},
     "output_type": "execute_result"
    }
   ],
   "source": [
    "\"b\" in ['a', 'b', 'c']"
   ]
  },
  {
   "cell_type": "code",
   "execution_count": 19,
   "id": "232ba342",
   "metadata": {},
   "outputs": [
    {
     "data": {
      "text/plain": [
       "False"
      ]
     },
     "execution_count": 19,
     "metadata": {},
     "output_type": "execute_result"
    }
   ],
   "source": [
    "\"B\" in ('a', 'b', 'c')"
   ]
  },
  {
   "cell_type": "markdown",
   "id": "9bf30dff",
   "metadata": {},
   "source": [
    "## Logical Operators"
   ]
  },
  {
   "cell_type": "code",
   "execution_count": 20,
   "id": "313b6c42",
   "metadata": {},
   "outputs": [
    {
     "data": {
      "text/plain": [
       "False"
      ]
     },
     "execution_count": 20,
     "metadata": {},
     "output_type": "execute_result"
    }
   ],
   "source": [
    "str1 = \"instagram\"\n",
    "\n",
    "(len(str1) == 10) and (\"gram\" in str1)"
   ]
  },
  {
   "cell_type": "code",
   "execution_count": 21,
   "id": "a1dd5894",
   "metadata": {},
   "outputs": [
    {
     "data": {
      "text/plain": [
       "True"
      ]
     },
     "execution_count": 21,
     "metadata": {},
     "output_type": "execute_result"
    }
   ],
   "source": [
    "True and True"
   ]
  },
  {
   "cell_type": "code",
   "execution_count": 22,
   "id": "593ac582",
   "metadata": {},
   "outputs": [
    {
     "data": {
      "text/plain": [
       "False"
      ]
     },
     "execution_count": 22,
     "metadata": {},
     "output_type": "execute_result"
    }
   ],
   "source": [
    "True and False"
   ]
  },
  {
   "cell_type": "code",
   "execution_count": 23,
   "id": "9e4fa760",
   "metadata": {},
   "outputs": [
    {
     "data": {
      "text/plain": [
       "False"
      ]
     },
     "execution_count": 23,
     "metadata": {},
     "output_type": "execute_result"
    }
   ],
   "source": [
    "False and True"
   ]
  },
  {
   "cell_type": "code",
   "execution_count": 24,
   "id": "df18fd47",
   "metadata": {},
   "outputs": [
    {
     "data": {
      "text/plain": [
       "False"
      ]
     },
     "execution_count": 24,
     "metadata": {},
     "output_type": "execute_result"
    }
   ],
   "source": [
    "False and False"
   ]
  },
  {
   "cell_type": "code",
   "execution_count": 25,
   "id": "0c2a7a5c",
   "metadata": {},
   "outputs": [
    {
     "name": "stdout",
     "output_type": "stream",
     "text": [
      "True\n",
      "True\n",
      "True\n",
      "False\n"
     ]
    }
   ],
   "source": [
    "print(True or True)\n",
    "print(True or False)\n",
    "print(False or True)\n",
    "print(False or False)"
   ]
  },
  {
   "cell_type": "code",
   "execution_count": 26,
   "id": "6a9c8d28",
   "metadata": {},
   "outputs": [
    {
     "data": {
      "text/plain": [
       "True"
      ]
     },
     "execution_count": 26,
     "metadata": {},
     "output_type": "execute_result"
    }
   ],
   "source": [
    "True & True"
   ]
  },
  {
   "cell_type": "code",
   "execution_count": 27,
   "id": "5a814f0c",
   "metadata": {},
   "outputs": [
    {
     "data": {
      "text/plain": [
       "True"
      ]
     },
     "execution_count": 27,
     "metadata": {},
     "output_type": "execute_result"
    }
   ],
   "source": [
    "True | True"
   ]
  },
  {
   "cell_type": "code",
   "execution_count": 33,
   "id": "ec1a4fe3",
   "metadata": {},
   "outputs": [
    {
     "data": {
      "text/plain": [
       "False"
      ]
     },
     "execution_count": 33,
     "metadata": {},
     "output_type": "execute_result"
    }
   ],
   "source": [
    "not True"
   ]
  },
  {
   "cell_type": "code",
   "execution_count": 44,
   "id": "8dd8795b",
   "metadata": {},
   "outputs": [
    {
     "data": {
      "text/plain": [
       "True"
      ]
     },
     "execution_count": 44,
     "metadata": {},
     "output_type": "execute_result"
    }
   ],
   "source": [
    "not False"
   ]
  },
  {
   "cell_type": "code",
   "execution_count": 45,
   "id": "1eaebd7d",
   "metadata": {},
   "outputs": [
    {
     "data": {
      "text/plain": [
       "False"
      ]
     },
     "execution_count": 45,
     "metadata": {},
     "output_type": "execute_result"
    }
   ],
   "source": [
    "x = 5\n",
    "(3+x) < 7"
   ]
  },
  {
   "cell_type": "code",
   "execution_count": 46,
   "id": "bf25f7ac",
   "metadata": {},
   "outputs": [
    {
     "name": "stdout",
     "output_type": "stream",
     "text": [
      "True\n"
     ]
    }
   ],
   "source": [
    "x = 2\n",
    "y = 3\n",
    "var = x < y\n",
    "print(var)"
   ]
  },
  {
   "cell_type": "code",
   "execution_count": 47,
   "id": "d285c0a4",
   "metadata": {},
   "outputs": [
    {
     "name": "stdout",
     "output_type": "stream",
     "text": [
      "False\n"
     ]
    }
   ],
   "source": [
    "n=4\n",
    "answ=\"Y\"\n",
    "print((n==2) and ((n==7) or (answ == \"Y\")))"
   ]
  },
  {
   "cell_type": "markdown",
   "id": "c96074f9",
   "metadata": {},
   "source": [
    "## True or False"
   ]
  },
  {
   "cell_type": "code",
   "execution_count": 11,
   "id": "16ea24bc",
   "metadata": {},
   "outputs": [
    {
     "name": "stdout",
     "output_type": "stream",
     "text": [
      "False\n"
     ]
    }
   ],
   "source": [
    "# None, 0, [], {} 등은 False, 2, [1], {4} 등 값이 존재하는 경우 True\n",
    "\n",
    "if None:\n",
    "    print(\"True\")\n",
    "else:\n",
    "    print(\"False\")"
   ]
  },
  {
   "cell_type": "code",
   "execution_count": 12,
   "id": "c679df58",
   "metadata": {},
   "outputs": [
    {
     "name": "stdout",
     "output_type": "stream",
     "text": [
      "False\n"
     ]
    }
   ],
   "source": [
    "if 0:\n",
    "    print(\"True\")\n",
    "else:\n",
    "    print(\"False\")"
   ]
  },
  {
   "cell_type": "code",
   "execution_count": 13,
   "id": "986fb5c4",
   "metadata": {},
   "outputs": [
    {
     "name": "stdout",
     "output_type": "stream",
     "text": [
      "True\n"
     ]
    }
   ],
   "source": [
    "if 2:\n",
    "    print(\"True\")\n",
    "else:\n",
    "    print(\"False\")"
   ]
  },
  {
   "cell_type": "code",
   "execution_count": 14,
   "id": "c00abd17",
   "metadata": {},
   "outputs": [
    {
     "name": "stdout",
     "output_type": "stream",
     "text": [
      "False\n"
     ]
    }
   ],
   "source": [
    "if []:\n",
    "    print(\"True\")\n",
    "else:\n",
    "    print(\"False\")"
   ]
  },
  {
   "cell_type": "code",
   "execution_count": 15,
   "id": "b529626c",
   "metadata": {},
   "outputs": [
    {
     "name": "stdout",
     "output_type": "stream",
     "text": [
      "True\n"
     ]
    }
   ],
   "source": [
    "if [1]:\n",
    "    print(\"True\")\n",
    "else:\n",
    "    print(\"False\")"
   ]
  },
  {
   "cell_type": "markdown",
   "id": "de70c35f",
   "metadata": {},
   "source": [
    "## Some methods that return either True or False"
   ]
  },
  {
   "cell_type": "code",
   "execution_count": 49,
   "id": "25b2aaa9",
   "metadata": {},
   "outputs": [
    {
     "data": {
      "text/plain": [
       "True"
      ]
     },
     "execution_count": 49,
     "metadata": {},
     "output_type": "execute_result"
    }
   ],
   "source": [
    "\"fantastic\".startswith(\"fan\")"
   ]
  },
  {
   "cell_type": "code",
   "execution_count": 50,
   "id": "b83fadfc",
   "metadata": {},
   "outputs": [
    {
     "data": {
      "text/plain": [
       "True"
      ]
     },
     "execution_count": 50,
     "metadata": {},
     "output_type": "execute_result"
    }
   ],
   "source": [
    "\"fantastic\".endswith(\"stic\")"
   ]
  },
  {
   "cell_type": "code",
   "execution_count": 52,
   "id": "6c879ef9",
   "metadata": {},
   "outputs": [
    {
     "name": "stdout",
     "output_type": "stream",
     "text": [
      "False\n",
      "False\n"
     ]
    }
   ],
   "source": [
    "var1 = \"fantastic\"\n",
    "var2 = \"Fant\"\n",
    "\n",
    "print(var1.startswith(var2))\n",
    "print(\"elephant\".endswith(var2))"
   ]
  },
  {
   "cell_type": "code",
   "execution_count": 53,
   "id": "3b555c73",
   "metadata": {},
   "outputs": [
    {
     "data": {
      "text/plain": [
       "True"
      ]
     },
     "execution_count": 53,
     "metadata": {},
     "output_type": "execute_result"
    }
   ],
   "source": [
    "isinstance(32, int)"
   ]
  },
  {
   "cell_type": "code",
   "execution_count": 54,
   "id": "563eac78",
   "metadata": {},
   "outputs": [
    {
     "data": {
      "text/plain": [
       "False"
      ]
     },
     "execution_count": 54,
     "metadata": {},
     "output_type": "execute_result"
    }
   ],
   "source": [
    "isinstance(53, str)"
   ]
  },
  {
   "cell_type": "code",
   "execution_count": 55,
   "id": "556b4cb5",
   "metadata": {},
   "outputs": [
    {
     "data": {
      "text/plain": [
       "True"
      ]
     },
     "execution_count": 55,
     "metadata": {},
     "output_type": "execute_result"
    }
   ],
   "source": [
    "\"1\".isdigit()"
   ]
  },
  {
   "cell_type": "code",
   "execution_count": 56,
   "id": "542aeb5b",
   "metadata": {},
   "outputs": [
    {
     "data": {
      "text/plain": [
       "True"
      ]
     },
     "execution_count": 56,
     "metadata": {},
     "output_type": "execute_result"
    }
   ],
   "source": [
    "\"abc\".isalpha()"
   ]
  },
  {
   "cell_type": "code",
   "execution_count": 57,
   "id": "4430e415",
   "metadata": {},
   "outputs": [
    {
     "data": {
      "text/plain": [
       "True"
      ]
     },
     "execution_count": 57,
     "metadata": {},
     "output_type": "execute_result"
    }
   ],
   "source": [
    "\"대한민국\".isalpha()"
   ]
  },
  {
   "cell_type": "code",
   "execution_count": 58,
   "id": "ae7f55bc",
   "metadata": {},
   "outputs": [
    {
     "data": {
      "text/plain": [
       "True"
      ]
     },
     "execution_count": 58,
     "metadata": {},
     "output_type": "execute_result"
    }
   ],
   "source": [
    "# 한글/영어 혹은 숫자로 이루어지면 True 반환\n",
    "\n",
    "\"대한민국1234\".isalnum()"
   ]
  },
  {
   "cell_type": "code",
   "execution_count": 59,
   "id": "2ba01485",
   "metadata": {},
   "outputs": [
    {
     "data": {
      "text/plain": [
       "True"
      ]
     },
     "execution_count": 59,
     "metadata": {},
     "output_type": "execute_result"
    }
   ],
   "source": [
    "\"abcd\".islower()"
   ]
  },
  {
   "cell_type": "code",
   "execution_count": 60,
   "id": "83ee2c14",
   "metadata": {},
   "outputs": [
    {
     "data": {
      "text/plain": [
       "False"
      ]
     },
     "execution_count": 60,
     "metadata": {},
     "output_type": "execute_result"
    }
   ],
   "source": [
    "\"Abcd\".isupper()"
   ]
  },
  {
   "cell_type": "code",
   "execution_count": 61,
   "id": "99d658e5",
   "metadata": {},
   "outputs": [
    {
     "data": {
      "text/plain": [
       "True"
      ]
     },
     "execution_count": 61,
     "metadata": {},
     "output_type": "execute_result"
    }
   ],
   "source": [
    "\"ABCD\".isupper()"
   ]
  },
  {
   "cell_type": "code",
   "execution_count": 62,
   "id": "58f65bc5",
   "metadata": {},
   "outputs": [
    {
     "data": {
      "text/plain": [
       "False"
      ]
     },
     "execution_count": 62,
     "metadata": {},
     "output_type": "execute_result"
    }
   ],
   "source": [
    "# 공백으로만 이루어진 문자인 경우 True 반환\n",
    "\"ab cd\".isspace()"
   ]
  },
  {
   "cell_type": "code",
   "execution_count": 64,
   "id": "0613aaa2",
   "metadata": {},
   "outputs": [
    {
     "data": {
      "text/plain": [
       "True"
      ]
     },
     "execution_count": 64,
     "metadata": {},
     "output_type": "execute_result"
    }
   ],
   "source": [
    "\" \".isspace()"
   ]
  },
  {
   "cell_type": "code",
   "execution_count": 1,
   "id": "9b90492e",
   "metadata": {},
   "outputs": [
    {
     "data": {
      "text/plain": [
       "True"
      ]
     },
     "execution_count": 1,
     "metadata": {},
     "output_type": "execute_result"
    }
   ],
   "source": [
    "\"\\n\".isspace()"
   ]
  },
  {
   "cell_type": "code",
   "execution_count": 2,
   "id": "7af86dd8",
   "metadata": {},
   "outputs": [
    {
     "data": {
      "text/plain": [
       "True"
      ]
     },
     "execution_count": 2,
     "metadata": {},
     "output_type": "execute_result"
    }
   ],
   "source": [
    "\"\\t\".isspace()"
   ]
  },
  {
   "cell_type": "code",
   "execution_count": 3,
   "id": "724449a3",
   "metadata": {},
   "outputs": [
    {
     "data": {
      "text/plain": [
       "True"
      ]
     },
     "execution_count": 3,
     "metadata": {},
     "output_type": "execute_result"
    }
   ],
   "source": [
    "\"\\n \".isspace()"
   ]
  },
  {
   "cell_type": "code",
   "execution_count": 4,
   "id": "0751c527",
   "metadata": {},
   "outputs": [
    {
     "data": {
      "text/plain": [
       "True"
      ]
     },
     "execution_count": 4,
     "metadata": {},
     "output_type": "execute_result"
    }
   ],
   "source": [
    "\"\\n\\t\".isspace()"
   ]
  },
  {
   "cell_type": "code",
   "execution_count": 5,
   "id": "f91ebd3a",
   "metadata": {},
   "outputs": [
    {
     "data": {
      "text/plain": [
       "True"
      ]
     },
     "execution_count": 5,
     "metadata": {},
     "output_type": "execute_result"
    }
   ],
   "source": [
    "\"\\n\\t \".isspace()"
   ]
  },
  {
   "cell_type": "markdown",
   "id": "d96e1970",
   "metadata": {},
   "source": [
    "## for 문"
   ]
  },
  {
   "cell_type": "code",
   "execution_count": 21,
   "id": "defc47a0",
   "metadata": {},
   "outputs": [
    {
     "name": "stdout",
     "output_type": "stream",
     "text": [
      "1\n",
      "2\n",
      "3\n",
      "4\n",
      "5\n"
     ]
    }
   ],
   "source": [
    "for i in [1,2,3,4,5]:\n",
    "    print(i)"
   ]
  },
  {
   "cell_type": "code",
   "execution_count": 22,
   "id": "981133be",
   "metadata": {},
   "outputs": [
    {
     "name": "stdout",
     "output_type": "stream",
     "text": [
      "2\n",
      "6\n",
      "10\n",
      "14\n",
      "18\n"
     ]
    }
   ],
   "source": [
    "for i in (1,3,5,7,9):\n",
    "    print(2*i)"
   ]
  },
  {
   "cell_type": "code",
   "execution_count": 24,
   "id": "89b8add8",
   "metadata": {},
   "outputs": [
    {
     "name": "stdout",
     "output_type": "stream",
     "text": [
      "대\n",
      "한\n",
      "민\n",
      "국\n"
     ]
    }
   ],
   "source": [
    "for i in [\"대\", \"한\", \"민\", \"국\"]:\n",
    "    print(i)"
   ]
  },
  {
   "cell_type": "code",
   "execution_count": 25,
   "id": "9ce9814b",
   "metadata": {},
   "outputs": [
    {
     "name": "stdout",
     "output_type": "stream",
     "text": [
      "0\n",
      "1\n",
      "2\n",
      "3\n",
      "4\n",
      "5\n",
      "6\n",
      "7\n",
      "8\n",
      "9\n"
     ]
    }
   ],
   "source": [
    "for j in range(10):\n",
    "    print(j)"
   ]
  },
  {
   "cell_type": "code",
   "execution_count": 3,
   "id": "53822313",
   "metadata": {},
   "outputs": [
    {
     "name": "stdout",
     "output_type": "stream",
     "text": [
      "a\n",
      "b\n",
      "c\n",
      "d\n"
     ]
    }
   ],
   "source": [
    "for i in \"abcd\":\n",
    "    print(i)"
   ]
  },
  {
   "cell_type": "code",
   "execution_count": 5,
   "id": "07e0fcaf",
   "metadata": {},
   "outputs": [
    {
     "name": "stdout",
     "output_type": "stream",
     "text": [
      "a\n",
      "b\n",
      "c\n",
      "d\n"
     ]
    }
   ],
   "source": [
    "for i in {\"a\": 1, \"b\":2, \"c\": 3, \"d\":4}:\n",
    "    print(i)"
   ]
  },
  {
   "cell_type": "code",
   "execution_count": 28,
   "id": "f5133524",
   "metadata": {},
   "outputs": [
    {
     "name": "stdout",
     "output_type": "stream",
     "text": [
      "1\n",
      "2\n",
      "3\n",
      "4\n",
      "5\n",
      "6\n",
      "7\n",
      "8\n"
     ]
    }
   ],
   "source": [
    "for i in range(1, 9):\n",
    "    print(i)"
   ]
  },
  {
   "cell_type": "code",
   "execution_count": 27,
   "id": "c469dbda",
   "metadata": {},
   "outputs": [
    {
     "name": "stdout",
     "output_type": "stream",
     "text": [
      "0 1\n",
      "1 2\n",
      "2 3\n",
      "3 4\n",
      "4 5\n"
     ]
    }
   ],
   "source": [
    "for i, j in enumerate([1,2,3,4,5]):\n",
    "    print(i, j)"
   ]
  },
  {
   "cell_type": "code",
   "execution_count": 39,
   "id": "afb8f89e",
   "metadata": {},
   "outputs": [
    {
     "name": "stdout",
     "output_type": "stream",
     "text": [
      "1 대\n",
      "2 한\n",
      "3 민\n",
      "4 국\n"
     ]
    }
   ],
   "source": [
    "a = [1,2,3,4]\n",
    "b = [\"대\", \"한\", \"민\", \"국\"]\n",
    "\n",
    "for i, j in zip(a, b):\n",
    "    print(i, j)"
   ]
  },
  {
   "cell_type": "code",
   "execution_count": 6,
   "id": "ea409356",
   "metadata": {},
   "outputs": [
    {
     "name": "stdout",
     "output_type": "stream",
     "text": [
      "1 1\n",
      "1 2\n",
      "1 3\n",
      "1 4\n",
      "2 1\n",
      "2 2\n",
      "2 3\n",
      "2 4\n",
      "3 1\n",
      "3 2\n",
      "3 3\n",
      "3 4\n",
      "4 1\n",
      "4 2\n",
      "4 3\n",
      "4 4\n"
     ]
    }
   ],
   "source": [
    "for i in [1,2,3,4]:\n",
    "    for j in [1,2,3,4]:\n",
    "        print(i, j)"
   ]
  },
  {
   "cell_type": "code",
   "execution_count": 7,
   "id": "80fd1687",
   "metadata": {},
   "outputs": [
    {
     "name": "stdout",
     "output_type": "stream",
     "text": [
      "Year     Population\n",
      "2014     300000\n",
      "2015     309000\n",
      "2016     318270\n",
      "2017     327818\n",
      "2018     337653\n"
     ]
    }
   ],
   "source": [
    "pop = 300000\n",
    "\n",
    "print(\"{}     {}\". format(\"Year\", \"Population\"))\n",
    "\n",
    "for year in range(2014, 2019):\n",
    "    print(\"{}     {}\".format(year, round(pop)))\n",
    "    pop = pop + 0.03*pop # pop += 0.03*pop로도 표현가능"
   ]
  },
  {
   "cell_type": "code",
   "execution_count": 8,
   "id": "3f1e990f",
   "metadata": {},
   "outputs": [
    {
     "name": "stdout",
     "output_type": "stream",
     "text": [
      "2 of spades\n",
      "2 of hearts\n",
      "2 of clubs\n",
      "2 of diamonds\n",
      "3 of spades\n",
      "3 of hearts\n",
      "3 of clubs\n",
      "3 of diamonds\n",
      "4 of spades\n",
      "4 of hearts\n",
      "4 of clubs\n",
      "4 of diamonds\n",
      "5 of spades\n",
      "5 of hearts\n",
      "5 of clubs\n",
      "5 of diamonds\n",
      "6 of spades\n",
      "6 of hearts\n",
      "6 of clubs\n",
      "6 of diamonds\n",
      "7 of spades\n",
      "7 of hearts\n",
      "7 of clubs\n",
      "7 of diamonds\n",
      "8 of spades\n",
      "8 of hearts\n",
      "8 of clubs\n",
      "8 of diamonds\n",
      "9 of spades\n",
      "9 of hearts\n",
      "9 of clubs\n",
      "9 of diamonds\n",
      "10 of spades\n",
      "10 of hearts\n",
      "10 of clubs\n",
      "10 of diamonds\n",
      "jack of spades\n",
      "jack of hearts\n",
      "jack of clubs\n",
      "jack of diamonds\n",
      "queen of spades\n",
      "queen of hearts\n",
      "queen of clubs\n",
      "queen of diamonds\n",
      "king of spades\n",
      "king of hearts\n",
      "king of clubs\n",
      "king of diamonds\n",
      "ace of spades\n",
      "ace of hearts\n",
      "ace of clubs\n",
      "ace of diamonds\n"
     ]
    }
   ],
   "source": [
    "ranks = ['2', '3', '4', '5', '6', '7', '8', '9', '10', 'jack', 'queen', 'king', 'ace']\n",
    "suits = ['spades', 'hearts', 'clubs', 'diamonds']\n",
    "deckOfCards = []\n",
    "\n",
    "for rank in ranks:\n",
    "    for suit in suits:\n",
    "        deckOfCards.append(rank + \" of \" + suit)\n",
    "        \n",
    "for card in deckOfCards:\n",
    "    print(card)"
   ]
  },
  {
   "cell_type": "code",
   "execution_count": 1,
   "id": "a3e4971a",
   "metadata": {},
   "outputs": [
    {
     "name": "stdout",
     "output_type": "stream",
     "text": [
      "1 x 1 = 1 \t1 x 2 = 2 \t1 x 3 = 3 \t1 x 4 = 4 \t1 x 5 = 5 \t\n",
      "2 x 1 = 2 \t2 x 2 = 4 \t2 x 3 = 6 \t2 x 4 = 8 \t2 x 5 = 10 \t\n",
      "3 x 1 = 3 \t3 x 2 = 6 \t3 x 3 = 9 \t3 x 4 = 12 \t3 x 5 = 15 \t\n",
      "4 x 1 = 4 \t4 x 2 = 8 \t4 x 3 = 12 \t4 x 4 = 16 \t4 x 5 = 20 \t\n",
      "5 x 1 = 5 \t5 x 2 = 10 \t5 x 3 = 15 \t5 x 4 = 20 \t5 x 5 = 25 \t\n"
     ]
    }
   ],
   "source": [
    "for m in range(1,6):\n",
    "    for n in range(1,6):\n",
    "        print(m, 'x', n, '=', m*n, '\\t', end=\"\")\n",
    "    print()"
   ]
  },
  {
   "cell_type": "code",
   "execution_count": 11,
   "id": "114a20bc",
   "metadata": {},
   "outputs": [
    {
     "name": "stdout",
     "output_type": "stream",
     "text": [
      "Enter a word: 박훈\n",
      "The reversed word is 훈박.\n"
     ]
    }
   ],
   "source": [
    "word = input(\"Enter a word: \")\n",
    "reversedWord = \"\"\n",
    "for ch in word:\n",
    "    reversedWord = ch + reversedWord\n",
    "print(\"The reversed word is \"+reversedWord+\".\")"
   ]
  },
  {
   "cell_type": "markdown",
   "id": "e4de20b2",
   "metadata": {},
   "source": [
    "## text 파일 읽기"
   ]
  },
  {
   "cell_type": "code",
   "execution_count": 12,
   "id": "4fd2d9ce",
   "metadata": {},
   "outputs": [
    {
     "name": "stdout",
     "output_type": "stream",
     "text": [
      "George Washington\n",
      "John Adams\n",
      "Thomas Jefferson\n",
      "James Madison\n",
      "James Monroe\n",
      "John Q. Adams\n",
      "Andrew Jackson\n",
      "Martin Van_Buren\n",
      "William Harrison\n",
      "John Tyler\n",
      "James Polk\n",
      "Zachary Taylor\n",
      "Millard Fillmore\n",
      "Franklin Pierce\n",
      "James Buchanan\n",
      "Abraham Lincoln\n",
      "Andrew Johnson\n",
      "Ulysses Grant\n",
      "Rutherford Hayes\n",
      "James Garfield\n",
      "Chester Arthur\n",
      "Grover Cleveland\n",
      "Benjamin Harrison\n",
      "Grover Cleveland\n",
      "William McKinley\n",
      "Theodore Roosevelt\n",
      "William Taft\n",
      "Woodrow Wilson\n",
      "Warren Harding\n",
      "Calvin Coolidge\n",
      "Herbert Hoover\n",
      "Franklin Roosevelt\n",
      "Harry Truman\n",
      "Dwight Eisenhower\n",
      "John Kennedy\n",
      "Lyndon Johnson\n",
      "Richard Nixon\n",
      "Gerald Ford\n"
     ]
    }
   ],
   "source": [
    "infile = open(\"USPres.txt\", 'r')\n",
    "for line in infile:\n",
    "    print(line.rstrip())\n",
    "infile.close()"
   ]
  },
  {
   "cell_type": "code",
   "execution_count": 13,
   "id": "7740d431",
   "metadata": {},
   "outputs": [
    {
     "data": {
      "text/plain": [
       "['George Washington\\n',\n",
       " 'John Adams\\n',\n",
       " 'Thomas Jefferson\\n',\n",
       " 'James Madison\\n',\n",
       " 'James Monroe\\n',\n",
       " 'John Q. Adams\\n',\n",
       " 'Andrew Jackson\\n',\n",
       " 'Martin Van_Buren\\n',\n",
       " 'William Harrison\\n',\n",
       " 'John Tyler\\n',\n",
       " 'James Polk\\n',\n",
       " 'Zachary Taylor\\n',\n",
       " 'Millard Fillmore\\n',\n",
       " 'Franklin Pierce\\n',\n",
       " 'James Buchanan\\n',\n",
       " 'Abraham Lincoln\\n',\n",
       " 'Andrew Johnson\\n',\n",
       " 'Ulysses Grant\\n',\n",
       " 'Rutherford Hayes\\n',\n",
       " 'James Garfield\\n',\n",
       " 'Chester Arthur\\n',\n",
       " 'Grover Cleveland\\n',\n",
       " 'Benjamin Harrison\\n',\n",
       " 'Grover Cleveland\\n',\n",
       " 'William McKinley\\n',\n",
       " 'Theodore Roosevelt\\n',\n",
       " 'William Taft\\n',\n",
       " 'Woodrow Wilson\\n',\n",
       " 'Warren Harding\\n',\n",
       " 'Calvin Coolidge\\n',\n",
       " 'Herbert Hoover\\n',\n",
       " 'Franklin Roosevelt\\n',\n",
       " 'Harry Truman\\n',\n",
       " 'Dwight Eisenhower\\n',\n",
       " 'John Kennedy\\n',\n",
       " 'Lyndon Johnson\\n',\n",
       " 'Richard Nixon\\n',\n",
       " 'Gerald Ford']"
      ]
     },
     "execution_count": 13,
     "metadata": {},
     "output_type": "execute_result"
    }
   ],
   "source": [
    "infile = open(\"USPres.txt\", 'r')\n",
    "pres = []\n",
    "for line in infile:\n",
    "    pres.append(line)\n",
    "infile.close() # 항상 이 코드를 실행해야 함.\n",
    "\n",
    "pres"
   ]
  },
  {
   "cell_type": "code",
   "execution_count": 14,
   "id": "f896e417",
   "metadata": {},
   "outputs": [
    {
     "data": {
      "text/plain": [
       "['George Washington\\n',\n",
       " 'John Adams\\n',\n",
       " 'Thomas Jefferson\\n',\n",
       " 'James Madison\\n',\n",
       " 'James Monroe\\n',\n",
       " 'John Q. Adams\\n',\n",
       " 'Andrew Jackson\\n',\n",
       " 'Martin Van_Buren\\n',\n",
       " 'William Harrison\\n',\n",
       " 'John Tyler\\n',\n",
       " 'James Polk\\n',\n",
       " 'Zachary Taylor\\n',\n",
       " 'Millard Fillmore\\n',\n",
       " 'Franklin Pierce\\n',\n",
       " 'James Buchanan\\n',\n",
       " 'Abraham Lincoln\\n',\n",
       " 'Andrew Johnson\\n',\n",
       " 'Ulysses Grant\\n',\n",
       " 'Rutherford Hayes\\n',\n",
       " 'James Garfield\\n',\n",
       " 'Chester Arthur\\n',\n",
       " 'Grover Cleveland\\n',\n",
       " 'Benjamin Harrison\\n',\n",
       " 'Grover Cleveland\\n',\n",
       " 'William McKinley\\n',\n",
       " 'Theodore Roosevelt\\n',\n",
       " 'William Taft\\n',\n",
       " 'Woodrow Wilson\\n',\n",
       " 'Warren Harding\\n',\n",
       " 'Calvin Coolidge\\n',\n",
       " 'Herbert Hoover\\n',\n",
       " 'Franklin Roosevelt\\n',\n",
       " 'Harry Truman\\n',\n",
       " 'Dwight Eisenhower\\n',\n",
       " 'John Kennedy\\n',\n",
       " 'Lyndon Johnson\\n',\n",
       " 'Richard Nixon\\n',\n",
       " 'Gerald Ford']"
      ]
     },
     "execution_count": 14,
     "metadata": {},
     "output_type": "execute_result"
    }
   ],
   "source": [
    "# 위 코드와 동일\n",
    "\n",
    "infile = open(\"USPres.txt\", 'r')\n",
    "pres = [line for line in infile]\n",
    "infile.close()\n",
    "\n",
    "pres"
   ]
  },
  {
   "cell_type": "code",
   "execution_count": 15,
   "id": "4faa6362",
   "metadata": {},
   "outputs": [
    {
     "data": {
      "text/plain": [
       "'George Washington\\nJohn Adams\\nThomas Jefferson\\nJames Madison\\nJames Monroe\\nJohn Q. Adams\\nAndrew Jackson\\nMartin Van_Buren\\nWilliam Harrison\\nJohn Tyler\\nJames Polk\\nZachary Taylor\\nMillard Fillmore\\nFranklin Pierce\\nJames Buchanan\\nAbraham Lincoln\\nAndrew Johnson\\nUlysses Grant\\nRutherford Hayes\\nJames Garfield\\nChester Arthur\\nGrover Cleveland\\nBenjamin Harrison\\nGrover Cleveland\\nWilliam McKinley\\nTheodore Roosevelt\\nWilliam Taft\\nWoodrow Wilson\\nWarren Harding\\nCalvin Coolidge\\nHerbert Hoover\\nFranklin Roosevelt\\nHarry Truman\\nDwight Eisenhower\\nJohn Kennedy\\nLyndon Johnson\\nRichard Nixon\\nGerald Ford'"
      ]
     },
     "execution_count": 15,
     "metadata": {},
     "output_type": "execute_result"
    }
   ],
   "source": [
    "infile = open(\"USPres.txt\", 'r')\n",
    "pres = infile.read()\n",
    "infile.close()\n",
    "\n",
    "pres"
   ]
  },
  {
   "cell_type": "code",
   "execution_count": 42,
   "id": "a528d87a",
   "metadata": {},
   "outputs": [
    {
     "data": {
      "text/plain": [
       "'George Washington\\n'"
      ]
     },
     "execution_count": 42,
     "metadata": {},
     "output_type": "execute_result"
    }
   ],
   "source": [
    "infile = open(\"USPres.txt\", 'r')\n",
    "pres = infile.readline()\n",
    "infile.close()\n",
    "\n",
    "pres"
   ]
  },
  {
   "cell_type": "code",
   "execution_count": 50,
   "id": "f9a22c0a",
   "metadata": {},
   "outputs": [
    {
     "name": "stdout",
     "output_type": "stream",
     "text": [
      "1 George Washington\n",
      "2 John Adams\n",
      "3 Thomas Jefferson\n",
      "4 James Madison\n",
      "5 James Monroe\n",
      "6 John Q. Adams\n",
      "7 Andrew Jackson\n",
      "8 Martin Van_Buren\n",
      "9 William Harrison\n",
      "10 John Tyler\n",
      "11 James Polk\n",
      "12 Zachary Taylor\n",
      "13 Millard Fillmore\n",
      "14 Franklin Pierce\n",
      "15 James Buchanan\n",
      "16 Abraham Lincoln\n",
      "17 Andrew Johnson\n",
      "18 Ulysses Grant\n",
      "19 Rutherford Hayes\n",
      "20 James Garfield\n",
      "21 Chester Arthur\n",
      "22 Grover Cleveland\n",
      "23 Benjamin Harrison\n",
      "24 Grover Cleveland\n",
      "25 William McKinley\n",
      "26 Theodore Roosevelt\n",
      "27 William Taft\n",
      "28 Woodrow Wilson\n",
      "29 Warren Harding\n",
      "30 Calvin Coolidge\n",
      "31 Herbert Hoover\n",
      "32 Franklin Roosevelt\n",
      "33 Harry Truman\n",
      "34 Dwight Eisenhower\n",
      "35 John Kennedy\n",
      "36 Lyndon Johnson\n",
      "37 Richard Nixon\n",
      "38 Gerald Ford\n"
     ]
    }
   ],
   "source": [
    "infile = open(\"USPres.txt\", 'r')\n",
    "\n",
    "for i, line in enumerate(infile):\n",
    "    print(i+1, line.strip())\n",
    "    \n",
    "infile.close()"
   ]
  },
  {
   "cell_type": "code",
   "execution_count": 57,
   "id": "bf029e7b",
   "metadata": {},
   "outputs": [],
   "source": [
    "outfile = open(\"CityKor.txt\", 'w')\n",
    "\n",
    "city = [\"서울\\n\", \"대전\\n\", \"대구\\n\", \"부산\\n\", \"광주\\n\", \"울산\\n\"]\n",
    "\n",
    "str_city = \"서울\\n대전\\n대구\\n부산\\n광주\\n울산\"\n",
    "\n",
    "outfile.writelines(str_city)\n",
    "outfile.close()"
   ]
  },
  {
   "cell_type": "code",
   "execution_count": 67,
   "id": "4f7ca801",
   "metadata": {},
   "outputs": [],
   "source": [
    "outfile = open(\"CityKor.txt\", 'w')\n",
    "\n",
    "city = [\"서울\\n\", \"대전\\n\", \"대구\\n\", \"부산\\n\", \"광주\\n\", \"울산\\n\"]\n",
    "\n",
    "str_city = \"서울\\n대전\\n대구\\n부산\\n광주\\n울산\"\n",
    "\n",
    "outfile.writelines(city)\n",
    "outfile.close()"
   ]
  },
  {
   "cell_type": "code",
   "execution_count": 68,
   "id": "67d2de91",
   "metadata": {},
   "outputs": [
    {
     "data": {
      "text/plain": [
       "'서울\\n대전\\n대구\\n부산\\n광주\\n울산\\n'"
      ]
     },
     "execution_count": 68,
     "metadata": {},
     "output_type": "execute_result"
    }
   ],
   "source": [
    "infile = open(\"CityKor.txt\", 'r')\n",
    "a = infile.read()\n",
    "infile.close()\n",
    "\n",
    "a"
   ]
  },
  {
   "cell_type": "code",
   "execution_count": 52,
   "id": "077420bd",
   "metadata": {},
   "outputs": [
    {
     "data": {
      "text/plain": [
       "['서울', '대전', '대구', '부산', '광주', '울산']"
      ]
     },
     "execution_count": 52,
     "metadata": {},
     "output_type": "execute_result"
    }
   ],
   "source": [
    "infile = open(\"CityKor.txt\", 'r')\n",
    "city = [line.strip() for line in infile]\n",
    "infile.close()\n",
    "\n",
    "city"
   ]
  },
  {
   "cell_type": "code",
   "execution_count": 70,
   "id": "aa8cd5b9",
   "metadata": {},
   "outputs": [],
   "source": [
    "outfile = open(\"singerKor.txt\", 'w')\n",
    "outfile.write(\"BTS\\n\")\n",
    "outfile.write(\"Black Pink\\n\")\n",
    "outfile.write(\"Red Velvet\\n\")\n",
    "outfile.write(\"Girls Generation\\n\")\n",
    "outfile.close()"
   ]
  },
  {
   "cell_type": "code",
   "execution_count": 71,
   "id": "b1160d8b",
   "metadata": {},
   "outputs": [
    {
     "data": {
      "text/plain": [
       "['BTS', 'Black Pink', 'Red Velvet', 'Girls Generation']"
      ]
     },
     "execution_count": 71,
     "metadata": {},
     "output_type": "execute_result"
    }
   ],
   "source": [
    "infile = open(\"singerKor.txt\", 'r')\n",
    "singer = [line.strip() for line in infile]\n",
    "infile.close()\n",
    "\n",
    "singer"
   ]
  },
  {
   "cell_type": "code",
   "execution_count": 72,
   "id": "7ef6b09e",
   "metadata": {},
   "outputs": [],
   "source": [
    "# 기존 파일에 라인 추가\n",
    "\n",
    "outfile = open(\"singerKor.txt\", 'a')\n",
    "outfile.write(\"New Jeans\\n\")\n",
    "outfile.write(\"IVE\\n\")\n",
    "outfile.close()"
   ]
  },
  {
   "cell_type": "code",
   "execution_count": 73,
   "id": "db02661a",
   "metadata": {},
   "outputs": [
    {
     "data": {
      "text/plain": [
       "['BTS', 'Black Pink', 'Red Velvet', 'Girls Generation', 'New Jeans', 'IVE']"
      ]
     },
     "execution_count": 73,
     "metadata": {},
     "output_type": "execute_result"
    }
   ],
   "source": [
    "infile = open(\"singerKor.txt\", 'r')\n",
    "singer = [line.strip() for line in infile]\n",
    "infile.close()\n",
    "\n",
    "singer"
   ]
  },
  {
   "cell_type": "code",
   "execution_count": null,
   "id": "02e38060",
   "metadata": {},
   "outputs": [],
   "source": []
  }
 ],
 "metadata": {
  "kernelspec": {
   "display_name": "Python 3 (ipykernel)",
   "language": "python",
   "name": "python3"
  },
  "language_info": {
   "codemirror_mode": {
    "name": "ipython",
    "version": 3
   },
   "file_extension": ".py",
   "mimetype": "text/x-python",
   "name": "python",
   "nbconvert_exporter": "python",
   "pygments_lexer": "ipython3",
   "version": "3.9.13"
  }
 },
 "nbformat": 4,
 "nbformat_minor": 5
}
