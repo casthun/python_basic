{
 "cells": [
  {
   "cell_type": "markdown",
   "id": "c14e3147",
   "metadata": {},
   "source": [
    "## 12 페이지 예제"
   ]
  },
  {
   "cell_type": "code",
   "execution_count": 1,
   "id": "e98d1659",
   "metadata": {},
   "outputs": [
    {
     "data": {
      "text/plain": [
       "'3 X 2 = 6'"
      ]
     },
     "execution_count": 1,
     "metadata": {},
     "output_type": "execute_result"
    }
   ],
   "source": [
    "a = 3\n",
    "\n",
    "str(a) + \" X 2 = 6\""
   ]
  },
  {
   "cell_type": "code",
   "execution_count": 2,
   "id": "bb5fe7b9",
   "metadata": {},
   "outputs": [
    {
     "name": "stdout",
     "output_type": "stream",
     "text": [
      "3 X 1 = 3\n",
      "3 X 2 = 6\n"
     ]
    }
   ],
   "source": [
    "print(\"3 X 1 = 3\\n3 X 2 = 6\")"
   ]
  },
  {
   "cell_type": "code",
   "execution_count": 3,
   "id": "e43c858c",
   "metadata": {},
   "outputs": [
    {
     "name": "stdout",
     "output_type": "stream",
     "text": [
      "3 X 1 = 3\n",
      "3 X 2 = 6\n"
     ]
    }
   ],
   "source": [
    "print(\"\"\"3 X 1 = 3\n",
    "3 X 2 = 6\"\"\")"
   ]
  },
  {
   "cell_type": "code",
   "execution_count": 4,
   "id": "d55224db",
   "metadata": {},
   "outputs": [
    {
     "data": {
      "text/plain": [
       "'총 10번의 시도 끝에 7번 패배하셨습니다.'"
      ]
     },
     "execution_count": 4,
     "metadata": {},
     "output_type": "execute_result"
    }
   ],
   "source": [
    "trials = 10\n",
    "win = 3\n",
    "\n",
    "\"총 {}번의 시도 끝에 {}번 패배하셨습니다.\".format(trials, trials - win)"
   ]
  },
  {
   "cell_type": "code",
   "execution_count": null,
   "id": "00b8c60a",
   "metadata": {},
   "outputs": [],
   "source": []
  },
  {
   "cell_type": "markdown",
   "id": "f4e33a59",
   "metadata": {},
   "source": [
    "## 16 페이지 예제"
   ]
  },
  {
   "cell_type": "code",
   "execution_count": 1,
   "id": "8755f5a4",
   "metadata": {},
   "outputs": [
    {
     "name": "stdout",
     "output_type": "stream",
     "text": [
      "제 폰 번호는 010-2643-0139 입니다.\n",
      "제 폰 번호 마지막 네자리는 0139 입니다.\n"
     ]
    }
   ],
   "source": [
    "phoneNumber = \"010-2643-0139\"\n",
    "print(\"제 폰 번호는\", phoneNumber, \"입니다.\")\n",
    "print(\"제 폰 번호 마지막 네자리는\", phoneNumber[9:], \"입니다.\")"
   ]
  },
  {
   "cell_type": "code",
   "execution_count": 2,
   "id": "85401872",
   "metadata": {},
   "outputs": [
    {
     "name": "stdout",
     "output_type": "stream",
     "text": [
      "제 폰 번호 중간 네자리는 2643 입니다.\n"
     ]
    }
   ],
   "source": [
    "print(\"제 폰 번호 중간 네자리는\", phoneNumber[4:8], \"입니다.\")"
   ]
  },
  {
   "cell_type": "code",
   "execution_count": 3,
   "id": "f810a8b0",
   "metadata": {},
   "outputs": [
    {
     "data": {
      "text/plain": [
       "['010', '2643', '0139']"
      ]
     },
     "execution_count": 3,
     "metadata": {},
     "output_type": "execute_result"
    }
   ],
   "source": [
    "lst = phoneNumber.split('-')\n",
    "lst"
   ]
  },
  {
   "cell_type": "code",
   "execution_count": 4,
   "id": "ae523207",
   "metadata": {},
   "outputs": [
    {
     "name": "stdout",
     "output_type": "stream",
     "text": [
      "제 폰 번호 마지막 네자리는 0139 입니다.\n",
      "제 폰 번호 중간 네자리는 2643 입니다.\n"
     ]
    }
   ],
   "source": [
    "print(\"제 폰 번호 마지막 네자리는\", lst[2], \"입니다.\")\n",
    "print(\"제 폰 번호 중간 네자리는\", lst[1], \"입니다.\")"
   ]
  },
  {
   "cell_type": "code",
   "execution_count": null,
   "id": "0deb5a5f",
   "metadata": {},
   "outputs": [],
   "source": []
  },
  {
   "cell_type": "markdown",
   "id": "bb748f89",
   "metadata": {},
   "source": [
    "## 20 페이지 예제"
   ]
  },
  {
   "cell_type": "code",
   "execution_count": 2,
   "id": "291584a9",
   "metadata": {},
   "outputs": [
    {
     "data": {
      "text/plain": [
       "'우리나라는 1945년에 일본으로부터 독립하였으나 1950년 6.25전쟁을 겪었다.'"
      ]
     },
     "execution_count": 2,
     "metadata": {},
     "output_type": "execute_result"
    }
   ],
   "source": [
    "# 예제1\n",
    "\n",
    "a = 1945\n",
    "b = 1950\n",
    "c = 6.25\n",
    "\n",
    "\"우리나라는 {}년에 일본으로부터 독립하였으나 {}년 {}전쟁을 겪었다.\".format(a,b,c)"
   ]
  },
  {
   "cell_type": "code",
   "execution_count": 2,
   "id": "6a9c1aca",
   "metadata": {},
   "outputs": [
    {
     "data": {
      "text/plain": [
       "'제 대출금액은 5,000만원인데, 대출금리는 4.8%입니다.'"
      ]
     },
     "execution_count": 2,
     "metadata": {},
     "output_type": "execute_result"
    }
   ],
   "source": [
    "# 예제2\n",
    "\n",
    "a = 5000\n",
    "b = 0.0475\n",
    "\n",
    "\"제 대출금액은 {0:,d}만원인데, 대출금리는 {1:.1%}입니다.\".format(a, b)"
   ]
  },
  {
   "cell_type": "code",
   "execution_count": null,
   "id": "253aad40",
   "metadata": {},
   "outputs": [],
   "source": []
  },
  {
   "cell_type": "code",
   "execution_count": 12,
   "id": "1ea25003",
   "metadata": {},
   "outputs": [
    {
     "name": "stdout",
     "output_type": "stream",
     "text": [
      "숫자를 입력하시오. :7\n"
     ]
    },
    {
     "data": {
      "text/plain": [
       "7"
      ]
     },
     "execution_count": 12,
     "metadata": {},
     "output_type": "execute_result"
    }
   ],
   "source": [
    "a = eval(input(\"숫자를 입력하시오. :\"))\n",
    "a"
   ]
  },
  {
   "cell_type": "code",
   "execution_count": null,
   "id": "95ac266b",
   "metadata": {},
   "outputs": [],
   "source": []
  },
  {
   "cell_type": "code",
   "execution_count": null,
   "id": "8bc23e0c",
   "metadata": {},
   "outputs": [],
   "source": []
  },
  {
   "cell_type": "markdown",
   "id": "142a5999",
   "metadata": {},
   "source": [
    "## 24페이지 예제"
   ]
  },
  {
   "cell_type": "code",
   "execution_count": null,
   "id": "f31bb91e",
   "metadata": {},
   "outputs": [],
   "source": [
    "nums = [3,5,7,9,11]\n",
    "print(\"Largest Number: \", max(nums))\n",
    "print(\"Length: \", len(nums))\n",
    "print(\"Total: \", sum(nums))\n",
    "print(\"First Number: \", nums[0])\n",
    "print(\"Last Number: \", nums[-1])"
   ]
  },
  {
   "cell_type": "code",
   "execution_count": null,
   "id": "7bf85247",
   "metadata": {},
   "outputs": [],
   "source": [
    "L = [\"sentence\", \"contains\", \"five\", \"words.\"]\n",
    "\n",
    "L.insert(0, \"This\")\n",
    "print(\" \".join(L))\n",
    "del L[3]\n",
    "L.insert(3, 'six')\n",
    "L.insert(4, 'different')\n",
    "print(\" \".join(L))"
   ]
  },
  {
   "cell_type": "code",
   "execution_count": 13,
   "id": "e9d75ea7",
   "metadata": {},
   "outputs": [],
   "source": [
    "L = [\"sentence\", \"contains\", \"five\", \"words.\"]"
   ]
  },
  {
   "cell_type": "code",
   "execution_count": 14,
   "id": "d7530e30",
   "metadata": {},
   "outputs": [
    {
     "data": {
      "text/plain": [
       "['This', 'sentence', 'contains', 'five', 'words.']"
      ]
     },
     "execution_count": 14,
     "metadata": {},
     "output_type": "execute_result"
    }
   ],
   "source": [
    "L.insert(0, \"This\")\n",
    "L"
   ]
  },
  {
   "cell_type": "code",
   "execution_count": 15,
   "id": "5204aa7e",
   "metadata": {},
   "outputs": [
    {
     "name": "stdout",
     "output_type": "stream",
     "text": [
      "This sentence contains five words.\n"
     ]
    }
   ],
   "source": [
    "print(\" \".join(L))"
   ]
  },
  {
   "cell_type": "code",
   "execution_count": 16,
   "id": "8ce9d7e7",
   "metadata": {},
   "outputs": [
    {
     "data": {
      "text/plain": [
       "['This', 'sentence', 'contains', 'words.']"
      ]
     },
     "execution_count": 16,
     "metadata": {},
     "output_type": "execute_result"
    }
   ],
   "source": [
    "del L[3]\n",
    "L"
   ]
  },
  {
   "cell_type": "code",
   "execution_count": 17,
   "id": "d8ee0263",
   "metadata": {},
   "outputs": [
    {
     "data": {
      "text/plain": [
       "['This', 'sentence', 'contains', 'six', 'words.']"
      ]
     },
     "execution_count": 17,
     "metadata": {},
     "output_type": "execute_result"
    }
   ],
   "source": [
    "L.insert(3, 'six')\n",
    "L"
   ]
  },
  {
   "cell_type": "code",
   "execution_count": 18,
   "id": "bc7012d0",
   "metadata": {},
   "outputs": [
    {
     "data": {
      "text/plain": [
       "['This', 'sentence', 'contains', 'six', 'different', 'words.']"
      ]
     },
     "execution_count": 18,
     "metadata": {},
     "output_type": "execute_result"
    }
   ],
   "source": [
    "L.insert(4, \"different\")\n",
    "L"
   ]
  },
  {
   "cell_type": "code",
   "execution_count": 19,
   "id": "9a5eb1d2",
   "metadata": {},
   "outputs": [
    {
     "data": {
      "text/plain": [
       "'This sentence contains six different words.'"
      ]
     },
     "execution_count": 19,
     "metadata": {},
     "output_type": "execute_result"
    }
   ],
   "source": [
    "\" \".join(L)"
   ]
  },
  {
   "cell_type": "code",
   "execution_count": null,
   "id": "b5a76475",
   "metadata": {},
   "outputs": [],
   "source": [
    "a = input(\"영문 이름을 입력하시오: \")\n",
    "print(\"저의 이름은 {}입니다.\".format(a.split()[0]))"
   ]
  },
  {
   "cell_type": "code",
   "execution_count": 3,
   "id": "258b18a6",
   "metadata": {},
   "outputs": [
    {
     "name": "stdin",
     "output_type": "stream",
     "text": [
      "Enter a sentence:  Reach for the stars\n"
     ]
    },
    {
     "name": "stdout",
     "output_type": "stream",
     "text": [
      "First word: Reach\n",
      "Last word: stars\n"
     ]
    }
   ],
   "source": [
    "a = input(\"Enter a sentence: \")\n",
    "print(\"First word:\", a.split()[0])\n",
    "print(\"Last word:\", a.split()[-1])"
   ]
  },
  {
   "cell_type": "code",
   "execution_count": null,
   "id": "08a97918-4ba9-4d8f-bfff-350da61789ce",
   "metadata": {},
   "outputs": [],
   "source": []
  },
  {
   "cell_type": "code",
   "execution_count": null,
   "id": "7f3bde7c-8c25-44df-aa0b-7c49acdd545f",
   "metadata": {},
   "outputs": [],
   "source": []
  },
  {
   "cell_type": "code",
   "execution_count": 5,
   "id": "8563e527-188a-45ad-a1a4-da2edbbab65f",
   "metadata": {},
   "outputs": [
    {
     "data": {
      "text/plain": [
       "['Reach', 'for', 'the', 'stars']"
      ]
     },
     "execution_count": 5,
     "metadata": {},
     "output_type": "execute_result"
    }
   ],
   "source": [
    "a.split()"
   ]
  },
  {
   "cell_type": "code",
   "execution_count": 8,
   "id": "64aa5d7a",
   "metadata": {},
   "outputs": [
    {
     "data": {
      "text/plain": [
       "'Reach'"
      ]
     },
     "execution_count": 8,
     "metadata": {},
     "output_type": "execute_result"
    }
   ],
   "source": [
    "\"Reach for the stars\".split()[0]"
   ]
  },
  {
   "cell_type": "code",
   "execution_count": 9,
   "id": "f1130697",
   "metadata": {},
   "outputs": [
    {
     "data": {
      "text/plain": [
       "'stars'"
      ]
     },
     "execution_count": 9,
     "metadata": {},
     "output_type": "execute_result"
    }
   ],
   "source": [
    "\"Reach for the stars\".split()[-1]"
   ]
  },
  {
   "cell_type": "code",
   "execution_count": 6,
   "id": "39c4496e",
   "metadata": {},
   "outputs": [
    {
     "name": "stdin",
     "output_type": "stream",
     "text": [
      "Enter a 2-part name:  John Doe\n"
     ]
    },
    {
     "name": "stdout",
     "output_type": "stream",
     "text": [
      "Revised form:  Doe, John\n"
     ]
    }
   ],
   "source": [
    "a = input(\"Enter a 2-part name: \")\n",
    "print(\"Revised form: \", '{}, {}'.format(a.split()[1], a.split()[0]))"
   ]
  },
  {
   "cell_type": "code",
   "execution_count": 7,
   "id": "0b681b5e",
   "metadata": {},
   "outputs": [
    {
     "name": "stdout",
     "output_type": "stream",
     "text": [
      "Revised form:  Doe, John\n"
     ]
    }
   ],
   "source": [
    "print(\"Revised form: \", a.split()[1]+\",\", a.split()[0])"
   ]
  },
  {
   "cell_type": "code",
   "execution_count": null,
   "id": "f15e4c51",
   "metadata": {},
   "outputs": [],
   "source": []
  },
  {
   "cell_type": "code",
   "execution_count": null,
   "id": "3289d8d7",
   "metadata": {},
   "outputs": [],
   "source": []
  },
  {
   "cell_type": "markdown",
   "id": "0c0f013a",
   "metadata": {},
   "source": [
    "## 27 페이지 예제"
   ]
  },
  {
   "cell_type": "code",
   "execution_count": 8,
   "id": "732b8341",
   "metadata": {},
   "outputs": [
    {
     "data": {
      "text/plain": [
       "('서울', '대전', '대구', '부산', '광주')"
      ]
     },
     "execution_count": 8,
     "metadata": {},
     "output_type": "execute_result"
    }
   ],
   "source": [
    "region = \"서울-대전-대구-부산-광주\"\n",
    "L = region.split(\"-\")\n",
    "T = tuple(L)\n",
    "T"
   ]
  },
  {
   "cell_type": "code",
   "execution_count": 9,
   "id": "47ea0288",
   "metadata": {},
   "outputs": [
    {
     "data": {
      "text/plain": [
       "['서울', '대전', '대구', '부산', '광주']"
      ]
     },
     "execution_count": 9,
     "metadata": {},
     "output_type": "execute_result"
    }
   ],
   "source": [
    "L"
   ]
  },
  {
   "cell_type": "code",
   "execution_count": 28,
   "id": "a6d05ff5",
   "metadata": {},
   "outputs": [
    {
     "name": "stdout",
     "output_type": "stream",
     "text": [
      "{3, 6, 9, 12, 15, 18, 21, 24, 27, 30}\n",
      "{4, 8, 12, 16, 20, 24, 28}\n"
     ]
    }
   ],
   "source": [
    "three = {i for i in range(3, 31, 3)}\n",
    "four = {i for i in range(4, 31, 4)}\n",
    "print(three)\n",
    "print(four)"
   ]
  },
  {
   "cell_type": "code",
   "execution_count": 29,
   "id": "4ca7e60c",
   "metadata": {},
   "outputs": [
    {
     "data": {
      "text/plain": [
       "{3, 4, 6, 8, 9, 12, 15, 16, 18, 20, 21, 24, 27, 28, 30}"
      ]
     },
     "execution_count": 29,
     "metadata": {},
     "output_type": "execute_result"
    }
   ],
   "source": [
    "three | four"
   ]
  },
  {
   "cell_type": "code",
   "execution_count": 30,
   "id": "b65fd17c",
   "metadata": {},
   "outputs": [
    {
     "data": {
      "text/plain": [
       "{3, 6, 9, 15, 18, 21, 27, 30}"
      ]
     },
     "execution_count": 30,
     "metadata": {},
     "output_type": "execute_result"
    }
   ],
   "source": [
    "three - four"
   ]
  },
  {
   "cell_type": "code",
   "execution_count": 31,
   "id": "d668c07d",
   "metadata": {},
   "outputs": [
    {
     "data": {
      "text/plain": [
       "{12, 24}"
      ]
     },
     "execution_count": 31,
     "metadata": {},
     "output_type": "execute_result"
    }
   ],
   "source": [
    "three & four"
   ]
  },
  {
   "cell_type": "code",
   "execution_count": 10,
   "id": "f6eaf8dc",
   "metadata": {},
   "outputs": [
    {
     "name": "stdin",
     "output_type": "stream",
     "text": [
      "양수를 입력하세요:  10\n"
     ]
    },
    {
     "name": "stdout",
     "output_type": "stream",
     "text": [
      "10보다 작은 양수의 합은 45입니다.\n"
     ]
    }
   ],
   "source": [
    "a = eval(input(\"양수를 입력하세요: \"))\n",
    "\n",
    "tot = 0\n",
    "for i in range(a):\n",
    "    tot += i\n",
    "\n",
    "print(\"10보다 작은 양수의 합은\", str(tot)+\"입니다.\")    "
   ]
  },
  {
   "cell_type": "markdown",
   "id": "abd2b2ff",
   "metadata": {},
   "source": [
    "## 39 페이지 예제"
   ]
  },
  {
   "cell_type": "code",
   "execution_count": null,
   "id": "2f707f12-53a9-48ea-a750-22d010548cba",
   "metadata": {},
   "outputs": [],
   "source": []
  },
  {
   "cell_type": "code",
   "execution_count": 6,
   "id": "0fbce136",
   "metadata": {},
   "outputs": [
    {
     "name": "stdout",
     "output_type": "stream",
     "text": [
      "3 x 1 = 3\n",
      "3 x 2 = 6\n",
      "3 x 3 = 9\n",
      "3 x 4 = 12\n",
      "3 x 5 = 15\n",
      "3 x 6 = 18\n",
      "3 x 7 = 21\n",
      "3 x 8 = 24\n",
      "3 x 9 = 27\n"
     ]
    }
   ],
   "source": [
    "for i in range(1, 10):\n",
    "    print(3, 'x', i, '=', 3*i)"
   ]
  },
  {
   "cell_type": "code",
   "execution_count": 33,
   "id": "a804ff1f",
   "metadata": {},
   "outputs": [
    {
     "name": "stdout",
     "output_type": "stream",
     "text": [
      "*\n",
      "**\n",
      "***\n",
      "****\n",
      "*****\n"
     ]
    }
   ],
   "source": [
    "a = '*'\n",
    "\n",
    "for i in range(5):\n",
    "    print(a)\n",
    "    a = a+\"*\"\n"
   ]
  },
  {
   "cell_type": "code",
   "execution_count": 32,
   "id": "a907d652",
   "metadata": {},
   "outputs": [
    {
     "name": "stdout",
     "output_type": "stream",
     "text": [
      "*\n",
      "**\n",
      "***\n",
      "****\n",
      "*****\n"
     ]
    }
   ],
   "source": [
    "a = '*'\n",
    "\n",
    "for i in range(1,6):\n",
    "    print('*'*i)"
   ]
  },
  {
   "cell_type": "code",
   "execution_count": 8,
   "id": "240087eb",
   "metadata": {},
   "outputs": [
    {
     "name": "stdout",
     "output_type": "stream",
     "text": [
      "5\n",
      "4\n",
      "3\n",
      "2\n",
      "1\n"
     ]
    }
   ],
   "source": [
    "for i in [5,4,3,2,1]:\n",
    "    print(i)"
   ]
  },
  {
   "cell_type": "code",
   "execution_count": 34,
   "id": "a7f8293a",
   "metadata": {},
   "outputs": [
    {
     "name": "stdout",
     "output_type": "stream",
     "text": [
      "5\n",
      "4\n",
      "3\n",
      "2\n",
      "1\n"
     ]
    }
   ],
   "source": [
    "for i in range(5,0,-1):\n",
    "    print(i)"
   ]
  },
  {
   "cell_type": "code",
   "execution_count": 36,
   "id": "00b67dfd",
   "metadata": {},
   "outputs": [
    {
     "data": {
      "text/plain": [
       "[1, 2, 3, 4, 5]"
      ]
     },
     "execution_count": 36,
     "metadata": {},
     "output_type": "execute_result"
    }
   ],
   "source": [
    "lst_temp"
   ]
  },
  {
   "cell_type": "code",
   "execution_count": 35,
   "id": "4086c4d7",
   "metadata": {},
   "outputs": [
    {
     "name": "stdout",
     "output_type": "stream",
     "text": [
      "How many numbers do you want to enter? 5\n",
      "Enter a number: 1\n",
      "Enter a number: 2\n",
      "Enter a number: 3\n",
      "Enter a number: 4\n",
      "Enter a number: 5\n",
      "Mean:  3.0\n"
     ]
    }
   ],
   "source": [
    "a = eval(input(\"How many numbers do you want to enter? \"))\n",
    "lst_temp = []\n",
    "\n",
    "for i in range(a):\n",
    "    a_temp = eval(input(\"Enter a number: \"))\n",
    "    lst_temp.append(a_temp)\n",
    "    \n",
    "mean = sum(lst_temp)/len(lst_temp)\n",
    "    \n",
    "print(\"Mean: \", mean)"
   ]
  },
  {
   "cell_type": "code",
   "execution_count": 18,
   "id": "ec6ef334",
   "metadata": {},
   "outputs": [
    {
     "name": "stdout",
     "output_type": "stream",
     "text": [
      "How many numbers do you want to enter? 5\n",
      "Enter a number: 2\n",
      "Enter a number: 3\n",
      "Enter a number: 4\n",
      "Enter a number: 5\n",
      "Enter a number: 6\n",
      "Median:  4\n"
     ]
    }
   ],
   "source": [
    "a = eval(input(\"How many numbers do you want to enter? \"))\n",
    "lst_temp = []\n",
    "\n",
    "for i in range(a):\n",
    "    a_temp = eval(input(\"Enter a number: \"))\n",
    "    lst_temp.append(a_temp)\n",
    "    \n",
    "lst_temp.sort()\n",
    "\n",
    "if len(lst_temp)/2 == 0:\n",
    "    j = int(len(lst_temp)/2)\n",
    "    median = (lst_temp[j-1] + lst_temp[j])/2\n",
    "else:\n",
    "    j = int((len(lst_temp)-1)/2)\n",
    "    median = lst_temp[j]\n",
    "    \n",
    "print(\"Median: \", median)"
   ]
  },
  {
   "cell_type": "code",
   "execution_count": 19,
   "id": "d646dfa0",
   "metadata": {},
   "outputs": [
    {
     "name": "stdout",
     "output_type": "stream",
     "text": [
      "How many numbers do you want to enter? 5\n",
      "Enter a number: 1\n",
      "Enter a number: 2\n",
      "Enter a number: 3\n",
      "Enter a number: 4\n",
      "Enter a number: 5\n",
      "Median:  3\n"
     ]
    }
   ],
   "source": [
    "import statistics\n",
    "\n",
    "a = eval(input(\"How many numbers do you want to enter? \"))\n",
    "lst_temp = []\n",
    "\n",
    "for i in range(a):\n",
    "    a_temp = eval(input(\"Enter a number: \"))\n",
    "    lst_temp.append(a_temp)\n",
    "\n",
    "median = statistics.median(lst_temp)\n",
    "    \n",
    "print(\"Median: \", median)"
   ]
  },
  {
   "cell_type": "code",
   "execution_count": null,
   "id": "99330940",
   "metadata": {},
   "outputs": [],
   "source": []
  },
  {
   "cell_type": "markdown",
   "id": "dfb92160",
   "metadata": {},
   "source": [
    "## 44 페이지 예제"
   ]
  },
  {
   "cell_type": "code",
   "execution_count": 15,
   "id": "429acb65",
   "metadata": {},
   "outputs": [],
   "source": [
    "outfile = open(\"test2/ex44.txt\", 'w')\n",
    "outfile.write(\"광화문\\n\")\n",
    "outfile.write(\"경복궁\\n\")\n",
    "outfile.write(\"광장시장\\n\")\n",
    "outfile.write(\"강남역\\n\")\n",
    "outfile.write(\"한강\\n\")\n",
    "outfile.write(\"경희궁\\n\")\n",
    "outfile.close()"
   ]
  },
  {
   "cell_type": "code",
   "execution_count": 12,
   "id": "34cb6f37",
   "metadata": {},
   "outputs": [
    {
     "data": {
      "text/plain": [
       "['광화문', '경복궁', '광장시장', '강남역', '한강', '경희궁']"
      ]
     },
     "execution_count": 12,
     "metadata": {},
     "output_type": "execute_result"
    }
   ],
   "source": [
    "infile = open(\"ex44.txt\", 'r')\n",
    "culture = [line.strip() for line in infile]\n",
    "infile.close()\n",
    "\n",
    "culture"
   ]
  },
  {
   "cell_type": "code",
   "execution_count": 13,
   "id": "de3e3af6",
   "metadata": {},
   "outputs": [],
   "source": [
    "cul_lst = ['광화문\\n', '경복궁\\n', '광장시장\\n', '강남역\\n', '한강\\n', '경희궁\\n']\n",
    "cul_str = \"광화문\\n경복궁\\n광장시장\\n강남역\\n한강\\n경희궁\\n\"\n",
    "outfile = open(\"ex44-1.txt\", 'w')\n",
    "outfile.writelines(cul_lst)\n",
    "outfile.close()"
   ]
  },
  {
   "cell_type": "code",
   "execution_count": 14,
   "id": "da15b9a0",
   "metadata": {},
   "outputs": [],
   "source": [
    "outfile = open(\"ex44-2.txt\", 'w')\n",
    "outfile.writelines(cul_str)\n",
    "outfile.close()"
   ]
  },
  {
   "cell_type": "markdown",
   "id": "441eab94",
   "metadata": {},
   "source": [
    "## 46 페이지 예제"
   ]
  },
  {
   "cell_type": "code",
   "execution_count": 2,
   "id": "fa46ea95",
   "metadata": {},
   "outputs": [
    {
     "name": "stdout",
     "output_type": "stream",
     "text": [
      "숫자를 입력하세요: 3\n",
      "3는(은) 홀수입니다.\n"
     ]
    }
   ],
   "source": [
    "num = input(\"숫자를 입력하세요: \")\n",
    "\n",
    "if int(num)%2 == 0:\n",
    "    print(num+\"는(은) 짝수입니다.\")\n",
    "else:\n",
    "    print(num+\"는(은) 홀수입니다.\")"
   ]
  },
  {
   "cell_type": "code",
   "execution_count": 6,
   "id": "08ccaea1",
   "metadata": {},
   "outputs": [
    {
     "name": "stdout",
     "output_type": "stream",
     "text": [
      "점수를 입력하세요: 72\n",
      "학점은 C입니다.\n"
     ]
    }
   ],
   "source": [
    "score = eval(input(\"점수를 입력하세요: \"))\n",
    "\n",
    "if score >= 90:\n",
    "    print(\"학점은 A입니다.\")\n",
    "elif score >= 80:\n",
    "    print(\"학점은 B입니다.\")\n",
    "elif score >= 70:\n",
    "    print(\"학점은 C입니다.\")\n",
    "elif score >= 60:\n",
    "    print(\"학점은 D입니다.\")\n",
    "else:\n",
    "    print(\"학점은 F입니다.\")"
   ]
  },
  {
   "cell_type": "code",
   "execution_count": 4,
   "id": "1f947add",
   "metadata": {},
   "outputs": [
    {
     "name": "stdout",
     "output_type": "stream",
     "text": [
      "숫자를 입력하세요: 89\n",
      "컴퓨터는 78를 선택했습니다. 더 큰 수를 고르셨네요.\n"
     ]
    }
   ],
   "source": [
    "import random\n",
    "\n",
    "user = eval(input(\"숫자를 입력하세요: \"))\n",
    "com = random.choice(range(1, 101))\n",
    "\n",
    "if user > com:\n",
    "    print(\"컴퓨터는 \"+str(com)+\"를 선택했습니다. 더 큰 수를 고르셨네요.\")\n",
    "elif com > user:\n",
    "    print(\"컴퓨터는 \"+str(com)+\"를 선택했습니다. 더 작은 수를 고르셨네요.\")\n",
    "else:\n",
    "    print(\"컴퓨터는 \"+str(com)+\"를 선택했습니다. 같은 수를 고르셨네요.\")"
   ]
  },
  {
   "cell_type": "code",
   "execution_count": 5,
   "id": "752a0c8b",
   "metadata": {},
   "outputs": [
    {
     "name": "stdout",
     "output_type": "stream",
     "text": [
      "Enter cost of first suit: 400\n",
      "Enter cost of second suit: 350\n",
      "Cost of the two suits is $575.0\n"
     ]
    }
   ],
   "source": [
    "first_suit = eval(input(\"Enter cost of first suit: \"))\n",
    "second_suit = eval(input(\"Enter cost of second suit: \"))\n",
    "\n",
    "if first_suit >= second_suit:\n",
    "    cost = first_suit + second_suit*0.5\n",
    "else:\n",
    "    cost = first_suit*0.5 + second_suit\n",
    "    \n",
    "print(\"Cost of the two suits is ${}\".format(cost))"
   ]
  },
  {
   "cell_type": "code",
   "execution_count": 7,
   "id": "3464ef91",
   "metadata": {},
   "outputs": [
    {
     "name": "stdout",
     "output_type": "stream",
     "text": [
      "숫자를 입력하세요: 9\n",
      "2\n",
      "3\n",
      "5\n",
      "7\n"
     ]
    }
   ],
   "source": [
    "# if - 예제3\n",
    "\n",
    "# 소수는 1과 자기 자신만을 약수로 가지는 특성이 있음.\n",
    "\n",
    "num1 = eval(input(\"숫자를 입력하세요: \"))\n",
    "\n",
    "# 입력된 숫자보다 작은 숫자를 하나씩 소환\n",
    "for i in range(1, num1+1):\n",
    "    count = 0\n",
    "    # i보다 작은 약수의 개수를 count로 계산\n",
    "    for j in range(1, i+1):\n",
    "        if i%j == 0:\n",
    "            count += 1\n",
    "    # 약수의 개수가 2개인 경우 소수로 판단\n",
    "    if count == 2:\n",
    "        print(i)"
   ]
  },
  {
   "cell_type": "code",
   "execution_count": null,
   "id": "54d01ab9",
   "metadata": {},
   "outputs": [],
   "source": []
  },
  {
   "cell_type": "markdown",
   "id": "82436070",
   "metadata": {},
   "source": [
    "## 50 페이지 예제"
   ]
  },
  {
   "cell_type": "code",
   "execution_count": 16,
   "id": "c5045ab9",
   "metadata": {},
   "outputs": [
    {
     "name": "stdin",
     "output_type": "stream",
     "text": [
      "숫자를 입력하세요:  80\n"
     ]
    },
    {
     "name": "stdout",
     "output_type": "stream",
     "text": [
      "더 작은 수입니다.\n"
     ]
    },
    {
     "name": "stdin",
     "output_type": "stream",
     "text": [
      "숫자를 입력하세요:  70\n"
     ]
    },
    {
     "name": "stdout",
     "output_type": "stream",
     "text": [
      "더 작은 수입니다.\n"
     ]
    },
    {
     "name": "stdin",
     "output_type": "stream",
     "text": [
      "숫자를 입력하세요:  50\n"
     ]
    },
    {
     "name": "stdout",
     "output_type": "stream",
     "text": [
      "더 작은 수입니다.\n"
     ]
    },
    {
     "name": "stdin",
     "output_type": "stream",
     "text": [
      "숫자를 입력하세요:  40\n"
     ]
    },
    {
     "name": "stdout",
     "output_type": "stream",
     "text": [
      "더 작은 수입니다.\n"
     ]
    },
    {
     "name": "stdin",
     "output_type": "stream",
     "text": [
      "숫자를 입력하세요:  30\n"
     ]
    },
    {
     "name": "stdout",
     "output_type": "stream",
     "text": [
      "더 작은 수입니다.\n"
     ]
    },
    {
     "name": "stdin",
     "output_type": "stream",
     "text": [
      "숫자를 입력하세요:  20\n"
     ]
    },
    {
     "name": "stdout",
     "output_type": "stream",
     "text": [
      "더 큰 수입니다.\n"
     ]
    },
    {
     "name": "stdin",
     "output_type": "stream",
     "text": [
      "숫자를 입력하세요:  25\n"
     ]
    },
    {
     "name": "stdout",
     "output_type": "stream",
     "text": [
      "더 큰 수입니다.\n"
     ]
    },
    {
     "name": "stdin",
     "output_type": "stream",
     "text": [
      "숫자를 입력하세요:  27\n"
     ]
    },
    {
     "name": "stdout",
     "output_type": "stream",
     "text": [
      "더 큰 수입니다.\n"
     ]
    },
    {
     "name": "stdin",
     "output_type": "stream",
     "text": [
      "숫자를 입력하세요:  28\n"
     ]
    },
    {
     "name": "stdout",
     "output_type": "stream",
     "text": [
      "더 큰 수입니다.\n"
     ]
    },
    {
     "name": "stdin",
     "output_type": "stream",
     "text": [
      "숫자를 입력하세요:  29\n"
     ]
    },
    {
     "name": "stdout",
     "output_type": "stream",
     "text": [
      "선택한 수를 맞추셨습니다.\n"
     ]
    }
   ],
   "source": [
    "import random\n",
    "\n",
    "num1 = random.choice(range(1, 101))\n",
    "num2 = int(input(\"숫자를 입력하세요: \"))\n",
    "\n",
    "while num1 != num2:\n",
    "    if num1 > num2:\n",
    "        print(\"더 큰 수입니다.\")\n",
    "    else:\n",
    "        print(\"더 작은 수입니다.\")\n",
    "    num2 = int(input(\"숫자를 입력하세요: \"))\n",
    "    \n",
    "print(\"선택한 수를 맞추셨습니다.\")"
   ]
  },
  {
   "cell_type": "code",
   "execution_count": 8,
   "id": "dbd661c5",
   "metadata": {},
   "outputs": [
    {
     "name": "stdout",
     "output_type": "stream",
     "text": [
      "가위(0), 바위(1), 보(2) 중 하나를 입력하세요(종료 q): 1\n",
      "당신은 비겼습니다. (당신: 바위, 컴퓨터: 바위)\n",
      "가위(0), 바위(1), 보(2) 중 하나를 입력하세요(종료 q): 2\n",
      "당신은 졌습니다. (당신: 보, 컴퓨터: 가위)\n",
      "가위(0), 바위(1), 보(2) 중 하나를 입력하세요(종료 q): 0\n",
      "당신은 졌습니다. (당신: 가위, 컴퓨터: 바위)\n",
      "가위(0), 바위(1), 보(2) 중 하나를 입력하세요(종료 q): 2\n",
      "당신은 이겼습니다. (당신: 보, 컴퓨터: 바위)\n",
      "가위(0), 바위(1), 보(2) 중 하나를 입력하세요(종료 q): q\n",
      "총 4번의 게임에서 1승 1무승부 2패하셨습니다.\n"
     ]
    }
   ],
   "source": [
    "# while 예제2\n",
    "\n",
    "import random\n",
    "\n",
    "list1 = [\"가위\", \"바위\", \"보\"]\n",
    "count = 0\n",
    "\n",
    "win = 0\n",
    "lose = 0\n",
    "even = 0\n",
    "\n",
    "while True:\n",
    "    \n",
    "    input1 = input(\"가위(0), 바위(1), 보(2) 중 하나를 입력하세요(종료 q): \")\n",
    "    if input1 == 'q':\n",
    "        break\n",
    "    count += 1    \n",
    "    user = list1[int(input1)]\n",
    "    com = list1[random.choice(range(0,3))]\n",
    "    \n",
    "    if user == \"가위\":\n",
    "        if com == \"바위\":\n",
    "            lose += 1\n",
    "            print(\"당신은 졌습니다. (당신: {}, 컴퓨터: {})\".format(user, com))\n",
    "        elif com == \"보\":\n",
    "            win += 1\n",
    "            print(\"당신은 이겼습니다. (당신: {}, 컴퓨터: {})\".format(user, com))\n",
    "        else:\n",
    "            even += 1\n",
    "            print(\"당신은 비겼습니다. (당신: {}, 컴퓨터: {})\".format(user, com))\n",
    "    elif user == \"바위\":\n",
    "        if com == \"바위\":\n",
    "            even += 1\n",
    "            print(\"당신은 비겼습니다. (당신: {}, 컴퓨터: {})\".format(user, com))\n",
    "        elif com == \"보\":\n",
    "            lose += 1\n",
    "            print(\"당신은 졌습니다. (당신: {}, 컴퓨터: {})\".format(user, com))\n",
    "        else:\n",
    "            win += 1\n",
    "            print(\"당신은 이겼습니다. (당신: {}, 컴퓨터: {})\".format(user, com))\n",
    "    else:\n",
    "        if com == \"바위\":\n",
    "            win += 1\n",
    "            print(\"당신은 이겼습니다. (당신: {}, 컴퓨터: {})\".format(user, com))\n",
    "        elif com == \"보\":\n",
    "            even += 1\n",
    "            print(\"당신은 비겼습니다. (당신: {}, 컴퓨터: {})\".format(user, com))\n",
    "        else:\n",
    "            lose += 1\n",
    "            print(\"당신은 졌습니다. (당신: {}, 컴퓨터: {})\".format(user, com))\n",
    "            \n",
    "print(\"총 {}번의 게임에서 {}승 {}무승부 {}패하셨습니다.\".format(count, win, even, lose))"
   ]
  },
  {
   "cell_type": "code",
   "execution_count": null,
   "id": "c6a87a0d",
   "metadata": {},
   "outputs": [],
   "source": []
  },
  {
   "cell_type": "markdown",
   "id": "106f5b9e",
   "metadata": {},
   "source": [
    "## 54 페이지 예제"
   ]
  },
  {
   "cell_type": "code",
   "execution_count": 17,
   "id": "f4fe0195",
   "metadata": {},
   "outputs": [],
   "source": [
    "def bigger(a, b):\n",
    "    if a > b:\n",
    "        return a\n",
    "    else:\n",
    "        return b"
   ]
  },
  {
   "cell_type": "code",
   "execution_count": 19,
   "id": "be2822dc",
   "metadata": {},
   "outputs": [
    {
     "data": {
      "text/plain": [
       "2"
      ]
     },
     "execution_count": 19,
     "metadata": {},
     "output_type": "execute_result"
    }
   ],
   "source": [
    "bigger(2,2)"
   ]
  },
  {
   "cell_type": "code",
   "execution_count": 21,
   "id": "6c29fa04",
   "metadata": {},
   "outputs": [
    {
     "data": {
      "text/plain": [
       "6"
      ]
     },
     "execution_count": 21,
     "metadata": {},
     "output_type": "execute_result"
    }
   ],
   "source": [
    "def twice(a):\n",
    "    return 2*a\n",
    "\n",
    "twice(3)"
   ]
  },
  {
   "cell_type": "code",
   "execution_count": null,
   "id": "c891d864",
   "metadata": {},
   "outputs": [],
   "source": [
    "# 함수 예제1 - 소수\n",
    "\n",
    "def isPrime(num):\n",
    "    count = 0\n",
    "    for i in range(1, num+1):\n",
    "        if num%i == 0:\n",
    "            count += 1\n",
    "    if count == 2:\n",
    "        return True\n",
    "    else:\n",
    "        return False"
   ]
  },
  {
   "cell_type": "code",
   "execution_count": null,
   "id": "64dc2c84",
   "metadata": {},
   "outputs": [],
   "source": []
  },
  {
   "cell_type": "markdown",
   "id": "735a49de",
   "metadata": {},
   "source": [
    "## 59페이지 예제"
   ]
  },
  {
   "cell_type": "code",
   "execution_count": 30,
   "id": "2e39cdb8",
   "metadata": {},
   "outputs": [
    {
     "data": {
      "text/plain": [
       "[2, 4, 6, 8]"
      ]
     },
     "execution_count": 30,
     "metadata": {},
     "output_type": "execute_result"
    }
   ],
   "source": [
    "#1\n",
    "\n",
    "#blist는 리스트 형태이어야 함.\n",
    "\n",
    "def twice(*blist):\n",
    "    lst_temp = []\n",
    "    for i in blist:\n",
    "        lst_temp.append(2*i)\n",
    "    return lst_temp\n",
    "\n",
    "twice(*[1,2,3,4])"
   ]
  },
  {
   "cell_type": "code",
   "execution_count": 26,
   "id": "1292d480",
   "metadata": {},
   "outputs": [
    {
     "data": {
      "text/plain": [
       "90"
      ]
     },
     "execution_count": 26,
     "metadata": {},
     "output_type": "execute_result"
    }
   ],
   "source": [
    "#2\n",
    "\n",
    "def max_lst(*number):\n",
    "    lst_temp = []\n",
    "    for num in number:\n",
    "        lst_temp.append(num)\n",
    "    return max(lst_temp)\n",
    "\n",
    "max_lst(1,2,3,4,5,6,7,90)         "
   ]
  },
  {
   "cell_type": "code",
   "execution_count": 28,
   "id": "41292131",
   "metadata": {},
   "outputs": [],
   "source": [
    "#3\n",
    "\n",
    "def max_two(blist):\n",
    "    blist.sort(reverse=True)\n",
    "    print(blist[0])\n",
    "    print(blist[1])\n",
    "    "
   ]
  },
  {
   "cell_type": "code",
   "execution_count": 29,
   "id": "1e6782a6",
   "metadata": {},
   "outputs": [
    {
     "name": "stdout",
     "output_type": "stream",
     "text": [
      "10\n",
      "9\n"
     ]
    }
   ],
   "source": [
    "blist = [2,5,7,9,10]\n",
    "max_two(blist)"
   ]
  },
  {
   "cell_type": "code",
   "execution_count": null,
   "id": "9a4da1ea",
   "metadata": {},
   "outputs": [],
   "source": []
  },
  {
   "cell_type": "markdown",
   "id": "cc2f26ed",
   "metadata": {},
   "source": [
    "## 61 페이지 예제"
   ]
  },
  {
   "cell_type": "code",
   "execution_count": 26,
   "id": "300a3a7a",
   "metadata": {},
   "outputs": [],
   "source": [
    "def isPrime(num):\n",
    "    count = 0\n",
    "    for i in range(1, num+1):\n",
    "        if num%i == 0:\n",
    "            count += 1\n",
    "    if count == 2:\n",
    "        return True\n",
    "    else:\n",
    "        return False"
   ]
  },
  {
   "cell_type": "code",
   "execution_count": 27,
   "id": "dd211cc3",
   "metadata": {},
   "outputs": [
    {
     "data": {
      "text/plain": [
       "[2,\n",
       " 3,\n",
       " 5,\n",
       " 7,\n",
       " 11,\n",
       " 13,\n",
       " 17,\n",
       " 19,\n",
       " 23,\n",
       " 29,\n",
       " 31,\n",
       " 37,\n",
       " 41,\n",
       " 43,\n",
       " 47,\n",
       " 53,\n",
       " 59,\n",
       " 61,\n",
       " 67,\n",
       " 71,\n",
       " 73,\n",
       " 79,\n",
       " 83,\n",
       " 89,\n",
       " 97]"
      ]
     },
     "execution_count": 27,
     "metadata": {},
     "output_type": "execute_result"
    }
   ],
   "source": [
    "#1\n",
    "\n",
    "prime = []\n",
    "\n",
    "\n",
    "for i in range(1, 101):\n",
    "    if isPrime(i):\n",
    "        prime.append(i)\n",
    "\n",
    "prime\n",
    "    "
   ]
  },
  {
   "cell_type": "code",
   "execution_count": 28,
   "id": "9dd1a0c1",
   "metadata": {},
   "outputs": [],
   "source": [
    "#2\n",
    "\n",
    "prime = [i for i in range(1,101) if isPrime(i)]"
   ]
  },
  {
   "cell_type": "code",
   "execution_count": 29,
   "id": "dc67ddb2",
   "metadata": {},
   "outputs": [
    {
     "data": {
      "text/plain": [
       "[2,\n",
       " 3,\n",
       " 5,\n",
       " 7,\n",
       " 11,\n",
       " 13,\n",
       " 17,\n",
       " 19,\n",
       " 23,\n",
       " 29,\n",
       " 31,\n",
       " 37,\n",
       " 41,\n",
       " 43,\n",
       " 47,\n",
       " 53,\n",
       " 59,\n",
       " 61,\n",
       " 67,\n",
       " 71,\n",
       " 73,\n",
       " 79,\n",
       " 83,\n",
       " 89,\n",
       " 97]"
      ]
     },
     "execution_count": 29,
     "metadata": {},
     "output_type": "execute_result"
    }
   ],
   "source": [
    "prime"
   ]
  },
  {
   "cell_type": "code",
   "execution_count": null,
   "id": "9ac8ed5b",
   "metadata": {},
   "outputs": [],
   "source": []
  },
  {
   "cell_type": "markdown",
   "id": "1fae168e",
   "metadata": {},
   "source": [
    "## 64 페이지 예제"
   ]
  },
  {
   "cell_type": "code",
   "execution_count": 2,
   "id": "33e7537e",
   "metadata": {},
   "outputs": [],
   "source": [
    "# 클래스 예제1\n",
    "\n",
    "class Cylinder:\n",
    "    \n",
    "    def __init__(self, radius, height):\n",
    "        self.radius = radius\n",
    "        self.height = height\n",
    "        \n",
    "    def area(self):\n",
    "        return 2*3.14*(self.radius**2) + 2*3.14*self.radius*self.height\n",
    "    \n",
    "    def volume(self):\n",
    "        return 3.14*(self.radius**2)*self.height\n",
    "    \n",
    "    def __str__(self):\n",
    "        return \"원기둥의 넓이는 {}이고, 부피는 {}입니다.\".format(self.area(), self.volume())"
   ]
  },
  {
   "cell_type": "code",
   "execution_count": 5,
   "id": "ffd3c50b",
   "metadata": {},
   "outputs": [
    {
     "data": {
      "text/plain": [
       "4"
      ]
     },
     "execution_count": 5,
     "metadata": {},
     "output_type": "execute_result"
    }
   ],
   "source": [
    "cyl = Cylinder(3, 4)\n",
    "cyl.height"
   ]
  },
  {
   "cell_type": "code",
   "execution_count": 6,
   "id": "2788e984",
   "metadata": {},
   "outputs": [
    {
     "name": "stdout",
     "output_type": "stream",
     "text": [
      "원기둥의 넓이는 131.88이고, 부피는 113.04입니다.\n"
     ]
    }
   ],
   "source": [
    "print(cyl)"
   ]
  },
  {
   "cell_type": "code",
   "execution_count": 6,
   "id": "41ed2f53",
   "metadata": {},
   "outputs": [
    {
     "data": {
      "text/plain": [
       "131.88"
      ]
     },
     "execution_count": 6,
     "metadata": {},
     "output_type": "execute_result"
    }
   ],
   "source": [
    "cyl.area()"
   ]
  },
  {
   "cell_type": "code",
   "execution_count": 7,
   "id": "2c4d9b22",
   "metadata": {},
   "outputs": [
    {
     "data": {
      "text/plain": [
       "113.04"
      ]
     },
     "execution_count": 7,
     "metadata": {},
     "output_type": "execute_result"
    }
   ],
   "source": [
    "cyl.volume()"
   ]
  },
  {
   "cell_type": "code",
   "execution_count": 8,
   "id": "977d8938",
   "metadata": {},
   "outputs": [
    {
     "data": {
      "text/plain": [
       "3"
      ]
     },
     "execution_count": 8,
     "metadata": {},
     "output_type": "execute_result"
    }
   ],
   "source": [
    "cyl.radius"
   ]
  },
  {
   "cell_type": "code",
   "execution_count": 9,
   "id": "c5f8929f",
   "metadata": {},
   "outputs": [
    {
     "data": {
      "text/plain": [
       "4"
      ]
     },
     "execution_count": 9,
     "metadata": {},
     "output_type": "execute_result"
    }
   ],
   "source": [
    "cyl.height"
   ]
  },
  {
   "cell_type": "code",
   "execution_count": null,
   "id": "f127a9cc",
   "metadata": {},
   "outputs": [],
   "source": []
  },
  {
   "cell_type": "code",
   "execution_count": null,
   "id": "5dced1aa",
   "metadata": {},
   "outputs": [],
   "source": []
  },
  {
   "cell_type": "code",
   "execution_count": null,
   "id": "2b9a9bf1",
   "metadata": {},
   "outputs": [],
   "source": []
  },
  {
   "cell_type": "code",
   "execution_count": 31,
   "id": "bef94bce",
   "metadata": {},
   "outputs": [],
   "source": [
    "# 클래스 예제2\n",
    "\n",
    "class Sphere:\n",
    "    \n",
    "    def __init__(self, radius):\n",
    "        self.radius = radius\n",
    "        \n",
    "    def area(self):\n",
    "        return 4*3.14*(self.radius)**2\n",
    "    \n",
    "    def volume(self):\n",
    "        return 4/3*3.14*(self.radius)**3\n",
    "    \n",
    "    def __str__(self):\n",
    "        return \"구의 넓이는 {}이고, 부피는 {}입니다.\".format(self.area(), self.volume())"
   ]
  },
  {
   "cell_type": "code",
   "execution_count": null,
   "id": "95c812a6",
   "metadata": {},
   "outputs": [],
   "source": []
  },
  {
   "cell_type": "markdown",
   "id": "5da62bf5",
   "metadata": {},
   "source": [
    "## 66 페이지 예제"
   ]
  },
  {
   "cell_type": "code",
   "execution_count": 32,
   "id": "04a17156",
   "metadata": {},
   "outputs": [],
   "source": [
    "# 클래스 예제3\n",
    "\n",
    "class NewCylinder(Cylinder):\n",
    "    def sidearea(self):\n",
    "        return 2*3.14*self.radius*self.height"
   ]
  },
  {
   "cell_type": "code",
   "execution_count": null,
   "id": "f77df981",
   "metadata": {},
   "outputs": [],
   "source": []
  },
  {
   "cell_type": "code",
   "execution_count": null,
   "id": "3a466197",
   "metadata": {},
   "outputs": [],
   "source": []
  },
  {
   "cell_type": "code",
   "execution_count": null,
   "id": "e0699737",
   "metadata": {},
   "outputs": [],
   "source": []
  },
  {
   "cell_type": "code",
   "execution_count": null,
   "id": "4795b194",
   "metadata": {},
   "outputs": [],
   "source": []
  }
 ],
 "metadata": {
  "kernelspec": {
   "display_name": "Python 3 (ipykernel)",
   "language": "python",
   "name": "python3"
  },
  "language_info": {
   "codemirror_mode": {
    "name": "ipython",
    "version": 3
   },
   "file_extension": ".py",
   "mimetype": "text/x-python",
   "name": "python",
   "nbconvert_exporter": "python",
   "pygments_lexer": "ipython3",
   "version": "3.11.9"
  }
 },
 "nbformat": 4,
 "nbformat_minor": 5
}
