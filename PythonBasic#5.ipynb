{
 "cells": [
  {
   "cell_type": "markdown",
   "id": "1596cd40",
   "metadata": {},
   "source": [
    "## 함수 - Built-In Functions"
   ]
  },
  {
   "cell_type": "code",
   "execution_count": 1,
   "id": "be805227",
   "metadata": {},
   "outputs": [
    {
     "name": "stdout",
     "output_type": "stream",
     "text": [
      "Function   Example                        Input                Output\n",
      "int        int(2.6) is 2                  number               number\n",
      "chr        chr(65) is 'A'                 number               string\n",
      "ord        ord('A') is 65                 string               number\n",
      "round      round(2.34, 1) is 2.3          number, number       number\n"
     ]
    }
   ],
   "source": [
    "# Built in functions\n",
    "# 함수 괄호 안에 들어가는 값을 argument(인자)라고 함.\n",
    "# int, chr, ord 함수는 하나의 argument를 갖고, round 함수는 두 개의 arguments를 가짐.\n",
    "# arguments는 문자 혹은 숫자, 변수, 표현식 등으로 표현가능\n",
    "\n",
    "print(\"Function\".ljust(10), \"Example\".ljust(30), \"Input\".ljust(20), \"Output\")\n",
    "print(\"int\".ljust(10), \"int(2.6) is 2\".ljust(30), \"number\".ljust(20), \"number\")\n",
    "print(\"chr\".ljust(10), \"chr(65) is 'A'\".ljust(30), \"number\".ljust(20), \"string\")\n",
    "print(\"ord\".ljust(10), \"ord('A') is 65\".ljust(30), \"string\".ljust(20), \"number\")\n",
    "print(\"round\".ljust(10), \"round(2.34, 1) is 2.3\".ljust(30), \"number, number\".ljust(20), \"number\")"
   ]
  },
  {
   "cell_type": "code",
   "execution_count": 3,
   "id": "77bfc1a8",
   "metadata": {},
   "outputs": [],
   "source": [
    "num1 = int(3.7) # 문자 혹은 숫자\n",
    "num2 = int(num1) # 변수\n",
    "num3 = int(2*num2) # 표현식"
   ]
  },
  {
   "cell_type": "markdown",
   "id": "5d0d9e93",
   "metadata": {},
   "source": [
    "## 사용자 정의 함수 - single parameter"
   ]
  },
  {
   "cell_type": "code",
   "execution_count": 1,
   "id": "f5d4e242",
   "metadata": {},
   "outputs": [],
   "source": [
    "# 함수에서 사용되는 변수를 파라미터(parameter)라고 함.\n",
    "\n",
    "def fahrenheitToCelsius(t):\n",
    "    ## convert Fahrenheit temperature to Celsius.\n",
    "    convertedTemperature = (5/9)*(t-32)\n",
    "    return convertedTemperature"
   ]
  },
  {
   "cell_type": "code",
   "execution_count": 4,
   "id": "da0e23de",
   "metadata": {},
   "outputs": [
    {
     "data": {
      "text/plain": [
       "40.0"
      ]
     },
     "execution_count": 4,
     "metadata": {},
     "output_type": "execute_result"
    }
   ],
   "source": [
    "# 함수 실행시 사용되는 값을 argument(인자)라고 함.\n",
    "fahrenheitToCelsius(104)"
   ]
  },
  {
   "cell_type": "code",
   "execution_count": 3,
   "id": "b13f31e5",
   "metadata": {},
   "outputs": [],
   "source": [
    "def firstName(fullName):\n",
    "    ## Extract the first name from a full name\n",
    "    firstSpace = fullName.index(' ')\n",
    "    givenName = fullName[:firstSpace]\n",
    "    return givenName"
   ]
  },
  {
   "cell_type": "code",
   "execution_count": 4,
   "id": "47f0e176",
   "metadata": {},
   "outputs": [
    {
     "data": {
      "text/plain": [
       "'GilDong'"
      ]
     },
     "execution_count": 4,
     "metadata": {},
     "output_type": "execute_result"
    }
   ],
   "source": [
    "firstName(\"GilDong Hong\")"
   ]
  },
  {
   "cell_type": "code",
   "execution_count": 6,
   "id": "47267944",
   "metadata": {},
   "outputs": [
    {
     "name": "stdout",
     "output_type": "stream",
     "text": [
      "Enter a temperature in degrees Fahrenheit: 106\n",
      "Celsius equivalent: 41.11 degrees\n"
     ]
    }
   ],
   "source": [
    "# 앞서 정의된 fahrenheitToCelsius 함수를 이용\n",
    "# argument인 fahrenheitTemp의 값이 함수 헤더에 있는 파라미터인 t에 할당됨.\n",
    "# 함수 fahrenheitToCelsius를 통해 return 실행문이 값을 출력\n",
    "# 출력된 값이 celsiusTemp에 할당됨.\n",
    "# celsiusTemp에 할당된 값이 print 명령문을 통해 출력됨.\n",
    "\n",
    "def fahrenheitToCelsius(t):\n",
    "    ## convert Fahrenheit temperature to Celsius.\n",
    "    convertedTemperature = (5/9)*(t-32)\n",
    "    return convertedTemperature\n",
    "\n",
    "fahrenheitTemp = eval(input(\"Enter a temperature in degrees Fahrenheit: \"))\n",
    "celsiusTemp = fahrenheitToCelsius(fahrenheitTemp)\n",
    "print(\"Celsius equivalent: {0:.2f} degrees\".format(celsiusTemp))\n",
    "\n",
    "# print(\"Celsius equivalent:\", fahrenheitToCelsius(fahrenheitTemp), \"degrees\")처럼 작성가능"
   ]
  },
  {
   "cell_type": "code",
   "execution_count": 7,
   "id": "d763d95e",
   "metadata": {},
   "outputs": [
    {
     "name": "stdout",
     "output_type": "stream",
     "text": [
      "Enter a person's full name: Hun Park\n",
      "First name:  Hun\n"
     ]
    }
   ],
   "source": [
    "def firstName(fullName):\n",
    "    ## Extract the first name from a full name\n",
    "    firstSpace = fullName.index(' ')\n",
    "    givenName = fullName[:firstSpace]\n",
    "    return givenName\n",
    "\n",
    "fullName = input(\"Enter a person's full name: \")\n",
    "print(\"First name: \", firstName(fullName))"
   ]
  },
  {
   "cell_type": "markdown",
   "id": "373c791e",
   "metadata": {},
   "source": [
    "## 사용자 정의 함수 - multiple parameters"
   ]
  },
  {
   "cell_type": "code",
   "execution_count": 8,
   "id": "7b5c64ae",
   "metadata": {},
   "outputs": [],
   "source": [
    "def add(a, b):\n",
    "    return a + b"
   ]
  },
  {
   "cell_type": "code",
   "execution_count": 9,
   "id": "a5ed0b49",
   "metadata": {},
   "outputs": [
    {
     "data": {
      "text/plain": [
       "5"
      ]
     },
     "execution_count": 9,
     "metadata": {},
     "output_type": "execute_result"
    }
   ],
   "source": [
    "add(2,3)"
   ]
  },
  {
   "cell_type": "code",
   "execution_count": 8,
   "id": "7085b9a8",
   "metadata": {},
   "outputs": [],
   "source": [
    "def mul(a, b):\n",
    "    return a*b"
   ]
  },
  {
   "cell_type": "code",
   "execution_count": 10,
   "id": "77ed0bbc",
   "metadata": {},
   "outputs": [
    {
     "data": {
      "text/plain": [
       "12"
      ]
     },
     "execution_count": 10,
     "metadata": {},
     "output_type": "execute_result"
    }
   ],
   "source": [
    "c = mul(2,6)\n",
    "c"
   ]
  },
  {
   "cell_type": "code",
   "execution_count": 10,
   "id": "1a597867",
   "metadata": {},
   "outputs": [],
   "source": [
    "def pay(wage, hours):\n",
    "    # Calculate weekly pay with time-and-a-half for overtime\n",
    "    if hours <= 40:\n",
    "        amount = wage * hours\n",
    "    else:\n",
    "        amount = (wage * 40) + ((1.5)* wage * (hours - 40))\n",
    "    return amount"
   ]
  },
  {
   "cell_type": "code",
   "execution_count": 11,
   "id": "c24f1f46",
   "metadata": {},
   "outputs": [],
   "source": [
    "def futureValue(p, r, m, t):\n",
    "    # Find the future value of a savings account deposit\n",
    "    # p principal, the amount deposited(원금)\n",
    "    # r annual rate of interest in decimal form(이자율)\n",
    "    # m number of times interest is compounded per year(이자율 지급횟수)\n",
    "    # t number of years(예치 후 경과년수)    \n",
    "    i = r/m\n",
    "    n = m * t\n",
    "    amount = p * ((1+i)**n)\n",
    "    return amount"
   ]
  },
  {
   "cell_type": "code",
   "execution_count": 12,
   "id": "51297cd2",
   "metadata": {},
   "outputs": [
    {
     "name": "stdout",
     "output_type": "stream",
     "text": [
      "Enter the hourly wage: 100\n",
      "Enter the number of hours worked: 50\n",
      "Earnings: $5,500.00\n"
     ]
    }
   ],
   "source": [
    "def pay(wage, hours):\n",
    "    # Calculate weekly pay with time-and-a-half for overtime\n",
    "    if hours <= 40:\n",
    "        amount = wage * hours\n",
    "    else:\n",
    "        amount = (wage * 40) + ((1.5)* wage * (hours - 40))\n",
    "    return amount\n",
    "\n",
    "hourlyWage = eval(input(\"Enter the hourly wage: \"))\n",
    "hoursWorked = eval(input(\"Enter the number of hours worked: \"))\n",
    "earnings = pay(hourlyWage, hoursWorked)\n",
    "print(\"Earnings: ${0:,.2f}\".format(earnings))"
   ]
  },
  {
   "cell_type": "code",
   "execution_count": 13,
   "id": "b393684b",
   "metadata": {},
   "outputs": [
    {
     "name": "stdout",
     "output_type": "stream",
     "text": [
      "Enter amount deposited: 2000\n",
      "Enter annual rate of interest in decimal form: 0.05\n",
      "Enter number of times interest is compounded per year: 2\n",
      "Enter number of years: 6\n",
      "Balance after 6 years: $2,689.78\n"
     ]
    }
   ],
   "source": [
    "def futureValue(p, r, m, t):\n",
    "    # Find the future value of a savings account deposit\n",
    "    # p principal, the amount deposited\n",
    "    # r annual rate of interest in decimal form\n",
    "    # m number of times interest is compounded per year\n",
    "    # t number of years    \n",
    "    i = r/m\n",
    "    n = m * t\n",
    "    amount = p * ((1+i)**n)\n",
    "    return amount\n",
    "\n",
    "p = eval(input(\"Enter amount deposited: \"))\n",
    "r = eval(input(\"Enter annual rate of interest in decimal form: \"))\n",
    "m = eval(input(\"Enter number of times interest is compounded per year: \"))\n",
    "t = int(input(\"Enter number of years: \"))\n",
    "\n",
    "balance = futureValue(p, r, m, t)\n",
    "print(\"Balance after\", t, \"years: ${0:,.2f}\".format(balance))"
   ]
  },
  {
   "cell_type": "markdown",
   "id": "82db3c2f",
   "metadata": {},
   "source": [
    "## True or False 반환 함수"
   ]
  },
  {
   "cell_type": "code",
   "execution_count": 1,
   "id": "a3c28354",
   "metadata": {},
   "outputs": [],
   "source": [
    "# 입력한 단어(영어)가 모든 모음(aeiou)으로 이루어진 경우 True 반환\n",
    "# 입력한 단어(영어)에 자음이 포함된 경우 False 반환\n",
    "# 입력한 단어가 모음으로 이루어졌더라도 일부 모임이 없는 경우 False 반환\n",
    "\n",
    "def isVowelWord(word):\n",
    "    word = word.upper()\n",
    "    vowels = (\"A\", \"E\", \"I\", \"O\", \"U\")\n",
    "    for vowel in vowels: \n",
    "        if vowel not in word:\n",
    "            return False # 자음이 하나라도 있으면 False 반환\n",
    "    return True # 모두 모음으로 이루어진 단어인 경우 True 반환"
   ]
  },
  {
   "cell_type": "code",
   "execution_count": 2,
   "id": "74b46ac9",
   "metadata": {},
   "outputs": [
    {
     "data": {
      "text/plain": [
       "False"
      ]
     },
     "execution_count": 2,
     "metadata": {},
     "output_type": "execute_result"
    }
   ],
   "source": [
    "isVowelWord(\"hunpark\")"
   ]
  },
  {
   "cell_type": "code",
   "execution_count": 3,
   "id": "37fb7b88",
   "metadata": {},
   "outputs": [
    {
     "data": {
      "text/plain": [
       "True"
      ]
     },
     "execution_count": 3,
     "metadata": {},
     "output_type": "execute_result"
    }
   ],
   "source": [
    "isVowelWord(\"aeiou\")"
   ]
  },
  {
   "cell_type": "code",
   "execution_count": 4,
   "id": "06d9d28c",
   "metadata": {},
   "outputs": [
    {
     "data": {
      "text/plain": [
       "True"
      ]
     },
     "execution_count": 4,
     "metadata": {},
     "output_type": "execute_result"
    }
   ],
   "source": [
    "isVowelWord(\"aeeiou\")"
   ]
  },
  {
   "cell_type": "code",
   "execution_count": 6,
   "id": "3ed0a187",
   "metadata": {},
   "outputs": [
    {
     "data": {
      "text/plain": [
       "False"
      ]
     },
     "execution_count": 6,
     "metadata": {},
     "output_type": "execute_result"
    }
   ],
   "source": [
    "isVowelWord(\"a\")"
   ]
  },
  {
   "cell_type": "code",
   "execution_count": 5,
   "id": "38079b42",
   "metadata": {},
   "outputs": [
    {
     "name": "stdout",
     "output_type": "stream",
     "text": [
      "Enter a word: aei\n",
      "aei does not contain every vowel.\n"
     ]
    }
   ],
   "source": [
    "word = input(\"Enter a word: \")\n",
    "if isVowelWord(word):\n",
    "    print(word, \"contains every vowel.\")\n",
    "else:\n",
    "    print(word, \"does not contain every vowel.\")"
   ]
  },
  {
   "cell_type": "markdown",
   "id": "fec0389f",
   "metadata": {},
   "source": [
    "## List 반환 함수"
   ]
  },
  {
   "cell_type": "code",
   "execution_count": 15,
   "id": "2e722dc3",
   "metadata": {},
   "outputs": [],
   "source": [
    "# 입력한 단어에서 모음을 추출해서 리스트 형태로 반환\n",
    "\n",
    "def occurringVowels(word):\n",
    "    word = word.upper()\n",
    "    vowels = ('A', 'E', 'I', 'O', 'U')\n",
    "    includedVowels = []\n",
    "    for vowel in vowels:\n",
    "        # vowel in word --> 단어에 모음이 있는 경우\n",
    "        # vowel not in includedVowels --> 리스트에 모음이 존재하지 않는 경우\n",
    "        if (vowel in word) and (vowel not in includedVowels): # 모음을 중복해서 append하는 것을 방지\n",
    "            includedVowels.append(vowel)\n",
    "    return includedVowels"
   ]
  },
  {
   "cell_type": "code",
   "execution_count": 8,
   "id": "7b9ccae3",
   "metadata": {},
   "outputs": [
    {
     "data": {
      "text/plain": [
       "['I']"
      ]
     },
     "execution_count": 8,
     "metadata": {},
     "output_type": "execute_result"
    }
   ],
   "source": [
    "occurringVowels(\"kisti\")"
   ]
  },
  {
   "cell_type": "code",
   "execution_count": 9,
   "id": "4e8e783a",
   "metadata": {},
   "outputs": [
    {
     "data": {
      "text/plain": [
       "['A', 'U']"
      ]
     },
     "execution_count": 9,
     "metadata": {},
     "output_type": "execute_result"
    }
   ],
   "source": [
    "occurringVowels(\"hunpark\")"
   ]
  },
  {
   "cell_type": "code",
   "execution_count": 17,
   "id": "8f5ddbb2",
   "metadata": {},
   "outputs": [
    {
     "name": "stdout",
     "output_type": "stream",
     "text": [
      "Enter a word: abcdefg\n",
      "The following vowels occur in the word: A E\n"
     ]
    }
   ],
   "source": [
    "word = input(\"Enter a word: \")\n",
    "listOfVowels = occurringVowels(word)\n",
    "print(\"The following vowels occur in the word: \", end=\"\")\n",
    "stringOfVowels = \" \".join(listOfVowels)\n",
    "print(stringOfVowels)"
   ]
  },
  {
   "cell_type": "markdown",
   "id": "ddab3e15",
   "metadata": {},
   "source": [
    "## return 명령문이 없는 함수"
   ]
  },
  {
   "cell_type": "code",
   "execution_count": 23,
   "id": "b31ba8f0",
   "metadata": {},
   "outputs": [],
   "source": [
    "def oldMcDonald(animal, sound):\n",
    "    print(\"Old McDonald had a farm. Eyi eyi oh.\")\n",
    "    print(\"And on his farm he had a\", animal + \".\", \"Eyi eyi oh.\")\n",
    "    print(\"With a\", sound, sound, \"here, and a\", sound, sound, \"there.\")\n",
    "    print(\"Here a\", sound+\",\", \"there a\", sound+\",\",\n",
    "         \"everywhere a\", sound, sound+\".\")\n",
    "    print(\"Old McDonald had a farm. Eyi eyi oh.\")"
   ]
  },
  {
   "cell_type": "code",
   "execution_count": 24,
   "id": "a2de872a",
   "metadata": {},
   "outputs": [
    {
     "name": "stdout",
     "output_type": "stream",
     "text": [
      "Old McDonald had a farm. Eyi eyi oh.\n",
      "And on his farm he had a lamb. Eyi eyi oh.\n",
      "With a baa baa here, and a baa baa there.\n",
      "Here a baa, there a baa, everywhere a baa baa.\n",
      "Old McDonald had a farm. Eyi eyi oh.\n"
     ]
    }
   ],
   "source": [
    "oldMcDonald(\"lamb\", \"baa\")"
   ]
  },
  {
   "cell_type": "code",
   "execution_count": 25,
   "id": "2b1fff6b",
   "metadata": {},
   "outputs": [
    {
     "name": "stdout",
     "output_type": "stream",
     "text": [
      "Old McDonald had a farm. Eyi eyi oh.\n",
      "And on his farm he had a duck. Eyi eyi oh.\n",
      "With a quack quack here, and a quack quack there.\n",
      "Here a quack, there a quack, everywhere a quack quack.\n",
      "Old McDonald had a farm. Eyi eyi oh.\n"
     ]
    }
   ],
   "source": [
    "oldMcDonald(\"duck\", \"quack\")"
   ]
  },
  {
   "cell_type": "code",
   "execution_count": 26,
   "id": "13d689fd",
   "metadata": {},
   "outputs": [
    {
     "name": "stdout",
     "output_type": "stream",
     "text": [
      "Old McDonald had a farm. Eyi eyi oh.\n",
      "And on his farm he had a cow. Eyi eyi oh.\n",
      "With a moo moo here, and a moo moo there.\n",
      "Here a moo, there a moo, everywhere a moo moo.\n",
      "Old McDonald had a farm. Eyi eyi oh.\n"
     ]
    }
   ],
   "source": [
    "oldMcDonald(\"cow\", \"moo\")"
   ]
  },
  {
   "cell_type": "code",
   "execution_count": 27,
   "id": "adf75f84",
   "metadata": {},
   "outputs": [
    {
     "name": "stdout",
     "output_type": "stream",
     "text": [
      "Old McDonald had a farm. Eyi eyi oh.\n",
      "And on his farm he had a lamb. Eyi eyi oh.\n",
      "With a baa baa here, and a baa baa there.\n",
      "Here a baa, there a baa, everywhere a baa baa.\n",
      "Old McDonald had a farm. Eyi eyi oh.\n",
      "\n",
      "Old McDonald had a farm. Eyi eyi oh.\n",
      "And on his farm he had a duck. Eyi eyi oh.\n",
      "With a quack quack here, and a quack quack there.\n",
      "Here a quack, there a quack, everywhere a quack quack.\n",
      "Old McDonald had a farm. Eyi eyi oh.\n",
      "\n",
      "Old McDonald had a farm. Eyi eyi oh.\n",
      "And on his farm he had a cow. Eyi eyi oh.\n",
      "With a moo moo here, and a moo moo there.\n",
      "Here a moo, there a moo, everywhere a moo moo.\n",
      "Old McDonald had a farm. Eyi eyi oh.\n"
     ]
    }
   ],
   "source": [
    "oldMcDonald(\"lamb\", \"baa\")\n",
    "print()\n",
    "oldMcDonald(\"duck\", \"quack\")\n",
    "print()\n",
    "oldMcDonald(\"cow\", \"moo\")"
   ]
  },
  {
   "cell_type": "markdown",
   "id": "1adc7b79",
   "metadata": {},
   "source": [
    "## 파라미터(매개변수) 없는 함수"
   ]
  },
  {
   "cell_type": "code",
   "execution_count": 23,
   "id": "93680233",
   "metadata": {},
   "outputs": [
    {
     "name": "stdout",
     "output_type": "stream",
     "text": [
      "Enter a person's full name: Hun Park\n",
      "First name: Hun\n"
     ]
    }
   ],
   "source": [
    "def main():\n",
    "    fullName = input(\"Enter a person's full name: \")\n",
    "    print(\"First name:\", firstName(fullName))\n",
    "def firstName(fullName):\n",
    "    firstSpace = fullName.index(\" \")\n",
    "    givenName = fullName[:firstSpace]\n",
    "    return givenName\n",
    "main()"
   ]
  },
  {
   "cell_type": "code",
   "execution_count": 24,
   "id": "e7538f75",
   "metadata": {},
   "outputs": [
    {
     "name": "stdout",
     "output_type": "stream",
     "text": [
      "This program displays the population\n",
      "density of the last state to become\n",
      "part of the United States.\n",
      "\n",
      "The density of Hawaii is\n",
      "214.07 people per square mile.\n"
     ]
    }
   ],
   "source": [
    "def main():\n",
    "    describeTask()\n",
    "    calculateDensity(\"Hawaii\", 1375000, 6423)\n",
    "    \n",
    "def describeTask():\n",
    "    print(\"This program displays the population\")\n",
    "    print(\"density of the last state to become\")\n",
    "    print(\"part of the United States.\\n\")\n",
    "    \n",
    "def calculateDensity(state, pop, landArea):\n",
    "    density = pop / landArea\n",
    "    print(\"The density of\", state, \"is\")\n",
    "    print(\"{0:,.2f} people per square mile.\".format(density))\n",
    "\n",
    "main()"
   ]
  },
  {
   "cell_type": "markdown",
   "id": "edd4598c",
   "metadata": {},
   "source": [
    "## 여러 개의 값을 반환하는 함수"
   ]
  },
  {
   "cell_type": "code",
   "execution_count": 18,
   "id": "b5deac05",
   "metadata": {},
   "outputs": [
    {
     "name": "stdout",
     "output_type": "stream",
     "text": [
      "Enter the amount of the deposit: 5000\n",
      "Enter the number of years: 5\n",
      "Balance: $6,381.41 Interest Earned: $ 1,381.41\n"
     ]
    }
   ],
   "source": [
    "# 중요하다고 판단되는 변수명은 대문자로 코드 상단에 정의\n",
    "\n",
    "INTEREST_RATE = .05\n",
    "\n",
    "def main():\n",
    "    principal = eval(input(\"Enter the amount of the deposit: \"))\n",
    "    numberOfYears = eval(input(\"Enter the number of years: \"))\n",
    "    (bal, intEarned) = balanceAndInterest(principal, numberOfYears)\n",
    "    # bal, intEarned = balanceAndInterest(principal, numberOfYears)로 쓰는 것도 가능\n",
    "    print(\"Balance: ${0:,.2f} Interest Earned: ${1: ,.2f}\".format(bal, intEarned))\n",
    "def balanceAndInterest(prin, numYears):\n",
    "    balance = prin * ((1 + INTEREST_RATE)**numYears)\n",
    "    interestEarned = balance - prin\n",
    "    return (balance, interestEarned) # 튜플 형태의 값을 반환함. \n",
    "    # return balance, interestEarned로 쓰는 것도 가능\n",
    "    # 두 값을 반환하는 듯 하지만, 실제로는 두 개의 값을 가진 튜플 하나를 반환하는 것임.\n",
    "\n",
    "main()"
   ]
  },
  {
   "cell_type": "code",
   "execution_count": null,
   "id": "0aac584e",
   "metadata": {},
   "outputs": [],
   "source": []
  },
  {
   "cell_type": "code",
   "execution_count": 7,
   "id": "9e0e69c3",
   "metadata": {},
   "outputs": [],
   "source": [
    "# 예제 - 54 페이지"
   ]
  },
  {
   "cell_type": "code",
   "execution_count": null,
   "id": "5c6f24d7",
   "metadata": {},
   "outputs": [],
   "source": []
  },
  {
   "cell_type": "code",
   "execution_count": null,
   "id": "82d468ce",
   "metadata": {},
   "outputs": [],
   "source": []
  },
  {
   "cell_type": "markdown",
   "id": "3396eb86",
   "metadata": {},
   "source": [
    "## 함수 호출시 정의되는 변수 특징"
   ]
  },
  {
   "cell_type": "code",
   "execution_count": 26,
   "id": "4c3b7435",
   "metadata": {},
   "outputs": [
    {
     "name": "stdout",
     "output_type": "stream",
     "text": [
      "2: function main\n",
      "3: function trivial\n",
      "2: function main\n"
     ]
    }
   ],
   "source": [
    "# 함수 내에서 생성된 변수는 함수 안의 명령문에 의해 접근이 가능함.\n",
    "# 함수 실행이 종료된 후에는 함수 실행시 생성된 변수는 함수가 종료되는 시점에 사라짐.\n",
    "\n",
    "\n",
    "def main():\n",
    "    x = 2\n",
    "    print(str(x) + \": function main\") # 위에서 할당된 x값이 표시됨.\n",
    "    trivial() # trivial 함수에서 할당된 x값이 표시됨., 함수 종료와 동시에 할당된 값이 사라짐.\n",
    "    print(str(x) + \": function main\") # main 함수 호출시 할당된 x값이 표시됨.\n",
    "def trivial():\n",
    "    x = 3\n",
    "    print(str(x) + \": function trivial\")\n",
    "\n",
    "main()"
   ]
  },
  {
   "cell_type": "code",
   "execution_count": 12,
   "id": "3febc887",
   "metadata": {},
   "outputs": [
    {
     "name": "stdout",
     "output_type": "stream",
     "text": [
      "5 main\n",
      "1 trivial\n",
      "5 main\n"
     ]
    }
   ],
   "source": [
    "def main():\n",
    "    x = 5\n",
    "    print(x, \"main\") # 위에서 할당된 값이 표시됨.\n",
    "    trivial() # trivial 함수에서 할당된 x값이 표시됨.\n",
    "    print(x, \"main\") # main 함수에서 할당된 x값이 표시됨.\n",
    "    \n",
    "def trivial():\n",
    "    x = 1\n",
    "    print(x, \"trivial\")\n",
    "    \n",
    "main()"
   ]
  },
  {
   "cell_type": "markdown",
   "id": "2715a891",
   "metadata": {},
   "source": [
    "## 로컬변수와 글로벌 변수"
   ]
  },
  {
   "cell_type": "code",
   "execution_count": 1,
   "id": "f1a5e664",
   "metadata": {},
   "outputs": [
    {
     "name": "stdout",
     "output_type": "stream",
     "text": [
      "10\n",
      "20\n"
     ]
    }
   ],
   "source": [
    "a = 20 # 글로벌 변수\n",
    "\n",
    "def func1():\n",
    "    a = 10 # 로컬 변수\n",
    "    print(a)\n",
    "    \n",
    "def func2():\n",
    "    print(a)\n",
    "    \n",
    "func1()\n",
    "func2()"
   ]
  },
  {
   "cell_type": "code",
   "execution_count": 2,
   "id": "b2ae2b74",
   "metadata": {},
   "outputs": [
    {
     "name": "stdout",
     "output_type": "stream",
     "text": [
      "10\n",
      "10\n"
     ]
    }
   ],
   "source": [
    "a = 20 # 글로벌 변수\n",
    "\n",
    "def func1():\n",
    "    global a # 글로벌 변수 선언\n",
    "    a = 10 # 글로벌 변수 변경\n",
    "    print(a)\n",
    "\n",
    "def func2():\n",
    "    print(a) # func1에서 정의된 & 변경된 글로벌 변수값 출력\n",
    "    \n",
    "func1()\n",
    "func2()"
   ]
  },
  {
   "cell_type": "code",
   "execution_count": 3,
   "id": "aba1f2af",
   "metadata": {},
   "outputs": [
    {
     "name": "stdout",
     "output_type": "stream",
     "text": [
      "0: function main\n",
      "7: function trivial\n",
      "7: function main\n"
     ]
    }
   ],
   "source": [
    "x = 0   # 글로벌 변수 정의\n",
    "\n",
    "def main():\n",
    "    print(str(x) + \": function main\")\n",
    "    trivial()\n",
    "    print(str(x) + \": function main\")\n",
    "    \n",
    "def trivial():\n",
    "    global x   # 함수 내에서 global variable을 변경할 수 있도록 global 명령문을 사용\n",
    "    x += 7\n",
    "    print(str(x) + \": function trivial\")\n",
    "    \n",
    "main()"
   ]
  },
  {
   "cell_type": "markdown",
   "id": "85247e74",
   "metadata": {},
   "source": [
    "## 라이브러리 모듈 사용"
   ]
  },
  {
   "cell_type": "code",
   "execution_count": 35,
   "id": "95daf885",
   "metadata": {},
   "outputs": [],
   "source": [
    "import finance"
   ]
  },
  {
   "cell_type": "code",
   "execution_count": 37,
   "id": "282e6070",
   "metadata": {},
   "outputs": [
    {
     "name": "stdout",
     "output_type": "stream",
     "text": [
      "Enter the hourly wage: 90\n",
      "Enter the number of hours worked: 45\n",
      "Earnings: $4,275.00\n"
     ]
    }
   ],
   "source": [
    "hourlyWage = eval(input(\"Enter the hourly wage: \"))\n",
    "hoursWorked = eval(input(\"Enter the number of hours worked: \"))\n",
    "earnings = finance.pay(hourlyWage, hoursWorked) # finance.py 파일 내 pay 함수 사용\n",
    "print(\"Earnings: ${0:,.2f}\".format(earnings))"
   ]
  },
  {
   "cell_type": "code",
   "execution_count": 38,
   "id": "45582362",
   "metadata": {},
   "outputs": [],
   "source": [
    "import finance"
   ]
  },
  {
   "cell_type": "code",
   "execution_count": 39,
   "id": "8bcb6607",
   "metadata": {},
   "outputs": [
    {
     "name": "stdout",
     "output_type": "stream",
     "text": [
      "Enter amount deposited: 2000\n",
      "Enter annual rate of interest in decimal form: 0.05\n",
      "Enter number of times interest is compounded per year: 2\n",
      "Enter number of years: 6\n",
      "Balance after 6 years: $2,689.78\n"
     ]
    }
   ],
   "source": [
    "p = eval(input(\"Enter amount deposited: \"))\n",
    "r = eval(input(\"Enter annual rate of interest in decimal form: \"))\n",
    "m = eval(input(\"Enter number of times interest is compounded per year: \"))\n",
    "t = int(input(\"Enter number of years: \"))\n",
    "balance = finance.futureValue(p, r, m, t) # finance.py 파일 내 futureValue 함수 사용\n",
    "print(\"Balance after\", t, \"years: ${0:,.2f}\".format(balance))"
   ]
  },
  {
   "cell_type": "code",
   "execution_count": 40,
   "id": "03aec9bf",
   "metadata": {},
   "outputs": [],
   "source": [
    "from finance import pay # finance.py 파일에 있는 pay() 함수만 import 함."
   ]
  },
  {
   "cell_type": "code",
   "execution_count": 41,
   "id": "ceaa5729",
   "metadata": {},
   "outputs": [
    {
     "name": "stdout",
     "output_type": "stream",
     "text": [
      "Enter the hourly wage: 100\n",
      "Enter the number of hours worked: 40\n",
      "Earnings: $4,000.00\n"
     ]
    }
   ],
   "source": [
    "hourlyWage = eval(input(\"Enter the hourly wage: \"))\n",
    "hoursWorked = eval(input(\"Enter the number of hours worked: \"))\n",
    "earnings = pay(hourlyWage, hoursWorked)\n",
    "print(\"Earnings: ${0:,.2f}\".format(earnings))"
   ]
  },
  {
   "cell_type": "code",
   "execution_count": 42,
   "id": "1d3d3e27",
   "metadata": {},
   "outputs": [],
   "source": [
    "from finance import futureValue # finance.py 파일에 있는 futureValue() 함수만 import 함."
   ]
  },
  {
   "cell_type": "code",
   "execution_count": 43,
   "id": "275f3180",
   "metadata": {},
   "outputs": [
    {
     "name": "stdout",
     "output_type": "stream",
     "text": [
      "Enter amount deposited: 4000\n",
      "Enter annual rate of interest in decimal form: .04\n",
      "Enter number of times interest is compounded per year: 1\n",
      "Enter number of years: 5\n",
      "Balance after 5 years: $4,866.61\n"
     ]
    }
   ],
   "source": [
    "p = eval(input(\"Enter amount deposited: \"))\n",
    "r = eval(input(\"Enter annual rate of interest in decimal form: \"))\n",
    "m = eval(input(\"Enter number of times interest is compounded per year: \"))\n",
    "t = int(input(\"Enter number of years: \"))\n",
    "balance = futureValue(p, r, m, t)\n",
    "print(\"Balance after\", t, \"years: ${0:,.2f}\".format(balance))"
   ]
  },
  {
   "cell_type": "code",
   "execution_count": 27,
   "id": "77ddf62a",
   "metadata": {},
   "outputs": [],
   "source": [
    "# finance.py 내에 있는 모든 함수를 import\n",
    "from finance import *"
   ]
  },
  {
   "cell_type": "code",
   "execution_count": null,
   "id": "820d90ce",
   "metadata": {},
   "outputs": [],
   "source": []
  },
  {
   "cell_type": "code",
   "execution_count": null,
   "id": "f9d5a886",
   "metadata": {},
   "outputs": [],
   "source": []
  },
  {
   "cell_type": "markdown",
   "id": "51ff7a78",
   "metadata": {},
   "source": [
    "## 가변인자 *args"
   ]
  },
  {
   "cell_type": "code",
   "execution_count": 44,
   "id": "78edf91e",
   "metadata": {},
   "outputs": [],
   "source": [
    "def hello(*names):\n",
    "    for each in names:\n",
    "        print('안녕, {}'.format(each))"
   ]
  },
  {
   "cell_type": "code",
   "execution_count": 45,
   "id": "5bc78164",
   "metadata": {},
   "outputs": [
    {
     "name": "stdout",
     "output_type": "stream",
     "text": [
      "안녕, 나타샤\n"
     ]
    }
   ],
   "source": [
    "hello('나타샤')"
   ]
  },
  {
   "cell_type": "code",
   "execution_count": 50,
   "id": "6eab7d3a",
   "metadata": {},
   "outputs": [
    {
     "name": "stdout",
     "output_type": "stream",
     "text": [
      "안녕, 수빈\n",
      "안녕, 현수\n",
      "안녕, 지효\n"
     ]
    }
   ],
   "source": [
    "hello('수빈', '현수', '지효')"
   ]
  },
  {
   "cell_type": "code",
   "execution_count": 49,
   "id": "bd905a27",
   "metadata": {},
   "outputs": [
    {
     "name": "stdout",
     "output_type": "stream",
     "text": [
      "안녕, 수빈\n",
      "안녕, 현수\n",
      "안녕, 지효\n"
     ]
    }
   ],
   "source": [
    "hello(*('수빈', '현수', '지효'))"
   ]
  },
  {
   "cell_type": "code",
   "execution_count": 47,
   "id": "9a3867b7",
   "metadata": {},
   "outputs": [
    {
     "name": "stdout",
     "output_type": "stream",
     "text": [
      "안녕, 방탄소년단\n",
      "안녕, 여자친구\n",
      "안녕, 아이브\n",
      "안녕, 소녀시대\n"
     ]
    }
   ],
   "source": [
    "hello(*['방탄소년단', '여자친구', '아이브', '소녀시대'])"
   ]
  },
  {
   "cell_type": "markdown",
   "id": "88d4a79b",
   "metadata": {},
   "source": [
    "## 임의의 키워드 인자 **kwargs"
   ]
  },
  {
   "cell_type": "code",
   "execution_count": 51,
   "id": "5c11965b",
   "metadata": {},
   "outputs": [],
   "source": [
    "coffeeprice = {\"에스프레소\": 2500, \"아메리카노\": 2800, \"카페라테\": 3200}\n",
    "mycar = {\"brand\": \"현대\", \"model\":\"제네시스\", \"year\":2016}\n",
    "\n",
    "def mykeyprint(**kwargs):\n",
    "    for key in kwargs:\n",
    "        print(\"{}: {} \".format(key, kwargs[key]), end = ' ')\n",
    "    print()"
   ]
  },
  {
   "cell_type": "code",
   "execution_count": 52,
   "id": "6c5aa25a",
   "metadata": {},
   "outputs": [
    {
     "name": "stdout",
     "output_type": "stream",
     "text": [
      "에스프레소: 2500  아메리카노: 2800  카페라테: 3200  \n"
     ]
    }
   ],
   "source": [
    "mykeyprint(**coffeeprice)"
   ]
  },
  {
   "cell_type": "code",
   "execution_count": 53,
   "id": "515f1806",
   "metadata": {},
   "outputs": [
    {
     "name": "stdout",
     "output_type": "stream",
     "text": [
      "brand: 현대  model: 제네시스  year: 2016  \n"
     ]
    }
   ],
   "source": [
    "mykeyprint(**mycar)"
   ]
  },
  {
   "cell_type": "code",
   "execution_count": 54,
   "id": "54b9a813",
   "metadata": {},
   "outputs": [
    {
     "name": "stdout",
     "output_type": "stream",
     "text": [
      "여자친구: 6  마마무: 4  \n"
     ]
    }
   ],
   "source": [
    "mykeyprint(여자친구=6, 마마무=4)"
   ]
  },
  {
   "cell_type": "code",
   "execution_count": 55,
   "id": "89fb430b",
   "metadata": {},
   "outputs": [
    {
     "name": "stdout",
     "output_type": "stream",
     "text": [
      "엑소: 9  트와이스: 9  블랙핑크: 4  방탄소년단: 7  \n"
     ]
    }
   ],
   "source": [
    "mykeyprint(엑소=9, 트와이스=9, 블랙핑크=4, 방탄소년단=7)"
   ]
  },
  {
   "cell_type": "markdown",
   "id": "44f4fea8",
   "metadata": {},
   "source": [
    "## lambda 함수"
   ]
  },
  {
   "cell_type": "code",
   "execution_count": 56,
   "id": "9ecb4b12",
   "metadata": {},
   "outputs": [
    {
     "data": {
      "text/plain": [
       "20"
      ]
     },
     "execution_count": 56,
     "metadata": {},
     "output_type": "execute_result"
    }
   ],
   "source": [
    "(lambda x, y: x*y)(10, 2)"
   ]
  },
  {
   "cell_type": "code",
   "execution_count": 57,
   "id": "a8dad25e",
   "metadata": {},
   "outputs": [
    {
     "data": {
      "text/plain": [
       "20"
      ]
     },
     "execution_count": 57,
     "metadata": {},
     "output_type": "execute_result"
    }
   ],
   "source": [
    "mult = lambda x, y: x*y\n",
    "mult(10,2)"
   ]
  },
  {
   "cell_type": "code",
   "execution_count": 58,
   "id": "a2ac5583",
   "metadata": {},
   "outputs": [
    {
     "data": {
      "text/plain": [
       "27"
      ]
     },
     "execution_count": 58,
     "metadata": {},
     "output_type": "execute_result"
    }
   ],
   "source": [
    "(lambda x: x**3)(3)"
   ]
  },
  {
   "cell_type": "code",
   "execution_count": 60,
   "id": "6ca25a56",
   "metadata": {},
   "outputs": [
    {
     "data": {
      "text/plain": [
       "1"
      ]
     },
     "execution_count": 60,
     "metadata": {},
     "output_type": "execute_result"
    }
   ],
   "source": [
    "residual = lambda a, b: a%b\n",
    "residual(10, 3)"
   ]
  },
  {
   "cell_type": "code",
   "execution_count": 61,
   "id": "8e5a791f",
   "metadata": {},
   "outputs": [
    {
     "name": "stdout",
     "output_type": "stream",
     "text": [
      "5.0\n"
     ]
    }
   ],
   "source": [
    "div = lambda a, b: a/b\n",
    "print(div(10,2))"
   ]
  },
  {
   "cell_type": "code",
   "execution_count": 30,
   "id": "fa4e23c6",
   "metadata": {},
   "outputs": [
    {
     "data": {
      "text/plain": [
       "[6, 8, 10, 12, 14, 16, 18]"
      ]
     },
     "execution_count": 30,
     "metadata": {},
     "output_type": "execute_result"
    }
   ],
   "source": [
    "lst = [2*x for x in range(10) if x >= 3]\n",
    "lst"
   ]
  },
  {
   "cell_type": "code",
   "execution_count": 64,
   "id": "ec5cd52f",
   "metadata": {},
   "outputs": [
    {
     "data": {
      "text/plain": [
       "[0, 1, 4, 9, 16]"
      ]
     },
     "execution_count": 64,
     "metadata": {},
     "output_type": "execute_result"
    }
   ],
   "source": [
    "lst1 = [(lambda x: x**2)(x) for x in range(5)]\n",
    "lst1"
   ]
  },
  {
   "cell_type": "code",
   "execution_count": 68,
   "id": "662c5d8a",
   "metadata": {},
   "outputs": [
    {
     "data": {
      "text/plain": [
       "[36, 49, 64]"
      ]
     },
     "execution_count": 68,
     "metadata": {},
     "output_type": "execute_result"
    }
   ],
   "source": [
    "lst2 = [(lambda x: x**2)(x) for x in range(9) if x > 5]\n",
    "lst2"
   ]
  },
  {
   "cell_type": "code",
   "execution_count": null,
   "id": "018dfc57",
   "metadata": {},
   "outputs": [],
   "source": []
  },
  {
   "cell_type": "code",
   "execution_count": 8,
   "id": "4fe03417",
   "metadata": {},
   "outputs": [],
   "source": [
    "# 예제 - 59, 61 페이지"
   ]
  },
  {
   "cell_type": "code",
   "execution_count": null,
   "id": "13cddfda",
   "metadata": {},
   "outputs": [],
   "source": []
  }
 ],
 "metadata": {
  "kernelspec": {
   "display_name": "Python 3 (ipykernel)",
   "language": "python",
   "name": "python3"
  },
  "language_info": {
   "codemirror_mode": {
    "name": "ipython",
    "version": 3
   },
   "file_extension": ".py",
   "mimetype": "text/x-python",
   "name": "python",
   "nbconvert_exporter": "python",
   "pygments_lexer": "ipython3",
   "version": "3.9.13"
  }
 },
 "nbformat": 4,
 "nbformat_minor": 5
}
