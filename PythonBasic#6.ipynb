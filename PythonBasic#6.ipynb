{
 "cells": [
  {
   "cell_type": "markdown",
   "id": "4d6c5f96",
   "metadata": {},
   "source": [
    "## 클래스\n",
    "\n",
    "- 클래스는 객체를 생성하는 템플릿임.\n",
    "    - 이러한 클래스는 대상 클래스의 인스턴스인 모든 객체의 공통인 속성(attribute)과 메소드(method)를 설정함.\n",
    "       - 게임의 기사 캐릭터를 클래스로 표현한다고 할 때,\n",
    "       - 게임 캐릭터는 체력, 공격력, 주문력 등이 필요하고,\n",
    "       - 기사 캐릭터는 칼로 베기, 찌르기 등의 스킬이 있어야 함.\n",
    "       - 체력, 공격력, 주문력 등의 데이터를 클래스의 속성(attribute)이라고 하고,\n",
    "       - 베기, 찌르기 등의 기능을 메소드(method)라고 함.\n",
    "\n",
    "    - 인스턴스(instance)? 객체(object)?\n",
    "      - 인스턴스와 객체는 동일한 의미로 사용됨.\n",
    "      - 보통 객체만 지칭할 때는 그냥 객체(object)라고 부름.\n",
    "      - 하지만, 클래스와 연관지어서 말할 때는 인스턴스(instance)라고 부름.\n",
    "      - 리스트 변수 a, b가 있으면 a, b는 객체임.\n",
    "      - 그리고 a와 b는 리스트 클래스의 인스턴스임."
   ]
  },
  {
   "cell_type": "code",
   "execution_count": 13,
   "id": "66028e1a",
   "metadata": {},
   "outputs": [
    {
     "name": "stdout",
     "output_type": "stream",
     "text": [
      "<class 'str'>\n",
      "<class 'list'>\n"
     ]
    }
   ],
   "source": [
    "# Built-in Class\n",
    "\n",
    "s = \"Hello World!\"\n",
    "L = [1,2,3]\n",
    "\n",
    "print(type(s))\n",
    "print(type(L))"
   ]
  },
  {
   "cell_type": "code",
   "execution_count": 3,
   "id": "a1c2496c",
   "metadata": {},
   "outputs": [],
   "source": [
    "# 클래스 예시1\n",
    "\n",
    "class Singer:\n",
    "    \n",
    "    def __init__(self, name, debut): # 객체가 생성될 때 자동으로 호출됨.\n",
    "        self.name = name # 클래스의 속성(attribute)\n",
    "        self.debut = debut # 클래스의 속성(attribute)\n",
    "        # 변수값의 콜렉션 --> 객체의 상태(state)라고 함.\n",
    "        \n",
    "    def introduce(self):\n",
    "        print(\"안녕하세요. 가수 {}입니다.\".format(self.name))\n",
    "        \n",
    "    def age(self):\n",
    "        print(\"데뷰한지 {}년 됐네요.\".format(2023 - self.debut))"
   ]
  },
  {
   "cell_type": "code",
   "execution_count": 10,
   "id": "18530e76",
   "metadata": {},
   "outputs": [
    {
     "name": "stdout",
     "output_type": "stream",
     "text": [
      "안녕하세요. 가수 아이유입니다.\n",
      "데뷰한지 15년 됐네요.\n"
     ]
    }
   ],
   "source": [
    "iyou = Singer(\"아이유\", 2008)\n",
    "iyou.introduce() # 객체 메소드1\n",
    "iyou.age() # 객체 메소드2"
   ]
  },
  {
   "cell_type": "code",
   "execution_count": 11,
   "id": "dcf7c10a",
   "metadata": {},
   "outputs": [
    {
     "data": {
      "text/plain": [
       "'아이유'"
      ]
     },
     "execution_count": 11,
     "metadata": {},
     "output_type": "execute_result"
    }
   ],
   "source": [
    "iyou.name # 객체 속성1"
   ]
  },
  {
   "cell_type": "code",
   "execution_count": 12,
   "id": "f2e2c348",
   "metadata": {},
   "outputs": [
    {
     "data": {
      "text/plain": [
       "2008"
      ]
     },
     "execution_count": 12,
     "metadata": {},
     "output_type": "execute_result"
    }
   ],
   "source": [
    "iyou.debut # 객체 속성2"
   ]
  },
  {
   "cell_type": "code",
   "execution_count": 3,
   "id": "88829628",
   "metadata": {},
   "outputs": [],
   "source": [
    "# 클래스 예시2\n",
    "\n",
    "class Rectangle:\n",
    "    \n",
    "    def __init__(self, width = 1, height = 1): # initializer method\n",
    "        self._width = width\n",
    "        self._height = height\n",
    "        \n",
    "    def setWidth(self, width): # mutator methods, 인스턴스 변수에 신규값을 할당하는데 사용\n",
    "        self._width = width\n",
    "        \n",
    "    def setHeight(self, height): # mutator methods\n",
    "        self._height = height\n",
    "        \n",
    "    def getWidth(self): # accessor methods, 인스턴스 변수의 값을 가져오는데 사용\n",
    "        return self._width\n",
    "    \n",
    "    def getHeight(self): # accessor methods\n",
    "        return self._height\n",
    "    \n",
    "    def area(self): # other methods\n",
    "        return self._width * self._height\n",
    "    \n",
    "    def perimeter(self): # other methods\n",
    "        return 2 * (self._width + self._height)\n",
    "    \n",
    "    def __str__(self): # state-representation methods, 객체의 상태를 문자열로 표현\n",
    "        return (\"Width: \" + str(self._width) + \"\\nHeight: \" + str(self._height))"
   ]
  },
  {
   "cell_type": "code",
   "execution_count": 4,
   "id": "a629437c",
   "metadata": {},
   "outputs": [],
   "source": [
    "rec1 = Rectangle() # 객체(rec1) 생성"
   ]
  },
  {
   "cell_type": "code",
   "execution_count": 5,
   "id": "121e62ac",
   "metadata": {},
   "outputs": [
    {
     "data": {
      "text/plain": [
       "1"
      ]
     },
     "execution_count": 5,
     "metadata": {},
     "output_type": "execute_result"
    }
   ],
   "source": [
    "rec1.getWidth()"
   ]
  },
  {
   "cell_type": "code",
   "execution_count": 6,
   "id": "61db794c",
   "metadata": {},
   "outputs": [
    {
     "data": {
      "text/plain": [
       "1"
      ]
     },
     "execution_count": 6,
     "metadata": {},
     "output_type": "execute_result"
    }
   ],
   "source": [
    "rec1.getHeight()"
   ]
  },
  {
   "cell_type": "code",
   "execution_count": 7,
   "id": "ecfcb9f6",
   "metadata": {},
   "outputs": [
    {
     "data": {
      "text/plain": [
       "1"
      ]
     },
     "execution_count": 7,
     "metadata": {},
     "output_type": "execute_result"
    }
   ],
   "source": [
    "rec1.area()"
   ]
  },
  {
   "cell_type": "code",
   "execution_count": 8,
   "id": "2b376924",
   "metadata": {},
   "outputs": [
    {
     "data": {
      "text/plain": [
       "4"
      ]
     },
     "execution_count": 8,
     "metadata": {},
     "output_type": "execute_result"
    }
   ],
   "source": [
    "rec1.perimeter()"
   ]
  },
  {
   "cell_type": "code",
   "execution_count": 9,
   "id": "6c7e0c7d",
   "metadata": {},
   "outputs": [
    {
     "name": "stdout",
     "output_type": "stream",
     "text": [
      "Width: 1\n",
      "Height: 1\n"
     ]
    }
   ],
   "source": [
    "print(rec1) # __str__ 메소드 호출"
   ]
  },
  {
   "cell_type": "code",
   "execution_count": 10,
   "id": "b7cf3578",
   "metadata": {},
   "outputs": [],
   "source": [
    "rec1.setWidth(4) # 변수값 변경\n",
    "rec1.setHeight(5)"
   ]
  },
  {
   "cell_type": "code",
   "execution_count": 11,
   "id": "661e0cf4",
   "metadata": {},
   "outputs": [
    {
     "data": {
      "text/plain": [
       "20"
      ]
     },
     "execution_count": 11,
     "metadata": {},
     "output_type": "execute_result"
    }
   ],
   "source": [
    "rec1.area()"
   ]
  },
  {
   "cell_type": "code",
   "execution_count": 12,
   "id": "58123dce",
   "metadata": {},
   "outputs": [
    {
     "data": {
      "text/plain": [
       "18"
      ]
     },
     "execution_count": 12,
     "metadata": {},
     "output_type": "execute_result"
    }
   ],
   "source": [
    "rec1.perimeter()"
   ]
  },
  {
   "cell_type": "code",
   "execution_count": 13,
   "id": "24122a9b",
   "metadata": {},
   "outputs": [
    {
     "data": {
      "text/plain": [
       "4"
      ]
     },
     "execution_count": 13,
     "metadata": {},
     "output_type": "execute_result"
    }
   ],
   "source": [
    "rec1._width"
   ]
  },
  {
   "cell_type": "code",
   "execution_count": 14,
   "id": "52d1704b",
   "metadata": {},
   "outputs": [
    {
     "data": {
      "text/plain": [
       "5"
      ]
     },
     "execution_count": 14,
     "metadata": {},
     "output_type": "execute_result"
    }
   ],
   "source": [
    "rec1._height"
   ]
  },
  {
   "cell_type": "code",
   "execution_count": 1,
   "id": "e9f46b75",
   "metadata": {},
   "outputs": [],
   "source": [
    "# 클래스 예시3\n",
    "\n",
    "class Person:\n",
    "    \n",
    "    def __init__(self, name, age, address):\n",
    "        self.hello = '안녕하세요'\n",
    "        self.name = name\n",
    "        self.age = age\n",
    "        self.address = address\n",
    "        \n",
    "    def greeting(self):\n",
    "        print('{0} 저는 {1}입니다.'.format(self.hello, self.name))"
   ]
  },
  {
   "cell_type": "code",
   "execution_count": 2,
   "id": "08cec02f",
   "metadata": {},
   "outputs": [
    {
     "name": "stdout",
     "output_type": "stream",
     "text": [
      "안녕하세요 저는 마리아입니다.\n",
      "이름:  마리아\n",
      "나이:  20\n",
      "주소:  서울시 서초구 반포동\n"
     ]
    }
   ],
   "source": [
    "# maria라는 객체를 생성함.\n",
    "maria = Person(\"마리아\", 20, \"서울시 서초구 반포동\")\n",
    "\n",
    "# 객체 메소드를 호출\n",
    "maria.greeting() # 안녕하세요. 저는 마리아입니다.\n",
    "\n",
    "# 객체 속성을 호출\n",
    "print('이름: ', maria.name) #마리아\n",
    "print('나이: ', maria.age) #20\n",
    "print('주소: ', maria.address) #서울시 서초구 반포동"
   ]
  },
  {
   "cell_type": "code",
   "execution_count": 41,
   "id": "adda171e",
   "metadata": {},
   "outputs": [],
   "source": [
    "# 클래스 예시4\n",
    "\n",
    "class Circle:\n",
    "    \n",
    "    def __init__(self, radius=1):\n",
    "        self.radius = radius\n",
    "        \n",
    "    def __str__(self):\n",
    "        return \"원 반지름: {}\".format(self.radius)\n",
    "          \n",
    "    def setradius(self, radius):\n",
    "        self.radius = radius\n",
    "        \n",
    "    def getradius(self):\n",
    "        return self.radius\n",
    "    \n",
    "    def area(self):\n",
    "        return self.radius * self.radius * 3.14\n",
    "    \n",
    "    def perimeter(self):\n",
    "        return 2 * self.radius * 3.14"
   ]
  },
  {
   "cell_type": "code",
   "execution_count": 42,
   "id": "43c71cef",
   "metadata": {},
   "outputs": [],
   "source": [
    "c1 = Circle(10)"
   ]
  },
  {
   "cell_type": "code",
   "execution_count": 43,
   "id": "f8ec618e",
   "metadata": {},
   "outputs": [
    {
     "name": "stdout",
     "output_type": "stream",
     "text": [
      "원 반지름: 10\n",
      "원 면적: 314.0\n",
      "원둘레: 62.800000000000004\n",
      "원 반지름: 10\n"
     ]
    }
   ],
   "source": [
    "print(\"원 반지름: {}\".format(c1.radius))\n",
    "print(\"원 면적: {}\".format(c1.area()))\n",
    "print(\"원둘레: {}\".format(c1.perimeter()))\n",
    "print(c1)"
   ]
  },
  {
   "cell_type": "code",
   "execution_count": 44,
   "id": "a49f64cb",
   "metadata": {},
   "outputs": [
    {
     "name": "stdout",
     "output_type": "stream",
     "text": [
      "원 반지름: 10\n"
     ]
    }
   ],
   "source": [
    "print(c1)"
   ]
  },
  {
   "cell_type": "code",
   "execution_count": 46,
   "id": "0e95c53b",
   "metadata": {},
   "outputs": [
    {
     "name": "stdout",
     "output_type": "stream",
     "text": [
      "원 반지름: 5\n"
     ]
    }
   ],
   "source": [
    "c1.setradius(5)\n",
    "print(c1)"
   ]
  },
  {
   "cell_type": "code",
   "execution_count": 28,
   "id": "a1f4ba0c",
   "metadata": {},
   "outputs": [],
   "source": [
    "# 클래스 예시5\n",
    "\n",
    "class Account:\n",
    "    \n",
    "    def __init__(self, name, amount):\n",
    "        self.name = name\n",
    "        self.__balance = amount # 언더바 두 개로 시작하는 속성은 비공개 속성\n",
    "        \n",
    "    def __str__(self):\n",
    "        return \"예금주 {}, 잔고 {}\".format(self.name, self.__balance)\n",
    "    \n",
    "    def withdraw(self, amount):\n",
    "        self.__balance -= amount\n",
    "        print(\"출금 {}원 이후:\".format(amount))\n",
    "        print(\"\\t\", self)\n",
    "    \n",
    "    def deposit(self, amount):\n",
    "        self.__balance += amount\n",
    "        print(\"입금 {}원 이후:\".format(amount))\n",
    "        print(\"\\t\", self)"
   ]
  },
  {
   "cell_type": "code",
   "execution_count": 29,
   "id": "679ba36d",
   "metadata": {},
   "outputs": [
    {
     "name": "stdout",
     "output_type": "stream",
     "text": [
      "예금주 이은행, 잔고 100000\n"
     ]
    }
   ],
   "source": [
    "acc = Account(\"이은행\", 100000)\n",
    "print(acc)"
   ]
  },
  {
   "cell_type": "code",
   "execution_count": 30,
   "id": "c1d7f6b2",
   "metadata": {},
   "outputs": [
    {
     "name": "stdout",
     "output_type": "stream",
     "text": [
      "입금 5000원 이후:\n",
      "\t 예금주 이은행, 잔고 105000\n"
     ]
    }
   ],
   "source": [
    "acc.deposit(5000)"
   ]
  },
  {
   "cell_type": "code",
   "execution_count": 31,
   "id": "fe4132ad",
   "metadata": {},
   "outputs": [
    {
     "name": "stdout",
     "output_type": "stream",
     "text": [
      "출금 2000원 이후:\n",
      "\t 예금주 이은행, 잔고 103000\n"
     ]
    }
   ],
   "source": [
    "acc.withdraw(2000)"
   ]
  },
  {
   "cell_type": "code",
   "execution_count": 56,
   "id": "f25cb963",
   "metadata": {},
   "outputs": [
    {
     "ename": "AttributeError",
     "evalue": "'Account' object has no attribute '__balance'",
     "output_type": "error",
     "traceback": [
      "\u001b[0;31m---------------------------------------------------------------------------\u001b[0m",
      "\u001b[0;31mAttributeError\u001b[0m                            Traceback (most recent call last)",
      "\u001b[0;32m/var/folders/p1/rdr79fn12mq0f_psp0gk93w00000gn/T/ipykernel_12812/4024805056.py\u001b[0m in \u001b[0;36m<module>\u001b[0;34m\u001b[0m\n\u001b[0;32m----> 1\u001b[0;31m \u001b[0macc\u001b[0m\u001b[0;34m.\u001b[0m\u001b[0m__balance\u001b[0m \u001b[0;31m# 비공개 속성은 접근불가\u001b[0m\u001b[0;34m\u001b[0m\u001b[0;34m\u001b[0m\u001b[0m\n\u001b[0m",
      "\u001b[0;31mAttributeError\u001b[0m: 'Account' object has no attribute '__balance'"
     ]
    }
   ],
   "source": [
    "acc.__balance # 비공개 속성은 접근불가"
   ]
  },
  {
   "cell_type": "code",
   "execution_count": 48,
   "id": "f5bda7eb",
   "metadata": {},
   "outputs": [
    {
     "name": "stdout",
     "output_type": "stream",
     "text": [
      "예금주 이은행, 잔고 100000\n"
     ]
    }
   ],
   "source": [
    "# account.py로부터 클래스 import 가능\n",
    "\n",
    "\n",
    "import account\n",
    "\n",
    "acc = account.Account(\"이은행\", 100000) # account 모듈 내 Account 클래스 사용\n",
    "print(acc)"
   ]
  },
  {
   "cell_type": "code",
   "execution_count": 49,
   "id": "cb72414f",
   "metadata": {},
   "outputs": [
    {
     "name": "stdout",
     "output_type": "stream",
     "text": [
      "예금주 이은행, 잔고 100000\n"
     ]
    }
   ],
   "source": [
    "from account import Account # 이와같은 방식으로도  Account 클래스 사용 가능\n",
    "\n",
    "acc = Account(\"이은행\", 100000)\n",
    "print(acc)"
   ]
  },
  {
   "cell_type": "code",
   "execution_count": 53,
   "id": "3a648fb1",
   "metadata": {},
   "outputs": [
    {
     "name": "stdout",
     "output_type": "stream",
     "text": [
      "7 of hearts\n"
     ]
    }
   ],
   "source": [
    "# 클래스 예시6\n",
    "\n",
    "import random\n",
    "\n",
    "def main():\n",
    "    c = Card() # 클래스 Card의 객체 c를 생성하고 __init__ 메소드를 호출함.\n",
    "    c.selectAtRandom() # 객체 c에서 selectAtRandom 메소드를 호출함.\n",
    "    print(c) # __str__ 메소드를 호출하여 반환된 값을 표시함.\n",
    "    \n",
    "class Card:\n",
    "    def __init__(self, rank = \"\", suit = \"\"):\n",
    "        self._rank = rank\n",
    "        self._suit = suit\n",
    "        \n",
    "    def selectAtRandom(self):\n",
    "        ranks = ['2', '3', '4', '5', '6', '7', '8', '9',\n",
    "                '10', 'jack', 'queen', 'king', 'ace']\n",
    "        self._rank = random.choice(ranks)\n",
    "        self._suit = random.choice([\"spades\", \"hearts\", \"clubs\", \"diamonds\"])\n",
    "        \n",
    "    def __str__(self):\n",
    "        return (self._rank + \" of \" + self._suit)\n",
    "    \n",
    "main() "
   ]
  },
  {
   "cell_type": "code",
   "execution_count": 59,
   "id": "de848024",
   "metadata": {},
   "outputs": [
    {
     "name": "stdout",
     "output_type": "stream",
     "text": [
      "Enter student's name: Hun Park\n",
      "Enter student's grade on midterm exam: 90\n",
      "Enter student's grade on final exam: 95\n",
      "\n",
      "NAME\tGRADE\n",
      "Hun Park\tA\n"
     ]
    }
   ],
   "source": [
    "# 클래스 예시7\n",
    "\n",
    "def main():\n",
    "    # 학생의 학기 학점을 계산하고 표시함.\n",
    "    # 학생이름, 중간고사 성적, 기말고사 성적을 가져옴.\n",
    "    name = input(\"Enter student's name: \")\n",
    "    midterm = float(input(\"Enter student's grade on midterm exam: \"))\n",
    "    final = float(input(\"Enter student's grade on final exam: \"))\n",
    "    # LG학생 객체의 인스턴스를 생성함.\n",
    "    st = LGstudent(name, midterm, final)\n",
    "    print(\"\\nNAME\\tGRADE\")\n",
    "    # 학생의 이름과 학기 성적을 표시함.\n",
    "    print(st)\n",
    "    \n",
    "class LGstudent:\n",
    "    def __init__(self, name=\"\", midterm=0, final=0):\n",
    "        self._name = name\n",
    "        self._midterm = midterm\n",
    "        self._final = final\n",
    "        \n",
    "    def setName(self, name):\n",
    "        self._name = name\n",
    "        \n",
    "    def setMidterm(self, midterm):\n",
    "        self._midterm = midterm\n",
    "        \n",
    "    def setFinal(self, final):\n",
    "        self._final = final\n",
    "        \n",
    "    def calcSemGrade(self):\n",
    "        average = (self._midterm + self._final) / 2\n",
    "        average = round(average)\n",
    "        if average >= 90:\n",
    "            return \"A\"\n",
    "        elif average >= 80:\n",
    "            return \"B\"\n",
    "        elif average >= 70:\n",
    "            return \"C\"\n",
    "        elif average >= 60:\n",
    "            return \"D\"\n",
    "        else:\n",
    "            return \"F\"\n",
    "        \n",
    "    def __str__(self):\n",
    "        return self._name + \"\\t\" + self.calcSemGrade()\n",
    "    \n",
    "main()"
   ]
  },
  {
   "cell_type": "code",
   "execution_count": 62,
   "id": "1dcc175f",
   "metadata": {},
   "outputs": [
    {
     "name": "stdout",
     "output_type": "stream",
     "text": [
      "Enter student's name: Hun Park\n",
      "Enter student's grade on midterm exam: 98\n",
      "Enter student's grade on final exam: 99\n",
      "Do you want to continue (Y/N)?y\n",
      "Enter student's name: Jun Park\n",
      "Enter student's grade on midterm exam: 99\n",
      "Enter student's grade on final exam: 99\n",
      "Do you want to continue (Y/N)?n\n",
      "\n",
      "NAME\tGRADE\n",
      "Hun Park\tA\n",
      "Jun Park\tA\n"
     ]
    }
   ],
   "source": [
    "# 클래스 예시8\n",
    "\n",
    "import lgStudent # 클래스 LGstudent가 파일 lgStudent.py에 저장되어 있는 경우\n",
    "\n",
    "def main():\n",
    "    listOfStudents = []\n",
    "    carryOn = 'Y'\n",
    "    while carryOn == 'Y':\n",
    "        st = lgStudent.LGstudent()\n",
    "        # 중간고사와 기말고사에 대한 학생이름, 성적을 가져옴.\n",
    "        name = input(\"Enter student's name: \")\n",
    "        midterm = float(input(\"Enter student's grade on midterm exam: \"))\n",
    "        final = float(input(\"Enter student's grade on final exam: \"))\n",
    "        # 클래스 LGstudent의 객체 st를 생성함.\n",
    "        st = lgStudent.LGstudent(name, midterm, final)\n",
    "        listOfStudents.append(st) # 빈 리스트에 객체 st를 추가함.\n",
    "        carryOn = input(\"Do you want to continue (Y/N)?\")\n",
    "        carryOn = carryOn.upper()\n",
    "    print(\"\\nNAME\\tGRADE\")\n",
    "    # 학생, 이름, 학기 성적을 표시함.\n",
    "    for pupil in listOfStudents:\n",
    "        print(pupil)\n",
    "        \n",
    "main()"
   ]
  },
  {
   "cell_type": "markdown",
   "id": "440e8f42",
   "metadata": {},
   "source": [
    "## 클래스 상속[optional]"
   ]
  },
  {
   "cell_type": "code",
   "execution_count": 1,
   "id": "423e9b95",
   "metadata": {},
   "outputs": [],
   "source": [
    "# 예시1, 두 개의 subclass 생성\n",
    "\n",
    "# 다음 클래스 정의에서 class LGstudent(Student)와 class PFstudent(Student)는 LG student와 PFstudent가\n",
    "# parent class의 subclass가 되도록 정의하며 Student 클래스의 모든 속성과 메소드를 상속함.\n",
    "# 클래스 PFstudent에서 학생은 학기 성적으로 Pass/Fail을 받음.\n",
    "\n",
    "class Student:\n",
    "    def __init__(self, name=\"\", midterm=0, final=0):\n",
    "        self._name = name\n",
    "        self._midterm = midterm\n",
    "        self._final = final\n",
    "        \n",
    "    def setName(self, name):\n",
    "        self._name = name\n",
    "        \n",
    "    def setMidterm(self, midterm):\n",
    "        self._midterm = midterm\n",
    "        \n",
    "    def setFinal(self, final):\n",
    "        self._final = final\n",
    "    \n",
    "    def getName(self):\n",
    "        return self._name\n",
    "    \n",
    "    def __str__(self):\n",
    "        return self._name + \"\\t\" + self.calcSemGrade()\n",
    "\n",
    "# subclass #1\n",
    "    \n",
    "class LGstudent(Student):\n",
    "    \n",
    "    def calcSemGrade(self):\n",
    "        average = round((self._midterm + self._final) / 2)\n",
    "        if average >= 90:\n",
    "            return \"A\"\n",
    "        elif average >= 80:\n",
    "            return \"B\"\n",
    "        elif average >= 70:\n",
    "            return \"C\"\n",
    "        elif average >= 60:\n",
    "            return \"D\"\n",
    "        else:\n",
    "            return \"F\"\n",
    "    \n",
    "# subclass #2\n",
    "    \n",
    "class PFstudent(Student):\n",
    "    def calcSemGrade(self):\n",
    "        average = round((self._midterm + self._final) / 2)\n",
    "        if average >= 60:\n",
    "            return \"Pass\"\n",
    "        else:\n",
    "            return \"Fail\""
   ]
  },
  {
   "cell_type": "code",
   "execution_count": 2,
   "id": "22df946d",
   "metadata": {},
   "outputs": [],
   "source": [
    "student1 = LGstudent(\"Hun Park\", 90, 80)"
   ]
  },
  {
   "cell_type": "code",
   "execution_count": 3,
   "id": "39c24b72",
   "metadata": {},
   "outputs": [],
   "source": [
    "student1.setFinal = 85"
   ]
  },
  {
   "cell_type": "code",
   "execution_count": 4,
   "id": "d913c125",
   "metadata": {},
   "outputs": [
    {
     "name": "stdout",
     "output_type": "stream",
     "text": [
      "Hun Park\tB\n"
     ]
    }
   ],
   "source": [
    "print(student1)"
   ]
  },
  {
   "cell_type": "code",
   "execution_count": 6,
   "id": "ead6d2c2",
   "metadata": {},
   "outputs": [
    {
     "data": {
      "text/plain": [
       "'B'"
      ]
     },
     "execution_count": 6,
     "metadata": {},
     "output_type": "execute_result"
    }
   ],
   "source": [
    "student1.calcSemGrade()"
   ]
  },
  {
   "cell_type": "code",
   "execution_count": 7,
   "id": "3dfaa516",
   "metadata": {},
   "outputs": [
    {
     "data": {
      "text/plain": [
       "'Pass'"
      ]
     },
     "execution_count": 7,
     "metadata": {},
     "output_type": "execute_result"
    }
   ],
   "source": [
    "student2 = PFstudent(\"Jun Park\", 55, 90)\n",
    "student2.calcSemGrade()"
   ]
  },
  {
   "cell_type": "code",
   "execution_count": null,
   "id": "3ab009d8",
   "metadata": {},
   "outputs": [],
   "source": [
    "# 예시2\n",
    "\n",
    "# 다음 클래스 정의는 신규 파라미터를 클래스 PFstudent에 추가하였음.\n",
    "# pass-fail 학생은 전일제 혹은 시간제로 등록할 수 있음.\n",
    "# 신규 파라미터 fullTime은 전일제의 경우 True, 시간제일 경우 False값을 갖음.\n",
    "\n",
    "\n",
    "class Student:\n",
    "    def __init__(self, name=\"\", midterm=0, final=0):\n",
    "        self._name = name\n",
    "        self._midterm = midterm\n",
    "        self._final = final\n",
    "        \n",
    "    def setName(self, name):\n",
    "        self._name = name\n",
    "        \n",
    "    def setMidterm(self, midterm):\n",
    "        self._midterm = midterm\n",
    "        \n",
    "    def setFinal(self, final):\n",
    "        self._final = final\n",
    "    \n",
    "    def getName(self):\n",
    "        return self._name\n",
    "    \n",
    "    def __str__(self):\n",
    "        return self._name + \"\\t\" + self.calcSemGrade()\n",
    "\n",
    "\n",
    "\n",
    "class PFstudent(Student):\n",
    "    def __init__(self, name=\"\", midterm=0, final=0, fullTime=True):\n",
    "        super().__init__(name, midterm, final) # parent class 파라미터 가져오기\n",
    "        self._fullTime = fullTime\n",
    "        \n",
    "    def setFullTime(self, fullTime):\n",
    "        self._fullTime = fullTime\n",
    "        \n",
    "    def getFullTime(self):\n",
    "        return self._fullTime\n",
    "    \n",
    "    def calcSemGrade(self):\n",
    "        average = round((self._midterm + self._final) / 2)\n",
    "        if average >= 60:\n",
    "            return \"Pass\"\n",
    "        else:\n",
    "            return \"Fail\"\n",
    "        \n",
    "    def __str__(self): # 메소드 수정\n",
    "        if self._fullTime:\n",
    "            status = \"Full-time student\"\n",
    "        else:\n",
    "            status = \"Part-time student\"\n",
    "        return (self._name + \"\\t\" + self.calcSemGrade() + \"\\t\" + status)"
   ]
  },
  {
   "cell_type": "code",
   "execution_count": null,
   "id": "e64b87bc",
   "metadata": {},
   "outputs": [],
   "source": [
    "# 예시3, 기존 클래스의 메소드를 수정\n",
    "\n",
    "class LGstudent:\n",
    "    def __init__(self, name=\"\", midterm=0, final=0):\n",
    "        self._name = name\n",
    "        self._midterm = midterm\n",
    "        self._final = final\n",
    "    def setName(self, name):\n",
    "        self._name = name\n",
    "    def setMidterm(self, midterm):\n",
    "        self._midterm = midterm\n",
    "    def setFinal(self, final):\n",
    "        self._final = final\n",
    "    def getName(self):\n",
    "        return self._name\n",
    "    def calcSemGrade(self):\n",
    "        average = round((self._midterm + self._final) / 2)\n",
    "        if average >= 90:\n",
    "            return \"A\"\n",
    "        elif average >= 80:\n",
    "            return \"B\"\n",
    "        elif average >= 70:\n",
    "            return \"C\"\n",
    "        elif average >= 60:\n",
    "            return \"D\"\n",
    "        else:\n",
    "            return \"F\"\n",
    "        \n",
    "    def __str__(self):\n",
    "        return self._name + \"\\t\" + self.calcSemGrade()\n",
    "    \n",
    "class PFstudent(LGstudent):\n",
    "    \n",
    "    # LGstudent에 있는 메소드를 아래와 같이 변경함.\n",
    "    def calcSemGrade(self):\n",
    "        average = round((self._midterm + self._final) / 2)\n",
    "        if average >= 60:\n",
    "            return \"Pass\"\n",
    "        else:\n",
    "            return \"Fail\""
   ]
  },
  {
   "cell_type": "code",
   "execution_count": 8,
   "id": "c5a74f67",
   "metadata": {},
   "outputs": [],
   "source": [
    "# 클래스 예제1\n",
    "\n",
    "class Cylinder:\n",
    "    \n",
    "    def __init__(self, radius, height):\n",
    "        self.radius = radius\n",
    "        self.height = height\n",
    "        \n",
    "    def area(self):\n",
    "        return 2*3.14*(self.radius**2) + 2*3.14*self.radius*self.height\n",
    "    \n",
    "    def volume(self):\n",
    "        return 3.14*(self.radius**2)*self.height\n",
    "    \n",
    "    def __str__(self):\n",
    "        return \"원기둥의 넓이는 {}이고, 부피는 {}입니다.\".format(self.area(), self.volume())"
   ]
  },
  {
   "cell_type": "code",
   "execution_count": 9,
   "id": "f9546c5c",
   "metadata": {},
   "outputs": [],
   "source": [
    "cyl = Cylinder(2,3)"
   ]
  },
  {
   "cell_type": "code",
   "execution_count": 10,
   "id": "fb859b82",
   "metadata": {},
   "outputs": [
    {
     "name": "stdout",
     "output_type": "stream",
     "text": [
      "원기둥의 넓이는 62.8이고, 부피는 37.68입니다.\n"
     ]
    }
   ],
   "source": [
    "print(cyl)"
   ]
  },
  {
   "cell_type": "code",
   "execution_count": 11,
   "id": "9e280b48",
   "metadata": {},
   "outputs": [],
   "source": [
    "# 클래스 예제2\n",
    "\n",
    "class Sphere:\n",
    "    \n",
    "    def __init__(self, radius):\n",
    "        self.radius = radius\n",
    "        \n",
    "    def area(self):\n",
    "        return 4*3.14*(self.radius)**2\n",
    "    \n",
    "    def volume(self):\n",
    "        return 4/3*3.14*(self.radius)**3\n",
    "    \n",
    "    def __str__(self):\n",
    "        return \"구의 넓이는 {}이고, 부피는 {}입니다.\".format(self.area(), self.volume())"
   ]
  },
  {
   "cell_type": "code",
   "execution_count": 12,
   "id": "35025204",
   "metadata": {},
   "outputs": [],
   "source": [
    "sp1 = Sphere(5)"
   ]
  },
  {
   "cell_type": "code",
   "execution_count": 13,
   "id": "b730c733",
   "metadata": {},
   "outputs": [
    {
     "name": "stdout",
     "output_type": "stream",
     "text": [
      "구의 넓이는 314.0이고, 부피는 523.3333333333334입니다.\n"
     ]
    }
   ],
   "source": [
    "print(sp1)"
   ]
  },
  {
   "cell_type": "code",
   "execution_count": 14,
   "id": "68ba83e9",
   "metadata": {},
   "outputs": [],
   "source": [
    "# 클래스 예제3\n",
    "\n",
    "class NewCylinder(Cylinder):\n",
    "    def sidearea(self):\n",
    "        return 2*3.14*self.radius*self.height"
   ]
  },
  {
   "cell_type": "code",
   "execution_count": 15,
   "id": "92f16fae",
   "metadata": {},
   "outputs": [],
   "source": [
    "cyl = NewCylinder(3,4)"
   ]
  },
  {
   "cell_type": "code",
   "execution_count": 16,
   "id": "4bc7db84",
   "metadata": {},
   "outputs": [
    {
     "name": "stdout",
     "output_type": "stream",
     "text": [
      "원기둥의 넓이는 131.88이고, 부피는 113.04입니다.\n"
     ]
    }
   ],
   "source": [
    "print(cyl)"
   ]
  },
  {
   "cell_type": "code",
   "execution_count": 17,
   "id": "47b440dc",
   "metadata": {},
   "outputs": [
    {
     "data": {
      "text/plain": [
       "75.36"
      ]
     },
     "execution_count": 17,
     "metadata": {},
     "output_type": "execute_result"
    }
   ],
   "source": [
    "cyl.sidearea()"
   ]
  },
  {
   "cell_type": "code",
   "execution_count": null,
   "id": "19926f59",
   "metadata": {},
   "outputs": [],
   "source": []
  }
 ],
 "metadata": {
  "kernelspec": {
   "display_name": "Python 3 (ipykernel)",
   "language": "python",
   "name": "python3"
  },
  "language_info": {
   "codemirror_mode": {
    "name": "ipython",
    "version": 3
   },
   "file_extension": ".py",
   "mimetype": "text/x-python",
   "name": "python",
   "nbconvert_exporter": "python",
   "pygments_lexer": "ipython3",
   "version": "3.9.13"
  }
 },
 "nbformat": 4,
 "nbformat_minor": 5
}
