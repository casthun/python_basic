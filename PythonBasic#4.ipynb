{
 "cells": [
  {
   "cell_type": "markdown",
   "id": "e5779255",
   "metadata": {},
   "source": [
    "## if 문"
   ]
  },
  {
   "cell_type": "code",
   "execution_count": 77,
   "id": "b01fc597",
   "metadata": {},
   "outputs": [
    {
     "name": "stdout",
     "output_type": "stream",
     "text": [
      "Less than ten.\n"
     ]
    }
   ],
   "source": [
    "num = 5\n",
    "if num <= 9:\n",
    "    print(\"Less than ten.\")\n",
    "elif num == 10:\n",
    "    print(\"Equal to ten.\")"
   ]
  },
  {
   "cell_type": "code",
   "execution_count": 81,
   "id": "59e3a956",
   "metadata": {},
   "outputs": [
    {
     "name": "stdout",
     "output_type": "stream",
     "text": [
      "Student\n"
     ]
    }
   ],
   "source": [
    "gpa = 3.2\n",
    "result = \"\"\n",
    "if gpa >= 3.5:\n",
    "    result = \"Honors \"\n",
    "print(result + \"Student\")"
   ]
  },
  {
   "cell_type": "code",
   "execution_count": 3,
   "id": "0de3d585",
   "metadata": {},
   "outputs": [
    {
     "name": "stdout",
     "output_type": "stream",
     "text": [
      "Enter the first number: 4.4\n",
      "Enter the second number: 4.5\n",
      "The larger value is 4.5.\n"
     ]
    }
   ],
   "source": [
    "num1 = eval(input(\"Enter the first number: \"))\n",
    "num2 = eval(input(\"Enter the second number: \"))\n",
    "\n",
    "if num1 > num2:\n",
    "    largerValue = num1\n",
    "else:\n",
    "    largerValue = num2\n",
    "    \n",
    "print(\"The larger value is\", str(largerValue) + \".\")"
   ]
  },
  {
   "cell_type": "code",
   "execution_count": 5,
   "id": "bf0c3b17",
   "metadata": {},
   "outputs": [
    {
     "name": "stdout",
     "output_type": "stream",
     "text": [
      "Enter total costs($): 3000\n",
      "Enter total revenue($): 5000\n",
      "Profit is $2000\n"
     ]
    }
   ],
   "source": [
    "costs = eval(input(\"Enter total costs($): \"))\n",
    "revenue = eval(input(\"Enter total revenue($): \"))\n",
    "\n",
    "if costs == revenue:\n",
    "    result = \"Break even.\"\n",
    "else:\n",
    "    if costs < revenue:\n",
    "        profit = revenue - costs\n",
    "        result = \"Profit is ${}\".format(profit)\n",
    "    else:\n",
    "        loss = costs - revenue\n",
    "        result = \"Loss is ${}\".format(loss)\n",
    "\n",
    "print(result)"
   ]
  },
  {
   "cell_type": "code",
   "execution_count": 7,
   "id": "17ab1fac",
   "metadata": {},
   "outputs": [
    {
     "name": "stdout",
     "output_type": "stream",
     "text": [
      "Enter the first number: 4\n",
      "Enter the second number: 5\n",
      "The lager value is 5.\n"
     ]
    }
   ],
   "source": [
    "num1 = eval(input(\"Enter the first number: \"))\n",
    "num2 = eval(input(\"Enter the second number: \"))\n",
    "\n",
    "if num1 > num2:\n",
    "    print(\"The larger value is\", str(num1)+\".\")\n",
    "elif num2 > num1:\n",
    "    print(\"The lager value is\", str(num2)+\".\")\n",
    "else:\n",
    "    print(\"The two values are equal.\")"
   ]
  },
  {
   "cell_type": "code",
   "execution_count": 8,
   "id": "ea0c182f",
   "metadata": {},
   "outputs": [
    {
     "name": "stdout",
     "output_type": "stream",
     "text": [
      "Enter you gpa: 3.7\n",
      "You graduated magna cum laude.\n"
     ]
    }
   ],
   "source": [
    "gpa = eval(input(\"Enter you gpa: \"))\n",
    "\n",
    "if gpa >= 3.9:\n",
    "    honors = \" summa cum laude.\"\n",
    "elif gpa >= 3.6:\n",
    "    honors = \" magna cum laude.\"\n",
    "elif gpa >= 3.3:\n",
    "    honors = \" cum laude.\"\n",
    "else:\n",
    "    honors = \".\"\n",
    "    \n",
    "print(\"You graduated\" + honors)"
   ]
  },
  {
   "cell_type": "code",
   "execution_count": 11,
   "id": "d7c6da0f",
   "metadata": {},
   "outputs": [
    {
     "name": "stdout",
     "output_type": "stream",
     "text": [
      "Enter the first number: a\n",
      "Enter the second number: b\n",
      "Neither entry was a proper number.\n"
     ]
    }
   ],
   "source": [
    "num1 = input(\"Enter the first number: \")\n",
    "num2 = input(\"Enter the second number: \")\n",
    "\n",
    "if num1.isdigit() and num2.isdigit():\n",
    "    print(\"The sum is\", str(eval(num1)+eval(num2))+\".\")\n",
    "elif not num1.isdigit():\n",
    "    if not num2.isdigit():\n",
    "        print(\"Neither entry was a proper number.\")\n",
    "    else:\n",
    "        print(\"The first entry was not a proper number.\")\n",
    "else:\n",
    "    print(\"The second entry was not a proper number.\")"
   ]
  },
  {
   "cell_type": "code",
   "execution_count": 12,
   "id": "690c3f1e",
   "metadata": {},
   "outputs": [
    {
     "name": "stdout",
     "output_type": "stream",
     "text": [
      "A nonzero number is true.\n",
      "An empty list is false.\n",
      "A nonempty list is true.\n"
     ]
    }
   ],
   "source": [
    "if 7:\n",
    "    print(\"A nonzero number is true.\")\n",
    "else:\n",
    "    print(\"The number zero is false.\")\n",
    "    \n",
    "if []:\n",
    "    print(\"A nonempty list is true.\")\n",
    "else:\n",
    "    print(\"An empty list is false.\")\n",
    "    \n",
    "if [\"spam\"]:\n",
    "    print(\"A nonempty list is true.\")\n",
    "else:\n",
    "    print(\"The empty list is false.\")"
   ]
  },
  {
   "cell_type": "code",
   "execution_count": 19,
   "id": "dcbb9ae7",
   "metadata": {},
   "outputs": [
    {
     "name": "stdout",
     "output_type": "stream",
     "text": [
      "숫자를 입력하세요: 30\n",
      "2\n",
      "3\n",
      "5\n",
      "7\n",
      "11\n",
      "13\n",
      "17\n",
      "19\n",
      "23\n",
      "29\n"
     ]
    }
   ],
   "source": [
    "# if - 예제3\n",
    "\n",
    "num1 = eval(input(\"숫자를 입력하세요: \"))\n",
    "\n",
    "for i in range(1, num1+1):\n",
    "    count = 0\n",
    "    for j in range(1, i+1):\n",
    "        if i%j == 0:\n",
    "            count += 1\n",
    "    if count == 2:\n",
    "        print(i)"
   ]
  },
  {
   "cell_type": "markdown",
   "id": "27d80ac8",
   "metadata": {},
   "source": [
    "## while 문"
   ]
  },
  {
   "cell_type": "code",
   "execution_count": 23,
   "id": "32b3f757",
   "metadata": {},
   "outputs": [
    {
     "name": "stdout",
     "output_type": "stream",
     "text": [
      "1\n",
      "2\n",
      "3\n",
      "4\n",
      "5\n"
     ]
    }
   ],
   "source": [
    "num = 1\n",
    "while num <= 5:\n",
    "    print(num)\n",
    "    num += 1"
   ]
  },
  {
   "cell_type": "code",
   "execution_count": 24,
   "id": "19f3ad42",
   "metadata": {},
   "outputs": [
    {
     "name": "stdout",
     "output_type": "stream",
     "text": [
      "20\n"
     ]
    }
   ],
   "source": [
    "num = 5\n",
    "while True:\n",
    "    num = 2*num\n",
    "    if num % 4 == 0:\n",
    "        break\n",
    "print(num)"
   ]
  },
  {
   "cell_type": "code",
   "execution_count": 32,
   "id": "f6ca9551",
   "metadata": {},
   "outputs": [
    {
     "name": "stdout",
     "output_type": "stream",
     "text": [
      "55\n"
     ]
    }
   ],
   "source": [
    "total = 0\n",
    "num = 1\n",
    "\n",
    "while True:\n",
    "    total += num\n",
    "    num += 1\n",
    "    if num == 11:\n",
    "        break\n",
    "\n",
    "print(total)"
   ]
  },
  {
   "cell_type": "code",
   "execution_count": 25,
   "id": "6b7ee62e",
   "metadata": {},
   "outputs": [
    {
     "name": "stdout",
     "output_type": "stream",
     "text": [
      "18\n"
     ]
    }
   ],
   "source": [
    "num = 3\n",
    "while num < 15:\n",
    "    num += 5\n",
    "print(num)"
   ]
  },
  {
   "cell_type": "code",
   "execution_count": 26,
   "id": "b864226b",
   "metadata": {},
   "outputs": [
    {
     "name": "stdout",
     "output_type": "stream",
     "text": [
      "55\n"
     ]
    }
   ],
   "source": [
    "total = 0\n",
    "num = 1\n",
    "\n",
    "while num <= 10:\n",
    "    total += num\n",
    "    num += 1\n",
    "print(total)"
   ]
  },
  {
   "cell_type": "code",
   "execution_count": 27,
   "id": "38fb721a",
   "metadata": {},
   "outputs": [
    {
     "name": "stdout",
     "output_type": "stream",
     "text": [
      "20\n"
     ]
    }
   ],
   "source": [
    "list1 = [2,4,6,8]\n",
    "total = 0\n",
    "while list1:\n",
    "    total += list1[0]\n",
    "    list1 = list1[1:]\n",
    "print(total)"
   ]
  },
  {
   "cell_type": "code",
   "execution_count": 29,
   "id": "f45ed903",
   "metadata": {},
   "outputs": [
    {
     "name": "stdout",
     "output_type": "stream",
     "text": [
      "(Enter -1 to terminate entering numbers.)\n",
      "Enter a nonnegative number: 3\n",
      "Enter a nonnegative number: 7\n",
      "Enter a nonnegative number: 5\n",
      "Enter a nonnegative number: 6\n",
      "Enter a nonnegative number: 7\n",
      "Enter a nonnegative number: -1\n",
      "Minimum:  3\n",
      "Maximum:  7\n",
      "Average:  5.6\n"
     ]
    }
   ],
   "source": [
    "count = 0\n",
    "total = 0\n",
    "\n",
    "print(\"(Enter -1 to terminate entering numbers.)\")\n",
    "num = eval(input(\"Enter a nonnegative number: \"))\n",
    "\n",
    "min = num\n",
    "max = num\n",
    "\n",
    "while num != -1:\n",
    "    count += 1\n",
    "    total += num\n",
    "    if num < min:\n",
    "        min = num\n",
    "    if num > max:\n",
    "        max = num\n",
    "    num = eval(input(\"Enter a nonnegative number: \"))\n",
    "    \n",
    "if count > 0:\n",
    "    print(\"Minimum: \", min)\n",
    "    print(\"Maximum: \", max)\n",
    "    print(\"Average: \", total/count)\n",
    "else:\n",
    "    print(\"No nonnegative numbers were entered.\")"
   ]
  },
  {
   "cell_type": "code",
   "execution_count": 33,
   "id": "ccd60a62",
   "metadata": {},
   "outputs": [
    {
     "name": "stdout",
     "output_type": "stream",
     "text": [
      "33 is the first int that is divisible by 11.\n"
     ]
    }
   ],
   "source": [
    "list1 = [\"one\", 23, 17.5, 'two', 33, 22.1, 242, \"three\"]\n",
    "i = 0\n",
    "foundFlag = False\n",
    "\n",
    "while i < len(list1):\n",
    "    x = list1[i]\n",
    "    i += 1\n",
    "    if not isinstance(x, int): \n",
    "        continue # x가 정수가 아닌 경우 리스트 다음 항목으로 이동\n",
    "    if x % 11 == 0:\n",
    "        foundFlag = True\n",
    "        print(x, \"is the first int that is divisible by 11.\")\n",
    "        break\n",
    "if not foundFlag:\n",
    "    print(\"There is no int in the list that is divisible by 11.\")"
   ]
  },
  {
   "cell_type": "code",
   "execution_count": 34,
   "id": "3e16364c",
   "metadata": {},
   "outputs": [
    {
     "name": "stdout",
     "output_type": "stream",
     "text": [
      "Enter a number from the menu to obtain a fact\n",
      "about the US or to exit the program.\n",
      "\n",
      "1. Capital\n",
      "2. National Bird\n",
      "3. National Flower\n",
      "4. Quit\n",
      "\n",
      "Make a selection from the menu: 1\n",
      "Washington, DC is the capital of US.\n",
      "Make a selection from the menu: 2\n",
      "The American Bald Eagle is the national bird.\n",
      "Make a selection from the menu: 3\n",
      "The Rose is the national flower.\n",
      "Make a selection from the menu: 4\n"
     ]
    }
   ],
   "source": [
    "print(\"Enter a number from the menu to obtain a fact\")\n",
    "print(\"about the US or to exit the program.\\n\")\n",
    "print(\"1. Capital\")\n",
    "print(\"2. National Bird\")\n",
    "print(\"3. National Flower\")\n",
    "print(\"4. Quit\\n\")\n",
    "\n",
    "while True:\n",
    "    num = int(input(\"Make a selection from the menu: \"))\n",
    "    if num == 1:\n",
    "        print(\"Washington, DC is the capital of US.\")\n",
    "    elif num == 2:\n",
    "        print(\"The American Bald Eagle is the national bird.\")\n",
    "    elif num == 3:\n",
    "        print(\"The Rose is the national flower.\")\n",
    "    elif num == 4:\n",
    "        break"
   ]
  },
  {
   "cell_type": "code",
   "execution_count": 35,
   "id": "02a1e23a",
   "metadata": {},
   "outputs": [
    {
     "name": "stdout",
     "output_type": "stream",
     "text": [
      "(Enter -1 to terminate entering numbers.)\n",
      "Enter a number to square: 3\n",
      "9\n",
      "Enter a number to square: 4\n",
      "16\n",
      "Enter a number to square: 3\n",
      "9\n",
      "Enter a number to square: 2\n",
      "4\n",
      "Enter a number to square: -1\n",
      "1\n"
     ]
    },
    {
     "ename": "KeyboardInterrupt",
     "evalue": "Interrupted by user",
     "output_type": "error",
     "traceback": [
      "\u001b[0;31m---------------------------------------------------------------------------\u001b[0m",
      "\u001b[0;31mKeyboardInterrupt\u001b[0m                         Traceback (most recent call last)",
      "\u001b[0;32m/var/folders/p1/rdr79fn12mq0f_psp0gk93w00000gn/T/ipykernel_80438/808719813.py\u001b[0m in \u001b[0;36m<module>\u001b[0;34m\u001b[0m\n\u001b[1;32m      2\u001b[0m \u001b[0mnumber\u001b[0m \u001b[0;34m=\u001b[0m \u001b[0;36m0\u001b[0m\u001b[0;34m\u001b[0m\u001b[0;34m\u001b[0m\u001b[0m\n\u001b[1;32m      3\u001b[0m \u001b[0;32mwhile\u001b[0m \u001b[0mnumber\u001b[0m \u001b[0;34m>=\u001b[0m \u001b[0;36m0\u001b[0m\u001b[0;34m:\u001b[0m\u001b[0;34m\u001b[0m\u001b[0;34m\u001b[0m\u001b[0m\n\u001b[0;32m----> 4\u001b[0;31m     \u001b[0mnumber\u001b[0m \u001b[0;34m=\u001b[0m \u001b[0meval\u001b[0m\u001b[0;34m(\u001b[0m\u001b[0minput\u001b[0m\u001b[0;34m(\u001b[0m\u001b[0;34m\"Enter a number to square: \"\u001b[0m\u001b[0;34m)\u001b[0m\u001b[0;34m)\u001b[0m\u001b[0;34m\u001b[0m\u001b[0;34m\u001b[0m\u001b[0m\n\u001b[0m\u001b[1;32m      5\u001b[0m     \u001b[0mnumber\u001b[0m \u001b[0;34m=\u001b[0m \u001b[0mnumber\u001b[0m\u001b[0;34m*\u001b[0m\u001b[0mnumber\u001b[0m\u001b[0;34m\u001b[0m\u001b[0;34m\u001b[0m\u001b[0m\n\u001b[1;32m      6\u001b[0m     \u001b[0mprint\u001b[0m\u001b[0;34m(\u001b[0m\u001b[0mnumber\u001b[0m\u001b[0;34m)\u001b[0m\u001b[0;34m\u001b[0m\u001b[0;34m\u001b[0m\u001b[0m\n",
      "\u001b[0;32m~/opt/anaconda3/lib/python3.9/site-packages/ipykernel/kernelbase.py\u001b[0m in \u001b[0;36mraw_input\u001b[0;34m(self, prompt)\u001b[0m\n\u001b[1;32m   1175\u001b[0m                 \u001b[0;34m\"raw_input was called, but this frontend does not support input requests.\"\u001b[0m\u001b[0;34m\u001b[0m\u001b[0;34m\u001b[0m\u001b[0m\n\u001b[1;32m   1176\u001b[0m             )\n\u001b[0;32m-> 1177\u001b[0;31m         return self._input_request(\n\u001b[0m\u001b[1;32m   1178\u001b[0m             \u001b[0mstr\u001b[0m\u001b[0;34m(\u001b[0m\u001b[0mprompt\u001b[0m\u001b[0;34m)\u001b[0m\u001b[0;34m,\u001b[0m\u001b[0;34m\u001b[0m\u001b[0;34m\u001b[0m\u001b[0m\n\u001b[1;32m   1179\u001b[0m             \u001b[0mself\u001b[0m\u001b[0;34m.\u001b[0m\u001b[0m_parent_ident\u001b[0m\u001b[0;34m[\u001b[0m\u001b[0;34m\"shell\"\u001b[0m\u001b[0;34m]\u001b[0m\u001b[0;34m,\u001b[0m\u001b[0;34m\u001b[0m\u001b[0;34m\u001b[0m\u001b[0m\n",
      "\u001b[0;32m~/opt/anaconda3/lib/python3.9/site-packages/ipykernel/kernelbase.py\u001b[0m in \u001b[0;36m_input_request\u001b[0;34m(self, prompt, ident, parent, password)\u001b[0m\n\u001b[1;32m   1217\u001b[0m             \u001b[0;32mexcept\u001b[0m \u001b[0mKeyboardInterrupt\u001b[0m\u001b[0;34m:\u001b[0m\u001b[0;34m\u001b[0m\u001b[0;34m\u001b[0m\u001b[0m\n\u001b[1;32m   1218\u001b[0m                 \u001b[0;31m# re-raise KeyboardInterrupt, to truncate traceback\u001b[0m\u001b[0;34m\u001b[0m\u001b[0;34m\u001b[0m\u001b[0m\n\u001b[0;32m-> 1219\u001b[0;31m                 \u001b[0;32mraise\u001b[0m \u001b[0mKeyboardInterrupt\u001b[0m\u001b[0;34m(\u001b[0m\u001b[0;34m\"Interrupted by user\"\u001b[0m\u001b[0;34m)\u001b[0m \u001b[0;32mfrom\u001b[0m \u001b[0;32mNone\u001b[0m\u001b[0;34m\u001b[0m\u001b[0;34m\u001b[0m\u001b[0m\n\u001b[0m\u001b[1;32m   1220\u001b[0m             \u001b[0;32mexcept\u001b[0m \u001b[0mException\u001b[0m\u001b[0;34m:\u001b[0m\u001b[0;34m\u001b[0m\u001b[0;34m\u001b[0m\u001b[0m\n\u001b[1;32m   1221\u001b[0m                 \u001b[0mself\u001b[0m\u001b[0;34m.\u001b[0m\u001b[0mlog\u001b[0m\u001b[0;34m.\u001b[0m\u001b[0mwarning\u001b[0m\u001b[0;34m(\u001b[0m\u001b[0;34m\"Invalid Message:\"\u001b[0m\u001b[0;34m,\u001b[0m \u001b[0mexc_info\u001b[0m\u001b[0;34m=\u001b[0m\u001b[0;32mTrue\u001b[0m\u001b[0;34m)\u001b[0m\u001b[0;34m\u001b[0m\u001b[0;34m\u001b[0m\u001b[0m\n",
      "\u001b[0;31mKeyboardInterrupt\u001b[0m: Interrupted by user"
     ]
    }
   ],
   "source": [
    "# 무한루프\n",
    "\n",
    "print(\"(Enter -1 to terminate entering numbers.)\")\n",
    "number = 0\n",
    "while number >= 0:\n",
    "    number = eval(input(\"Enter a number to square: \"))\n",
    "    number = number*number\n",
    "    print(number)"
   ]
  },
  {
   "cell_type": "code",
   "execution_count": 74,
   "id": "d20308bc",
   "metadata": {},
   "outputs": [
    {
     "name": "stdout",
     "output_type": "stream",
     "text": [
      "가위(0), 바위(1), 보(2) 중 하나를 입력하세요(종료 q): 0\n",
      "당신은 이겼습니다. (당신: 가위, 컴퓨터: 보)\n",
      "가위(0), 바위(1), 보(2) 중 하나를 입력하세요(종료 q): 0\n",
      "당신은 비겼습니다. (당신: 가위, 컴퓨터: 가위)\n",
      "가위(0), 바위(1), 보(2) 중 하나를 입력하세요(종료 q): 0\n",
      "당신은 비겼습니다. (당신: 가위, 컴퓨터: 가위)\n",
      "가위(0), 바위(1), 보(2) 중 하나를 입력하세요(종료 q): 0\n",
      "당신은 졌습니다. (당신: 가위, 컴퓨터: 바위)\n",
      "가위(0), 바위(1), 보(2) 중 하나를 입력하세요(종료 q): q\n",
      "총 4번의 게임에서 1승 2무승부 1패하셨습니다.\n"
     ]
    }
   ],
   "source": [
    "# while 예제2\n",
    "\n",
    "import random\n",
    "\n",
    "list1 = [\"가위\", \"바위\", \"보\"]\n",
    "count = 0\n",
    "\n",
    "win = 0\n",
    "lose = 0\n",
    "even = 0\n",
    "\n",
    "while True:\n",
    "    \n",
    "    input1 = input(\"가위(0), 바위(1), 보(2) 중 하나를 입력하세요(종료 q): \")\n",
    "    if input1 == 'q':\n",
    "        break\n",
    "    count += 1    \n",
    "    user = list1[int(input1)]\n",
    "    com = list1[random.choice(range(0,3))]\n",
    "    \n",
    "    if user == \"가위\":\n",
    "        if com == \"바위\":\n",
    "            lose += 1\n",
    "            print(\"당신은 졌습니다. (당신: {}, 컴퓨터: {})\".format(user, com))\n",
    "        elif com == \"보\":\n",
    "            win += 1\n",
    "            print(\"당신은 이겼습니다. (당신: {}, 컴퓨터: {})\".format(user, com))\n",
    "        else:\n",
    "            even += 1\n",
    "            print(\"당신은 비겼습니다. (당신: {}, 컴퓨터: {})\".format(user, com))\n",
    "    elif user == \"바위\":\n",
    "        if com == \"바위\":\n",
    "            even += 1\n",
    "            print(\"당신은 비겼습니다. (당신: {}, 컴퓨터: {})\".format(user, com))\n",
    "        elif com == \"보\":\n",
    "            lose += 1\n",
    "            print(\"당신은 졌습니다. (당신: {}, 컴퓨터: {})\".format(user, com))\n",
    "        else:\n",
    "            win += 1\n",
    "            print(\"당신은 이겼습니다. (당신: {}, 컴퓨터: {})\".format(user, com))\n",
    "    else:\n",
    "        if com == \"바위\":\n",
    "            win += 1\n",
    "            print(\"당신은 이겼습니다. (당신: {}, 컴퓨터: {})\".format(user, com))\n",
    "        elif com == \"보\":\n",
    "            even += 1\n",
    "            print(\"당신은 비겼습니다. (당신: {}, 컴퓨터: {})\".format(user, com))\n",
    "        else:\n",
    "            lose += 1\n",
    "            print(\"당신은 졌습니다. (당신: {}, 컴퓨터: {})\".format(user, com))\n",
    "            \n",
    "print(\"총 {}번의 게임에서 {}승 {}무승부 {}패하셨습니다.\".format(count, win, even, lose))\n"
   ]
  },
  {
   "cell_type": "code",
   "execution_count": 68,
   "id": "b4f686b7",
   "metadata": {},
   "outputs": [
    {
     "name": "stdout",
     "output_type": "stream",
     "text": [
      "3\n"
     ]
    }
   ],
   "source": [
    "import random\n",
    "x = random.choice(range(1,4))\n",
    "print(x)"
   ]
  },
  {
   "cell_type": "code",
   "execution_count": null,
   "id": "3d23c305",
   "metadata": {},
   "outputs": [],
   "source": []
  }
 ],
 "metadata": {
  "kernelspec": {
   "display_name": "Python 3 (ipykernel)",
   "language": "python",
   "name": "python3"
  },
  "language_info": {
   "codemirror_mode": {
    "name": "ipython",
    "version": 3
   },
   "file_extension": ".py",
   "mimetype": "text/x-python",
   "name": "python",
   "nbconvert_exporter": "python",
   "pygments_lexer": "ipython3",
   "version": "3.9.13"
  }
 },
 "nbformat": 4,
 "nbformat_minor": 5
}
