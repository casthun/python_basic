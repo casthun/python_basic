{
 "cells": [
  {
   "cell_type": "markdown",
   "id": "e5779255",
   "metadata": {},
   "source": [
    "## if 문"
   ]
  },
  {
   "cell_type": "code",
   "execution_count": 9,
   "id": "faa18550",
   "metadata": {},
   "outputs": [
    {
     "name": "stdout",
     "output_type": "stream",
     "text": [
      "양의 정수를 입력하시오. :4\n"
     ]
    }
   ],
   "source": [
    "num = input(\"양의 정수를 입력하시오. :\")\n",
    "if int(num) > 10:\n",
    "    print(num+\"은(는) 10보다 큽니다.\")"
   ]
  },
  {
   "cell_type": "code",
   "execution_count": 8,
   "id": "686fc8ae",
   "metadata": {},
   "outputs": [
    {
     "name": "stdout",
     "output_type": "stream",
     "text": [
      "양의 정수를 입력하시오. :5\n",
      "5은(는) 10보다 작거나 같습니다.\n"
     ]
    }
   ],
   "source": [
    "num = input(\"양의 정수를 입력하시오. :\")\n",
    "if int(num) > 10:\n",
    "    print(num+\"은(는) 10보다 큽니다.\")\n",
    "else:\n",
    "    print(num+\"은(는) 10보다 작거나 같습니다.\")"
   ]
  },
  {
   "cell_type": "code",
   "execution_count": 12,
   "id": "b01fc597",
   "metadata": {},
   "outputs": [
    {
     "name": "stdout",
     "output_type": "stream",
     "text": [
      "Less than ten.\n"
     ]
    }
   ],
   "source": [
    "num = 7\n",
    "if num <= 9:\n",
    "    print(\"Less than ten.\")\n",
    "elif num == 10:\n",
    "    print(\"Equal to ten.\")"
   ]
  },
  {
   "cell_type": "code",
   "execution_count": 4,
   "id": "2edda316",
   "metadata": {},
   "outputs": [
    {
     "name": "stdout",
     "output_type": "stream",
     "text": [
      "정수를 입력하시오. : 55\n",
      "More than ten.\n"
     ]
    }
   ],
   "source": [
    "num = eval(input(\"정수를 입력하시오. : \"))\n",
    "if num <= 9:\n",
    "    print(\"Less than ten.\")\n",
    "elif num == 10:\n",
    "    print(\"Equal to ten.\")\n",
    "else:\n",
    "    print(\"More than ten.\")"
   ]
  },
  {
   "cell_type": "code",
   "execution_count": 13,
   "id": "59e3a956",
   "metadata": {},
   "outputs": [
    {
     "name": "stdout",
     "output_type": "stream",
     "text": [
      "Student\n"
     ]
    }
   ],
   "source": [
    "gpa = 3.2\n",
    "result = \"\"\n",
    "if gpa >= 3.5:\n",
    "    result = \"Honors \"\n",
    "print(result + \"Student\")"
   ]
  },
  {
   "cell_type": "code",
   "execution_count": 15,
   "id": "0de3d585",
   "metadata": {},
   "outputs": [
    {
     "name": "stdout",
     "output_type": "stream",
     "text": [
      "Enter the first number: 9\n",
      "Enter the second number: 4\n",
      "The larger value is 9.\n"
     ]
    }
   ],
   "source": [
    "num1 = eval(input(\"Enter the first number: \"))\n",
    "num2 = eval(input(\"Enter the second number: \"))\n",
    "\n",
    "if num1 > num2:\n",
    "    largerValue = num1\n",
    "else:\n",
    "    largerValue = num2\n",
    "    \n",
    "print(\"The larger value is\", str(largerValue) + \".\")"
   ]
  },
  {
   "cell_type": "code",
   "execution_count": 7,
   "id": "d861dcaa",
   "metadata": {},
   "outputs": [
    {
     "name": "stdout",
     "output_type": "stream",
     "text": [
      "Enter the first number: 5\n",
      "Enter the second number: 5\n",
      "The two numbers are equal.\n"
     ]
    }
   ],
   "source": [
    "num1 = eval(input(\"Enter the first number: \"))\n",
    "num2 = eval(input(\"Enter the second number: \"))\n",
    "\n",
    "if num1 > num2:\n",
    "    largerValue = num1\n",
    "    print(\"The larger value is\", str(largerValue) + \".\")\n",
    "elif num2 > num1:\n",
    "    largerValue = num2\n",
    "    print(\"The larger value is\", str(largerValue) + \".\")\n",
    "else:\n",
    "    print(\"The two numbers are equal.\")"
   ]
  },
  {
   "cell_type": "code",
   "execution_count": 17,
   "id": "bf0c3b17",
   "metadata": {},
   "outputs": [
    {
     "name": "stdout",
     "output_type": "stream",
     "text": [
      "Enter total costs($): 6000\n",
      "Enter total revenue($): 4000\n",
      "Loss is $2000\n"
     ]
    }
   ],
   "source": [
    "costs = eval(input(\"Enter total costs($): \"))\n",
    "revenue = eval(input(\"Enter total revenue($): \"))\n",
    "\n",
    "if costs == revenue:\n",
    "    result = \"Break even.\"\n",
    "else:\n",
    "    if costs < revenue:\n",
    "        profit = revenue - costs\n",
    "        result = \"Profit is ${}\".format(profit)\n",
    "    else:\n",
    "        loss = costs - revenue\n",
    "        result = \"Loss is ${}\".format(loss)\n",
    "\n",
    "print(result)"
   ]
  },
  {
   "cell_type": "code",
   "execution_count": 20,
   "id": "17ab1fac",
   "metadata": {},
   "outputs": [
    {
     "name": "stdout",
     "output_type": "stream",
     "text": [
      "Enter the first number: 5\n",
      "Enter the second number: 5\n",
      "The two values are equal.\n"
     ]
    }
   ],
   "source": [
    "num1 = eval(input(\"Enter the first number: \"))\n",
    "num2 = eval(input(\"Enter the second number: \"))\n",
    "\n",
    "if num1 > num2:\n",
    "    print(\"The larger value is\", str(num1)+\".\")\n",
    "elif num2 > num1:\n",
    "    print(\"The lager value is\", str(num2)+\".\")\n",
    "else:\n",
    "    print(\"The two values are equal.\")"
   ]
  },
  {
   "cell_type": "code",
   "execution_count": 23,
   "id": "ea0c182f",
   "metadata": {},
   "outputs": [
    {
     "name": "stdout",
     "output_type": "stream",
     "text": [
      "Enter you gpa: 4.3\n",
      "You graduated summa cum laude.\n"
     ]
    }
   ],
   "source": [
    "gpa = eval(input(\"Enter your gpa: \"))\n",
    "\n",
    "if gpa >= 3.9:\n",
    "    honors = \" summa cum laude.\"\n",
    "elif gpa >= 3.6:\n",
    "    honors = \" magna cum laude.\"\n",
    "elif gpa >= 3.3:\n",
    "    honors = \" cum laude.\"\n",
    "else:\n",
    "    honors = \".\"\n",
    "    \n",
    "print(\"You graduated\" + honors)"
   ]
  },
  {
   "cell_type": "code",
   "execution_count": 11,
   "id": "d7c6da0f",
   "metadata": {},
   "outputs": [
    {
     "name": "stdout",
     "output_type": "stream",
     "text": [
      "Enter the first number: a\n",
      "Enter the second number: 2\n",
      "The first entry was not a proper number.\n"
     ]
    }
   ],
   "source": [
    "num1 = input(\"Enter the first number: \")\n",
    "num2 = input(\"Enter the second number: \")\n",
    "\n",
    "# 둘 다 숫자인 경우\n",
    "if num1.isdigit() and num2.isdigit():\n",
    "    print(\"The sum is\", str(eval(num1)+eval(num2))+\".\")\n",
    "\n",
    "# num1이 숫자가 아닌 경우\n",
    "elif not num1.isdigit():\n",
    "    # num2도 숫자가 아닌 경우\n",
    "    if not num2.isdigit():\n",
    "        print(\"Neither entry was a proper number.\")\n",
    "    # num1만 숫자인 경우\n",
    "    else:\n",
    "        print(\"The first entry was not a proper number.\")\n",
    "# num2만 숫자가 아닌 경우\n",
    "else:\n",
    "    print(\"The second entry was not a proper number.\")"
   ]
  },
  {
   "cell_type": "code",
   "execution_count": 12,
   "id": "690c3f1e",
   "metadata": {},
   "outputs": [
    {
     "name": "stdout",
     "output_type": "stream",
     "text": [
      "A nonzero number is true.\n",
      "An empty list is false.\n",
      "A nonempty list is true.\n"
     ]
    }
   ],
   "source": [
    "if 7:\n",
    "    print(\"A nonzero number is true.\")\n",
    "else:\n",
    "    print(\"The number zero is false.\")\n",
    "    \n",
    "if []:\n",
    "    print(\"A nonempty list is true.\")\n",
    "else:\n",
    "    print(\"An empty list is false.\")\n",
    "    \n",
    "if [\"spam\"]:\n",
    "    print(\"A nonempty list is true.\")\n",
    "else:\n",
    "    print(\"The empty list is false.\")"
   ]
  },
  {
   "cell_type": "code",
   "execution_count": null,
   "id": "dcbb9ae7",
   "metadata": {},
   "outputs": [],
   "source": []
  },
  {
   "cell_type": "code",
   "execution_count": 10,
   "id": "62ecb2ad",
   "metadata": {},
   "outputs": [],
   "source": [
    "# 예제 - 46~48 페이지"
   ]
  },
  {
   "cell_type": "code",
   "execution_count": null,
   "id": "66af68a6",
   "metadata": {},
   "outputs": [],
   "source": []
  },
  {
   "cell_type": "code",
   "execution_count": null,
   "id": "b5e9ce3d",
   "metadata": {},
   "outputs": [],
   "source": []
  },
  {
   "cell_type": "markdown",
   "id": "27d80ac8",
   "metadata": {},
   "source": [
    "## while 문"
   ]
  },
  {
   "cell_type": "code",
   "execution_count": 23,
   "id": "32b3f757",
   "metadata": {},
   "outputs": [
    {
     "name": "stdout",
     "output_type": "stream",
     "text": [
      "1\n",
      "2\n",
      "3\n",
      "4\n",
      "5\n"
     ]
    }
   ],
   "source": [
    "num = 1\n",
    "\n",
    "# while문 조건이 거짓이 될 때까지 명령문이 실행됨.\n",
    "\n",
    "while num <= 5:\n",
    "    print(num)\n",
    "    num += 1"
   ]
  },
  {
   "cell_type": "code",
   "execution_count": 24,
   "id": "19f3ad42",
   "metadata": {},
   "outputs": [
    {
     "name": "stdout",
     "output_type": "stream",
     "text": [
      "20\n"
     ]
    }
   ],
   "source": [
    "num = 5\n",
    "while True:\n",
    "    num = 2*num\n",
    "    if num % 4 == 0:\n",
    "        break\n",
    "print(num)"
   ]
  },
  {
   "cell_type": "code",
   "execution_count": 32,
   "id": "f6ca9551",
   "metadata": {},
   "outputs": [
    {
     "name": "stdout",
     "output_type": "stream",
     "text": [
      "55\n"
     ]
    }
   ],
   "source": [
    "total = 0\n",
    "num = 1\n",
    "\n",
    "while True:\n",
    "    total += num\n",
    "    num += 1\n",
    "    # 1~10까지 더한 수의 합을 계산\n",
    "    if num == 11:\n",
    "        break\n",
    "\n",
    "print(total)"
   ]
  },
  {
   "cell_type": "code",
   "execution_count": 25,
   "id": "6b7ee62e",
   "metadata": {},
   "outputs": [
    {
     "name": "stdout",
     "output_type": "stream",
     "text": [
      "18\n"
     ]
    }
   ],
   "source": [
    "num = 3\n",
    "while num < 15:\n",
    "    num += 5\n",
    "print(num)"
   ]
  },
  {
   "cell_type": "code",
   "execution_count": 26,
   "id": "b864226b",
   "metadata": {},
   "outputs": [
    {
     "name": "stdout",
     "output_type": "stream",
     "text": [
      "55\n"
     ]
    }
   ],
   "source": [
    "total = 0\n",
    "num = 1\n",
    "\n",
    "while num <= 10:\n",
    "    total += num\n",
    "    num += 1\n",
    "print(total)"
   ]
  },
  {
   "cell_type": "code",
   "execution_count": 27,
   "id": "38fb721a",
   "metadata": {},
   "outputs": [
    {
     "name": "stdout",
     "output_type": "stream",
     "text": [
      "20\n"
     ]
    }
   ],
   "source": [
    "list1 = [2,4,6,8]\n",
    "total = 0\n",
    "while list1:\n",
    "    total += list1[0]\n",
    "    list1 = list1[1:]\n",
    "print(total)"
   ]
  },
  {
   "cell_type": "code",
   "execution_count": 11,
   "id": "f45ed903",
   "metadata": {},
   "outputs": [
    {
     "name": "stdout",
     "output_type": "stream",
     "text": [
      "(Enter -1 to terminate entering numbers.)\n",
      "Enter a nonnegative number: 2\n",
      "Enter a nonnegative number: 3\n",
      "Enter a nonnegative number: 4\n",
      "Enter a nonnegative number: 5\n",
      "Enter a nonnegative number: -1\n",
      "Minimum:  2\n",
      "Maximum:  5\n",
      "Average:  3.5\n"
     ]
    }
   ],
   "source": [
    "count = 0\n",
    "total = 0\n",
    "\n",
    "# -1을 입력하는 경우 프로그램 종료\n",
    "print(\"(Enter -1 to terminate entering numbers.)\")\n",
    "\n",
    "# 양수를 입력\n",
    "num = eval(input(\"Enter a nonnegative number: \"))\n",
    "\n",
    "# 초기 입력값을 min, max로 설정\n",
    "min = num\n",
    "max = num\n",
    "\n",
    "# -1을 입력할 때까지 while문이 반복됨.\n",
    "while num != -1:\n",
    "    count += 1\n",
    "    total += num\n",
    "    if num < min:\n",
    "        min = num\n",
    "    if num > max:\n",
    "        max = num\n",
    "    # 입력값에 따라 min, max 값이 달라짐.\n",
    "    num = eval(input(\"Enter a nonnegative number: \"))\n",
    "    \n",
    "if count > 0:\n",
    "    print(\"Minimum: \", min)\n",
    "    print(\"Maximum: \", max)\n",
    "    print(\"Average: \", total/count)\n",
    "    \n",
    "else: # count = 0 인 경우, 프로그램 처음 실행시 -1을 입력한 경우\n",
    "    print(\"No nonnegative numbers were entered.\")"
   ]
  },
  {
   "cell_type": "code",
   "execution_count": 33,
   "id": "ccd60a62",
   "metadata": {},
   "outputs": [
    {
     "name": "stdout",
     "output_type": "stream",
     "text": [
      "33 is the first int that is divisible by 11.\n"
     ]
    }
   ],
   "source": [
    "list1 = [\"one\", 23, 17.5, 'two', 33, 22.1, 242, \"three\"]\n",
    "i = 0\n",
    "foundFlag = False\n",
    "\n",
    "while i < len(list1):\n",
    "    x = list1[i]\n",
    "    i += 1\n",
    "    if not isinstance(x, int): \n",
    "        continue # x가 정수가 아닌 경우 리스트 다음 항목으로 이동\n",
    "        \n",
    "    # x가 정수인 경우 11로 나누어 떨어지면 아래 조건문이 실행됨.\n",
    "    if x % 11 == 0:\n",
    "        foundFlag = True\n",
    "        print(x, \"is the first int that is divisible by 11.\")\n",
    "        break\n",
    "\n",
    "# foundFlag가 True인 경우 아래 조건문은 실행되지 않음.\n",
    "if not foundFlag:\n",
    "    print(\"There is no int in the list that is divisible by 11.\")"
   ]
  },
  {
   "cell_type": "code",
   "execution_count": 2,
   "id": "3e16364c",
   "metadata": {},
   "outputs": [
    {
     "name": "stdout",
     "output_type": "stream",
     "text": [
      "Enter a number from the menu to obtain a fact\n",
      "about the US or to exit the program.\n",
      "\n",
      "1. Capital\n",
      "2. National Bird\n",
      "3. National Flower\n",
      "4. Quit\n",
      "\n",
      "Make a selection from the menu: 2\n",
      "The American Bald Eagle is the national bird.\n",
      "Make a selection from the menu: 1\n",
      "Washington, DC is the capital of US.\n",
      "Make a selection from the menu: 4\n"
     ]
    }
   ],
   "source": [
    "print(\"Enter a number from the menu to obtain a fact\")\n",
    "print(\"about the US or to exit the program.\\n\")\n",
    "print(\"1. Capital\")\n",
    "print(\"2. National Bird\")\n",
    "print(\"3. National Flower\")\n",
    "print(\"4. Quit\\n\")\n",
    "\n",
    "while True:\n",
    "    num = int(input(\"Make a selection from the menu: \"))\n",
    "    if num == 1:\n",
    "        print(\"Washington, DC is the capital of US.\")\n",
    "    elif num == 2:\n",
    "        print(\"The American Bald Eagle is the national bird.\")\n",
    "    elif num == 3:\n",
    "        print(\"The Rose is the national flower.\")\n",
    "    elif num == 4:\n",
    "        break"
   ]
  },
  {
   "cell_type": "code",
   "execution_count": 12,
   "id": "02a1e23a",
   "metadata": {},
   "outputs": [
    {
     "name": "stdout",
     "output_type": "stream",
     "text": [
      "(Enter -1 to terminate entering numbers.)\n",
      "Enter a number to square: 1\n",
      "1\n",
      "Enter a number to square: 2\n",
      "4\n",
      "Enter a number to square: 3\n",
      "9\n",
      "Enter a number to square: 2\n",
      "4\n",
      "Enter a number to square: 1\n",
      "1\n",
      "Enter a number to square: -1\n",
      "1\n"
     ]
    },
    {
     "ename": "KeyboardInterrupt",
     "evalue": "Interrupted by user",
     "output_type": "error",
     "traceback": [
      "\u001b[0;31m---------------------------------------------------------------------------\u001b[0m",
      "\u001b[0;31mKeyboardInterrupt\u001b[0m                         Traceback (most recent call last)",
      "Input \u001b[0;32mIn [12]\u001b[0m, in \u001b[0;36m<cell line: 5>\u001b[0;34m()\u001b[0m\n\u001b[1;32m      4\u001b[0m number \u001b[38;5;241m=\u001b[39m \u001b[38;5;241m0\u001b[39m\n\u001b[1;32m      5\u001b[0m \u001b[38;5;28;01mwhile\u001b[39;00m number \u001b[38;5;241m>\u001b[39m\u001b[38;5;241m=\u001b[39m \u001b[38;5;241m0\u001b[39m:\n\u001b[0;32m----> 6\u001b[0m     number \u001b[38;5;241m=\u001b[39m \u001b[38;5;28meval\u001b[39m(\u001b[38;5;28;43minput\u001b[39;49m\u001b[43m(\u001b[49m\u001b[38;5;124;43m\"\u001b[39;49m\u001b[38;5;124;43mEnter a number to square: \u001b[39;49m\u001b[38;5;124;43m\"\u001b[39;49m\u001b[43m)\u001b[49m)\n\u001b[1;32m      7\u001b[0m     number \u001b[38;5;241m=\u001b[39m number\u001b[38;5;241m*\u001b[39mnumber\n\u001b[1;32m      8\u001b[0m     \u001b[38;5;28mprint\u001b[39m(number)\n",
      "File \u001b[0;32m~/opt/anaconda3/lib/python3.9/site-packages/ipykernel/kernelbase.py:1177\u001b[0m, in \u001b[0;36mKernel.raw_input\u001b[0;34m(self, prompt)\u001b[0m\n\u001b[1;32m   1173\u001b[0m \u001b[38;5;28;01mif\u001b[39;00m \u001b[38;5;129;01mnot\u001b[39;00m \u001b[38;5;28mself\u001b[39m\u001b[38;5;241m.\u001b[39m_allow_stdin:\n\u001b[1;32m   1174\u001b[0m     \u001b[38;5;28;01mraise\u001b[39;00m StdinNotImplementedError(\n\u001b[1;32m   1175\u001b[0m         \u001b[38;5;124m\"\u001b[39m\u001b[38;5;124mraw_input was called, but this frontend does not support input requests.\u001b[39m\u001b[38;5;124m\"\u001b[39m\n\u001b[1;32m   1176\u001b[0m     )\n\u001b[0;32m-> 1177\u001b[0m \u001b[38;5;28;01mreturn\u001b[39;00m \u001b[38;5;28;43mself\u001b[39;49m\u001b[38;5;241;43m.\u001b[39;49m\u001b[43m_input_request\u001b[49m\u001b[43m(\u001b[49m\n\u001b[1;32m   1178\u001b[0m \u001b[43m    \u001b[49m\u001b[38;5;28;43mstr\u001b[39;49m\u001b[43m(\u001b[49m\u001b[43mprompt\u001b[49m\u001b[43m)\u001b[49m\u001b[43m,\u001b[49m\n\u001b[1;32m   1179\u001b[0m \u001b[43m    \u001b[49m\u001b[38;5;28;43mself\u001b[39;49m\u001b[38;5;241;43m.\u001b[39;49m\u001b[43m_parent_ident\u001b[49m\u001b[43m[\u001b[49m\u001b[38;5;124;43m\"\u001b[39;49m\u001b[38;5;124;43mshell\u001b[39;49m\u001b[38;5;124;43m\"\u001b[39;49m\u001b[43m]\u001b[49m\u001b[43m,\u001b[49m\n\u001b[1;32m   1180\u001b[0m \u001b[43m    \u001b[49m\u001b[38;5;28;43mself\u001b[39;49m\u001b[38;5;241;43m.\u001b[39;49m\u001b[43mget_parent\u001b[49m\u001b[43m(\u001b[49m\u001b[38;5;124;43m\"\u001b[39;49m\u001b[38;5;124;43mshell\u001b[39;49m\u001b[38;5;124;43m\"\u001b[39;49m\u001b[43m)\u001b[49m\u001b[43m,\u001b[49m\n\u001b[1;32m   1181\u001b[0m \u001b[43m    \u001b[49m\u001b[43mpassword\u001b[49m\u001b[38;5;241;43m=\u001b[39;49m\u001b[38;5;28;43;01mFalse\u001b[39;49;00m\u001b[43m,\u001b[49m\n\u001b[1;32m   1182\u001b[0m \u001b[43m\u001b[49m\u001b[43m)\u001b[49m\n",
      "File \u001b[0;32m~/opt/anaconda3/lib/python3.9/site-packages/ipykernel/kernelbase.py:1219\u001b[0m, in \u001b[0;36mKernel._input_request\u001b[0;34m(self, prompt, ident, parent, password)\u001b[0m\n\u001b[1;32m   1216\u001b[0m             \u001b[38;5;28;01mbreak\u001b[39;00m\n\u001b[1;32m   1217\u001b[0m \u001b[38;5;28;01mexcept\u001b[39;00m \u001b[38;5;167;01mKeyboardInterrupt\u001b[39;00m:\n\u001b[1;32m   1218\u001b[0m     \u001b[38;5;66;03m# re-raise KeyboardInterrupt, to truncate traceback\u001b[39;00m\n\u001b[0;32m-> 1219\u001b[0m     \u001b[38;5;28;01mraise\u001b[39;00m \u001b[38;5;167;01mKeyboardInterrupt\u001b[39;00m(\u001b[38;5;124m\"\u001b[39m\u001b[38;5;124mInterrupted by user\u001b[39m\u001b[38;5;124m\"\u001b[39m) \u001b[38;5;28;01mfrom\u001b[39;00m \u001b[38;5;28mNone\u001b[39m\n\u001b[1;32m   1220\u001b[0m \u001b[38;5;28;01mexcept\u001b[39;00m \u001b[38;5;167;01mException\u001b[39;00m:\n\u001b[1;32m   1221\u001b[0m     \u001b[38;5;28mself\u001b[39m\u001b[38;5;241m.\u001b[39mlog\u001b[38;5;241m.\u001b[39mwarning(\u001b[38;5;124m\"\u001b[39m\u001b[38;5;124mInvalid Message:\u001b[39m\u001b[38;5;124m\"\u001b[39m, exc_info\u001b[38;5;241m=\u001b[39m\u001b[38;5;28;01mTrue\u001b[39;00m)\n",
      "\u001b[0;31mKeyboardInterrupt\u001b[0m: Interrupted by user"
     ]
    }
   ],
   "source": [
    "# 무한루프\n",
    "# while 조건이 False가 되는 조건이 없어 while문이 무한실행됨.\n",
    "\n",
    "print(\"(Enter -1 to terminate entering numbers.)\")\n",
    "number = 0\n",
    "while number >= 0:\n",
    "    number = eval(input(\"Enter a number to square: \"))\n",
    "    number = number*number\n",
    "    print(number)"
   ]
  },
  {
   "cell_type": "code",
   "execution_count": null,
   "id": "9f4adfcd",
   "metadata": {},
   "outputs": [],
   "source": []
  },
  {
   "cell_type": "code",
   "execution_count": 13,
   "id": "a787b6d4",
   "metadata": {},
   "outputs": [],
   "source": [
    "# 예제 - 50~51 페이지"
   ]
  },
  {
   "cell_type": "code",
   "execution_count": null,
   "id": "cdc335dc",
   "metadata": {},
   "outputs": [],
   "source": []
  },
  {
   "cell_type": "code",
   "execution_count": null,
   "id": "4ffd7e46",
   "metadata": {},
   "outputs": [],
   "source": []
  },
  {
   "cell_type": "code",
   "execution_count": null,
   "id": "3d23c305",
   "metadata": {},
   "outputs": [],
   "source": []
  }
 ],
 "metadata": {
  "kernelspec": {
   "display_name": "Python 3 (ipykernel)",
   "language": "python",
   "name": "python3"
  },
  "language_info": {
   "codemirror_mode": {
    "name": "ipython",
    "version": 3
   },
   "file_extension": ".py",
   "mimetype": "text/x-python",
   "name": "python",
   "nbconvert_exporter": "python",
   "pygments_lexer": "ipython3",
   "version": "3.9.13"
  }
 },
 "nbformat": 4,
 "nbformat_minor": 5
}
